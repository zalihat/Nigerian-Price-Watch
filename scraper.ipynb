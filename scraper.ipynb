{
  "nbformat": 4,
  "nbformat_minor": 0,
  "metadata": {
    "colab": {
      "provenance": [],
      "authorship_tag": "ABX9TyOttWWJK1oww9IBe+cEDMFq",
      "include_colab_link": true
    },
    "kernelspec": {
      "name": "python3",
      "display_name": "Python 3"
    },
    "language_info": {
      "name": "python"
    }
  },
  "cells": [
    {
      "cell_type": "markdown",
      "metadata": {
        "id": "view-in-github",
        "colab_type": "text"
      },
      "source": [
        "<a href=\"https://colab.research.google.com/github/zalihat/Nigerian-Price-Watch/blob/data_scraping/scraper.ipynb\" target=\"_parent\"><img src=\"https://colab.research.google.com/assets/colab-badge.svg\" alt=\"Open In Colab\"/></a>"
      ]
    },
    {
      "cell_type": "markdown",
      "source": [
        "# Nigerian price watch \n",
        "Data from http://nigerianstat.gov.ng/ "
      ],
      "metadata": {
        "id": "LqlV3JFZWYwF"
      }
    },
    {
      "cell_type": "code",
      "execution_count": null,
      "metadata": {
        "id": "G4Xiy-eFBjRr"
      },
      "outputs": [],
      "source": [
        "#import libraries\n",
        "from bs4 import BeautifulSoup\n",
        "import requests\n",
        "import urllib.request \n",
        "import logging\n",
        "import warnings\n",
        "warnings.filterwarnings(\"ignore\")\n",
        "logging.basicConfig(level=logging.INFO)"
      ]
    },
    {
      "cell_type": "code",
      "source": [
        "def get_page_link(month_year):\n",
        "  url = 'https://nigerianstat.gov.ng/elibrary'\n",
        "  request=urllib.request.Request(url,) #The assembled request\n",
        "  response = urllib.request.urlopen(request)\n",
        "  soup = BeautifulSoup(response, 'html.parser')\n",
        "  for tr in soup.find_all('tr'):\n",
        "    rw = tr.findAll('td')\n",
        "    if 'food prices' in tr.text.lower() and month_year in tr.text.lower() :\n",
        "      result = rw\n",
        "  links = []\n",
        "  for a in result[-1].find_all('a', href=True):\n",
        "    links.append(a['href'])\n",
        "  return links\n"
      ],
      "metadata": {
        "id": "gQWWRlLzJcLm"
      },
      "execution_count": 56,
      "outputs": []
    },
    {
      "cell_type": "code",
      "source": [
        "get_page_link('august 2022')"
      ],
      "metadata": {
        "colab": {
          "base_uri": "https://localhost:8080/"
        },
        "id": "Je3TGTYEJ4Sc",
        "outputId": "6535236e-101a-470d-c6a8-9230bdda4a58"
      },
      "execution_count": 55,
      "outputs": [
        {
          "output_type": "execute_result",
          "data": {
            "text/plain": [
              "['https://nigerianstat.gov.ng/elibrary/read/1241235']"
            ]
          },
          "metadata": {},
          "execution_count": 55
        }
      ]
    },
    {
      "cell_type": "code",
      "source": [],
      "metadata": {
        "id": "fREFNXLKCD1r"
      },
      "execution_count": null,
      "outputs": []
    },
    {
      "cell_type": "code",
      "source": [
        "\n",
        "def get_data_link():\n",
        "  url = get_page_link('august 2022')[0]\n",
        "\n",
        "  request=urllib.request.Request(url,) #The assembled request\n",
        "\n",
        "  response = urllib.request.urlopen(request)\n",
        "  soup = BeautifulSoup(response, 'html.parser')\n",
        "  links = []\n",
        "  for a in soup.find_all('a', href=True):\n",
        "      links.append(a['href'])\n",
        "  links = links[2:]\n",
        "  links = [link.replace(' ', '%20') for link in links if '.xlsx'  in link.lower()]\n",
        "  return links[0]\n",
        "get_data_link()"
      ],
      "metadata": {
        "id": "Y6UGb1y3WoAt",
        "colab": {
          "base_uri": "https://localhost:8080/"
        },
        "outputId": "31eb37b3-8eda-46c8-9d6c-864f3878e6a8"
      },
      "execution_count": 57,
      "outputs": [
        {
          "output_type": "execute_result",
          "data": {
            "text/plain": [
              "['https://nigerianstat.gov.ng/resource/SELECTED%20FOOD%20AUGUST%202022.xlsx']"
            ]
          },
          "metadata": {},
          "execution_count": 57
        }
      ]
    },
    {
      "cell_type": "code",
      "source": [
        "from bs4 import BeautifulSoup\n",
        "import requests\n",
        "import urllib.request \n",
        "import logging\n",
        "import warnings\n",
        "warnings.filterwarnings(\"ignore\")\n",
        "logging.basicConfig(level=logging.INFO)\n",
        "\n",
        "class Crawler:\n",
        "  def __init__(self, url, commodity, month_year):\n",
        "    self.url = url \n",
        "    self.month_year = month_year\n",
        "    self.commodity = commodity\n",
        "  def get_page_link(self):\n",
        "    # \n",
        "    request=urllib.request.Request(self.url,) #The assembled request\n",
        "    response = urllib.request.urlopen(request)\n",
        "    soup = BeautifulSoup(response, 'html.parser')\n",
        "    for tr in soup.find_all('tr'):\n",
        "      rw = tr.findAll('td')\n",
        "      if self.commodity in tr.text.lower() and self.month_year in tr.text.lower():\n",
        "        result = rw\n",
        "    links = []\n",
        "    for a in result[-1].find_all('a', href=True):\n",
        "      links.append(a['href'])\n",
        "    return links[0]\n",
        "\n",
        "  def get_data_link(self, link_to_page):\n",
        "\n",
        "    request=urllib.request.Request(link_to_page,) #The assembled request\n",
        "    response = urllib.request.urlopen(request)\n",
        "    soup = BeautifulSoup(response, 'html.parser')\n",
        "    links = []\n",
        "    for a in soup.find_all('a', href=True):\n",
        "      links.append(a['href'])\n",
        "    links = links[2:]\n",
        "    links = [link.replace(' ', '%20') for link in links if '.xlsx'  in link.lower()]\n",
        "    return links[0]"
      ],
      "metadata": {
        "id": "SHzVs6T2hoNG"
      },
      "execution_count": 83,
      "outputs": []
    },
    {
      "cell_type": "code",
      "source": [
        "url = 'https://nigerianstat.gov.ng/elibrary'\n",
        "food_crawler = Crawler(url, 'food price', 'august 2022')\n",
        "data_link = food_crawler.get_data_link(food_crawler.get_page_link())"
      ],
      "metadata": {
        "id": "5RI9BMBWkWRE"
      },
      "execution_count": 84,
      "outputs": []
    },
    {
      "cell_type": "code",
      "source": [
        "data_link"
      ],
      "metadata": {
        "colab": {
          "base_uri": "https://localhost:8080/",
          "height": 36
        },
        "id": "sVboFx1lmgTe",
        "outputId": "c3d70865-d743-418e-d22a-f643b46275f0"
      },
      "execution_count": 85,
      "outputs": [
        {
          "output_type": "execute_result",
          "data": {
            "text/plain": [
              "'https://nigerianstat.gov.ng/resource/SELECTED%20FOOD%20AUGUST%202022.xlsx'"
            ],
            "application/vnd.google.colaboratory.intrinsic+json": {
              "type": "string"
            }
          },
          "metadata": {},
          "execution_count": 85
        }
      ]
    },
    {
      "cell_type": "code",
      "source": [],
      "metadata": {
        "id": "k9fz8rA_p0TT"
      },
      "execution_count": 88,
      "outputs": []
    },
    {
      "cell_type": "code",
      "source": [],
      "metadata": {
        "id": "qLRv0jUPrBaF"
      },
      "execution_count": null,
      "outputs": []
    }
  ]
}