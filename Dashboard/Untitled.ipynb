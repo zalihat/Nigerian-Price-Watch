{
 "cells": [
  {
   "cell_type": "code",
   "execution_count": 1,
   "id": "f1e1780d",
   "metadata": {},
   "outputs": [],
   "source": [
    "import pandas as pd\n",
    "import plotly.express as px"
   ]
  },
  {
   "cell_type": "markdown",
   "id": "1a92bc7b",
   "metadata": {},
   "source": [
    "# Others"
   ]
  },
  {
   "cell_type": "code",
   "execution_count": 14,
   "id": "c1f6572e",
   "metadata": {},
   "outputs": [
    {
     "data": {
      "text/html": [
       "<div>\n",
       "<style scoped>\n",
       "    .dataframe tbody tr th:only-of-type {\n",
       "        vertical-align: middle;\n",
       "    }\n",
       "\n",
       "    .dataframe tbody tr th {\n",
       "        vertical-align: top;\n",
       "    }\n",
       "\n",
       "    .dataframe thead th {\n",
       "        text-align: right;\n",
       "    }\n",
       "</style>\n",
       "<table border=\"1\" class=\"dataframe\">\n",
       "  <thead>\n",
       "    <tr style=\"text-align: right;\">\n",
       "      <th></th>\n",
       "      <th>Date</th>\n",
       "      <th>Abia</th>\n",
       "      <th>Abuja</th>\n",
       "      <th>Adamawa</th>\n",
       "      <th>Akwa Ibom</th>\n",
       "      <th>Anambra</th>\n",
       "      <th>Bauchi</th>\n",
       "      <th>Bayelsa</th>\n",
       "      <th>Benue</th>\n",
       "      <th>Borno</th>\n",
       "      <th>...</th>\n",
       "      <th>Ogun</th>\n",
       "      <th>Ondo</th>\n",
       "      <th>Osun</th>\n",
       "      <th>Oyo</th>\n",
       "      <th>Plateau</th>\n",
       "      <th>Rivers</th>\n",
       "      <th>Sokoto</th>\n",
       "      <th>Taraba</th>\n",
       "      <th>Yobe</th>\n",
       "      <th>Zamfara</th>\n",
       "    </tr>\n",
       "  </thead>\n",
       "  <tbody>\n",
       "    <tr>\n",
       "      <th>79</th>\n",
       "      <td>2022-08-01</td>\n",
       "      <td>924.0</td>\n",
       "      <td>934.0</td>\n",
       "      <td>984.0</td>\n",
       "      <td>823.8</td>\n",
       "      <td>861.8</td>\n",
       "      <td>836.7</td>\n",
       "      <td>913.5</td>\n",
       "      <td>907.5</td>\n",
       "      <td>905.1</td>\n",
       "      <td>...</td>\n",
       "      <td>811.4</td>\n",
       "      <td>837.9</td>\n",
       "      <td>860.9</td>\n",
       "      <td>926.7</td>\n",
       "      <td>933.3</td>\n",
       "      <td>852.7</td>\n",
       "      <td>816.7</td>\n",
       "      <td>985.1</td>\n",
       "      <td>815.7</td>\n",
       "      <td>900.0</td>\n",
       "    </tr>\n",
       "    <tr>\n",
       "      <th>80</th>\n",
       "      <td>2022-09-01</td>\n",
       "      <td>808.9</td>\n",
       "      <td>936.8</td>\n",
       "      <td>985.7</td>\n",
       "      <td>881.2</td>\n",
       "      <td>820.0</td>\n",
       "      <td>894.9</td>\n",
       "      <td>827.8</td>\n",
       "      <td>930.0</td>\n",
       "      <td>905.7</td>\n",
       "      <td>...</td>\n",
       "      <td>830.8</td>\n",
       "      <td>839.4</td>\n",
       "      <td>849.2</td>\n",
       "      <td>938.8</td>\n",
       "      <td>940.0</td>\n",
       "      <td>834.4</td>\n",
       "      <td>825.0</td>\n",
       "      <td>900.0</td>\n",
       "      <td>837.7</td>\n",
       "      <td>970.0</td>\n",
       "    </tr>\n",
       "    <tr>\n",
       "      <th>81</th>\n",
       "      <td>2022-10-01</td>\n",
       "      <td>809.1</td>\n",
       "      <td>935.0</td>\n",
       "      <td>988.1</td>\n",
       "      <td>872.3</td>\n",
       "      <td>832.9</td>\n",
       "      <td>914.7</td>\n",
       "      <td>835.4</td>\n",
       "      <td>932.0</td>\n",
       "      <td>910.0</td>\n",
       "      <td>...</td>\n",
       "      <td>841.1</td>\n",
       "      <td>854.4</td>\n",
       "      <td>852.3</td>\n",
       "      <td>939.1</td>\n",
       "      <td>942.0</td>\n",
       "      <td>835.6</td>\n",
       "      <td>847.0</td>\n",
       "      <td>915.0</td>\n",
       "      <td>840.0</td>\n",
       "      <td>973.0</td>\n",
       "    </tr>\n",
       "    <tr>\n",
       "      <th>82</th>\n",
       "      <td>2022-11-01</td>\n",
       "      <td>825.0</td>\n",
       "      <td>975.0</td>\n",
       "      <td>992.0</td>\n",
       "      <td>873.7</td>\n",
       "      <td>840.8</td>\n",
       "      <td>920.0</td>\n",
       "      <td>850.0</td>\n",
       "      <td>990.0</td>\n",
       "      <td>911.7</td>\n",
       "      <td>...</td>\n",
       "      <td>865.0</td>\n",
       "      <td>854.7</td>\n",
       "      <td>876.2</td>\n",
       "      <td>959.3</td>\n",
       "      <td>977.5</td>\n",
       "      <td>876.5</td>\n",
       "      <td>852.5</td>\n",
       "      <td>920.0</td>\n",
       "      <td>858.4</td>\n",
       "      <td>976.9</td>\n",
       "    </tr>\n",
       "    <tr>\n",
       "      <th>83</th>\n",
       "      <td>2022-12-01</td>\n",
       "      <td>839.2</td>\n",
       "      <td>960.0</td>\n",
       "      <td>986.7</td>\n",
       "      <td>857.0</td>\n",
       "      <td>836.4</td>\n",
       "      <td>900.0</td>\n",
       "      <td>901.4</td>\n",
       "      <td>976.7</td>\n",
       "      <td>912.7</td>\n",
       "      <td>...</td>\n",
       "      <td>866.0</td>\n",
       "      <td>878.3</td>\n",
       "      <td>878.2</td>\n",
       "      <td>949.7</td>\n",
       "      <td>983.5</td>\n",
       "      <td>841.5</td>\n",
       "      <td>854.0</td>\n",
       "      <td>922.0</td>\n",
       "      <td>861.5</td>\n",
       "      <td>975.8</td>\n",
       "    </tr>\n",
       "  </tbody>\n",
       "</table>\n",
       "<p>5 rows × 38 columns</p>\n",
       "</div>"
      ],
      "text/plain": [
       "          Date   Abia  Abuja  Adamawa  Akwa Ibom  Anambra  Bauchi  Bayelsa  \\\n",
       "79  2022-08-01  924.0  934.0    984.0      823.8    861.8   836.7    913.5   \n",
       "80  2022-09-01  808.9  936.8    985.7      881.2    820.0   894.9    827.8   \n",
       "81  2022-10-01  809.1  935.0    988.1      872.3    832.9   914.7    835.4   \n",
       "82  2022-11-01  825.0  975.0    992.0      873.7    840.8   920.0    850.0   \n",
       "83  2022-12-01  839.2  960.0    986.7      857.0    836.4   900.0    901.4   \n",
       "\n",
       "    Benue  Borno  ...   Ogun   Ondo   Osun    Oyo  Plateau  Rivers  Sokoto  \\\n",
       "79  907.5  905.1  ...  811.4  837.9  860.9  926.7    933.3   852.7   816.7   \n",
       "80  930.0  905.7  ...  830.8  839.4  849.2  938.8    940.0   834.4   825.0   \n",
       "81  932.0  910.0  ...  841.1  854.4  852.3  939.1    942.0   835.6   847.0   \n",
       "82  990.0  911.7  ...  865.0  854.7  876.2  959.3    977.5   876.5   852.5   \n",
       "83  976.7  912.7  ...  866.0  878.3  878.2  949.7    983.5   841.5   854.0   \n",
       "\n",
       "    Taraba   Yobe  Zamfara  \n",
       "79   985.1  815.7    900.0  \n",
       "80   900.0  837.7    970.0  \n",
       "81   915.0  840.0    973.0  \n",
       "82   920.0  858.4    976.9  \n",
       "83   922.0  861.5    975.8  \n",
       "\n",
       "[5 rows x 38 columns]"
      ]
     },
     "execution_count": 14,
     "metadata": {},
     "output_type": "execute_result"
    }
   ],
   "source": [
    "gas = pd.read_csv(\"data/gas_data.csv\")\n",
    "gas.tail()"
   ]
  },
  {
   "cell_type": "code",
   "execution_count": 15,
   "id": "969097d5",
   "metadata": {},
   "outputs": [
    {
     "data": {
      "text/plain": [
       "Date           2022-12-01\n",
       "Abia                839.2\n",
       "Abuja               960.0\n",
       "Adamawa             986.7\n",
       "Akwa Ibom           857.0\n",
       "Anambra             836.4\n",
       "Bauchi              900.0\n",
       "Bayelsa             901.4\n",
       "Benue               976.7\n",
       "Borno               912.7\n",
       "Cross River         931.4\n",
       "Delta               850.0\n",
       "Ebonyi              915.7\n",
       "Edo                 898.3\n",
       "Ekiti               860.0\n",
       "Enugu               845.8\n",
       "Gombe               930.0\n",
       "Imo                 949.2\n",
       "Jigawa              926.0\n",
       "Kaduna              976.7\n",
       "Kano                893.3\n",
       "Katsina             883.3\n",
       "Kebbi               916.2\n",
       "Kogi                952.0\n",
       "Kwara               990.0\n",
       "Lagos               971.2\n",
       "Nassarawa           932.0\n",
       "Niger               983.3\n",
       "Ogun                866.0\n",
       "Ondo                878.3\n",
       "Osun                878.2\n",
       "Oyo                 949.7\n",
       "Plateau             983.5\n",
       "Rivers              841.5\n",
       "Sokoto              854.0\n",
       "Taraba              922.0\n",
       "Yobe                861.5\n",
       "Zamfara             975.8\n",
       "Name: 83, dtype: object"
      ]
     },
     "execution_count": 15,
     "metadata": {},
     "output_type": "execute_result"
    }
   ],
   "source": [
    "gas.loc[gas.index[-1]]"
   ]
  },
  {
   "cell_type": "code",
   "execution_count": 9,
   "id": "9dbcb645",
   "metadata": {},
   "outputs": [],
   "source": [
    "def get_current_price(df, state):\n",
    "    price = df.loc[df.index[-1], state]\n",
    "    return price"
   ]
  },
  {
   "cell_type": "code",
   "execution_count": 11,
   "id": "d7dec04c",
   "metadata": {},
   "outputs": [
    {
     "data": {
      "text/plain": [
       "839.2"
      ]
     },
     "execution_count": 11,
     "metadata": {},
     "output_type": "execute_result"
    }
   ],
   "source": [
    "get_current_price(gas, 'Abia')"
   ]
  },
  {
   "cell_type": "code",
   "execution_count": 29,
   "id": "1b48de92",
   "metadata": {},
   "outputs": [
    {
     "data": {
      "text/plain": [
       "Anambra        836.4\n",
       "Abia           839.2\n",
       "Rivers         841.5\n",
       "Enugu          845.8\n",
       "Delta          850.0\n",
       "Sokoto         854.0\n",
       "Akwa Ibom      857.0\n",
       "Ekiti          860.0\n",
       "Yobe           861.5\n",
       "Ogun           866.0\n",
       "Osun           878.2\n",
       "Ondo           878.3\n",
       "Katsina        883.3\n",
       "Kano           893.3\n",
       "Edo            898.3\n",
       "Bauchi         900.0\n",
       "Bayelsa        901.4\n",
       "Borno          912.7\n",
       "Ebonyi         915.7\n",
       "Kebbi          916.2\n",
       "Taraba         922.0\n",
       "Jigawa         926.0\n",
       "Gombe          930.0\n",
       "Cross River    931.4\n",
       "Nassarawa      932.0\n",
       "Imo            949.2\n",
       "Oyo            949.7\n",
       "Kogi           952.0\n",
       "Abuja          960.0\n",
       "Lagos          971.2\n",
       "Zamfara        975.8\n",
       "Benue          976.7\n",
       "Kaduna         976.7\n",
       "Niger          983.3\n",
       "Plateau        983.5\n",
       "Adamawa        986.7\n",
       "Kwara          990.0\n",
       "Name: 83, dtype: object"
      ]
     },
     "execution_count": 29,
     "metadata": {},
     "output_type": "execute_result"
    }
   ],
   "source": [
    "a = gas.loc[gas.index[-1]]\n",
    "a.iloc[1:].sort_values()\n"
   ]
  },
  {
   "cell_type": "code",
   "execution_count": 50,
   "id": "23b43e6b",
   "metadata": {},
   "outputs": [
    {
     "data": {
      "text/plain": [
       "'Anambra(836.4)'"
      ]
     },
     "execution_count": 50,
     "metadata": {},
     "output_type": "execute_result"
    }
   ],
   "source": [
    "a_ =  a.iloc[1:].astype('float')\n",
    "b = str(a_.min())\n",
    "max_ = a_.idxmin()\n",
    "max_\n",
    "b\n",
    "\n",
    "s = '{} ({})'.format(max_, b)\n",
    "s"
   ]
  },
  {
   "cell_type": "code",
   "execution_count": 33,
   "id": "e5485377",
   "metadata": {},
   "outputs": [],
   "source": [
    "def get_current_price(df, state):\n",
    "    price = df.loc[df.index[-1], state]\n",
    "    return price\n",
    "def get_lowest_price(df):\n",
    "    prices = df.loc[df.index[-1]]\n",
    "    prices = prices.iloc[1:].astype('float')\n",
    "    max_state = prices.idxmin()\n",
    "    return max_state\n",
    "def get_highest_price(df):\n",
    "    prices = df.loc[df.index[-1]]\n",
    "    prices = prices.iloc[1:].astype('float')\n",
    "    min_state = prices.idxmax()\n",
    "    return min_state\n",
    "    "
   ]
  },
  {
   "cell_type": "code",
   "execution_count": 31,
   "id": "d57f4c52",
   "metadata": {},
   "outputs": [
    {
     "data": {
      "text/plain": [
       "'Anambra'"
      ]
     },
     "execution_count": 31,
     "metadata": {},
     "output_type": "execute_result"
    }
   ],
   "source": [
    "get_lowest_price(gas)"
   ]
  },
  {
   "cell_type": "code",
   "execution_count": 34,
   "id": "f4dc80eb",
   "metadata": {},
   "outputs": [
    {
     "data": {
      "text/plain": [
       "'Kwara'"
      ]
     },
     "execution_count": 34,
     "metadata": {},
     "output_type": "execute_result"
    }
   ],
   "source": [
    "get_highest_price(gas)"
   ]
  },
  {
   "cell_type": "code",
   "execution_count": 13,
   "id": "81524ee0",
   "metadata": {},
   "outputs": [
    {
     "data": {
      "text/html": [
       "<div>\n",
       "<style scoped>\n",
       "    .dataframe tbody tr th:only-of-type {\n",
       "        vertical-align: middle;\n",
       "    }\n",
       "\n",
       "    .dataframe tbody tr th {\n",
       "        vertical-align: top;\n",
       "    }\n",
       "\n",
       "    .dataframe thead th {\n",
       "        text-align: right;\n",
       "    }\n",
       "</style>\n",
       "<table border=\"1\" class=\"dataframe\">\n",
       "  <thead>\n",
       "    <tr style=\"text-align: right;\">\n",
       "      <th></th>\n",
       "      <th>index</th>\n",
       "      <th>Price</th>\n",
       "    </tr>\n",
       "  </thead>\n",
       "  <tbody>\n",
       "    <tr>\n",
       "      <th>0</th>\n",
       "      <td>Benue</td>\n",
       "      <td>976.7</td>\n",
       "    </tr>\n",
       "    <tr>\n",
       "      <th>1</th>\n",
       "      <td>Kaduna</td>\n",
       "      <td>976.7</td>\n",
       "    </tr>\n",
       "    <tr>\n",
       "      <th>2</th>\n",
       "      <td>Niger</td>\n",
       "      <td>983.3</td>\n",
       "    </tr>\n",
       "    <tr>\n",
       "      <th>3</th>\n",
       "      <td>Plateau</td>\n",
       "      <td>983.5</td>\n",
       "    </tr>\n",
       "    <tr>\n",
       "      <th>4</th>\n",
       "      <td>Adamawa</td>\n",
       "      <td>986.7</td>\n",
       "    </tr>\n",
       "    <tr>\n",
       "      <th>5</th>\n",
       "      <td>Kwara</td>\n",
       "      <td>990.0</td>\n",
       "    </tr>\n",
       "  </tbody>\n",
       "</table>\n",
       "</div>"
      ],
      "text/plain": [
       "     index  Price\n",
       "0    Benue  976.7\n",
       "1   Kaduna  976.7\n",
       "2    Niger  983.3\n",
       "3  Plateau  983.5\n",
       "4  Adamawa  986.7\n",
       "5    Kwara  990.0"
      ]
     },
     "execution_count": 13,
     "metadata": {},
     "output_type": "execute_result"
    }
   ],
   "source": [
    "df= gas.loc[gas.index[-1]]\n",
    "df = df.iloc[1:].sort_values()[-6:]\n",
    "\n",
    "df = df.reset_index(name = 'Price')\n",
    "# df['index']df\n",
    "df"
   ]
  },
  {
   "cell_type": "code",
   "execution_count": null,
   "id": "a560a639",
   "metadata": {},
   "outputs": [],
   "source": [
    "df[:6]"
   ]
  },
  {
   "cell_type": "code",
   "execution_count": 69,
   "id": "a9f99717",
   "metadata": {},
   "outputs": [
    {
     "data": {
      "application/vnd.plotly.v1+json": {
       "config": {
        "plotlyServerURL": "https://plot.ly"
       },
       "data": [
        {
         "alignmentgroup": "True",
         "hovertemplate": "Price=%{x}<br>index=%{y}<extra></extra>",
         "legendgroup": "",
         "marker": {
          "color": "#636efa",
          "pattern": {
           "shape": ""
          }
         },
         "name": "",
         "offsetgroup": "",
         "orientation": "h",
         "showlegend": false,
         "textposition": "auto",
         "type": "bar",
         "x": [
          836.4,
          839.2,
          841.5,
          845.8,
          850,
          854
         ],
         "xaxis": "x",
         "y": [
          "Anambra",
          "Abia",
          "Rivers",
          "Enugu",
          "Delta",
          "Sokoto"
         ],
         "yaxis": "y"
        }
       ],
       "layout": {
        "barmode": "relative",
        "legend": {
         "tracegroupgap": 0
        },
        "margin": {
         "t": 60
        },
        "template": {
         "data": {
          "bar": [
           {
            "error_x": {
             "color": "#2a3f5f"
            },
            "error_y": {
             "color": "#2a3f5f"
            },
            "marker": {
             "line": {
              "color": "#E5ECF6",
              "width": 0.5
             },
             "pattern": {
              "fillmode": "overlay",
              "size": 10,
              "solidity": 0.2
             }
            },
            "type": "bar"
           }
          ],
          "barpolar": [
           {
            "marker": {
             "line": {
              "color": "#E5ECF6",
              "width": 0.5
             },
             "pattern": {
              "fillmode": "overlay",
              "size": 10,
              "solidity": 0.2
             }
            },
            "type": "barpolar"
           }
          ],
          "carpet": [
           {
            "aaxis": {
             "endlinecolor": "#2a3f5f",
             "gridcolor": "white",
             "linecolor": "white",
             "minorgridcolor": "white",
             "startlinecolor": "#2a3f5f"
            },
            "baxis": {
             "endlinecolor": "#2a3f5f",
             "gridcolor": "white",
             "linecolor": "white",
             "minorgridcolor": "white",
             "startlinecolor": "#2a3f5f"
            },
            "type": "carpet"
           }
          ],
          "choropleth": [
           {
            "colorbar": {
             "outlinewidth": 0,
             "ticks": ""
            },
            "type": "choropleth"
           }
          ],
          "contour": [
           {
            "colorbar": {
             "outlinewidth": 0,
             "ticks": ""
            },
            "colorscale": [
             [
              0,
              "#0d0887"
             ],
             [
              0.1111111111111111,
              "#46039f"
             ],
             [
              0.2222222222222222,
              "#7201a8"
             ],
             [
              0.3333333333333333,
              "#9c179e"
             ],
             [
              0.4444444444444444,
              "#bd3786"
             ],
             [
              0.5555555555555556,
              "#d8576b"
             ],
             [
              0.6666666666666666,
              "#ed7953"
             ],
             [
              0.7777777777777778,
              "#fb9f3a"
             ],
             [
              0.8888888888888888,
              "#fdca26"
             ],
             [
              1,
              "#f0f921"
             ]
            ],
            "type": "contour"
           }
          ],
          "contourcarpet": [
           {
            "colorbar": {
             "outlinewidth": 0,
             "ticks": ""
            },
            "type": "contourcarpet"
           }
          ],
          "heatmap": [
           {
            "colorbar": {
             "outlinewidth": 0,
             "ticks": ""
            },
            "colorscale": [
             [
              0,
              "#0d0887"
             ],
             [
              0.1111111111111111,
              "#46039f"
             ],
             [
              0.2222222222222222,
              "#7201a8"
             ],
             [
              0.3333333333333333,
              "#9c179e"
             ],
             [
              0.4444444444444444,
              "#bd3786"
             ],
             [
              0.5555555555555556,
              "#d8576b"
             ],
             [
              0.6666666666666666,
              "#ed7953"
             ],
             [
              0.7777777777777778,
              "#fb9f3a"
             ],
             [
              0.8888888888888888,
              "#fdca26"
             ],
             [
              1,
              "#f0f921"
             ]
            ],
            "type": "heatmap"
           }
          ],
          "heatmapgl": [
           {
            "colorbar": {
             "outlinewidth": 0,
             "ticks": ""
            },
            "colorscale": [
             [
              0,
              "#0d0887"
             ],
             [
              0.1111111111111111,
              "#46039f"
             ],
             [
              0.2222222222222222,
              "#7201a8"
             ],
             [
              0.3333333333333333,
              "#9c179e"
             ],
             [
              0.4444444444444444,
              "#bd3786"
             ],
             [
              0.5555555555555556,
              "#d8576b"
             ],
             [
              0.6666666666666666,
              "#ed7953"
             ],
             [
              0.7777777777777778,
              "#fb9f3a"
             ],
             [
              0.8888888888888888,
              "#fdca26"
             ],
             [
              1,
              "#f0f921"
             ]
            ],
            "type": "heatmapgl"
           }
          ],
          "histogram": [
           {
            "marker": {
             "pattern": {
              "fillmode": "overlay",
              "size": 10,
              "solidity": 0.2
             }
            },
            "type": "histogram"
           }
          ],
          "histogram2d": [
           {
            "colorbar": {
             "outlinewidth": 0,
             "ticks": ""
            },
            "colorscale": [
             [
              0,
              "#0d0887"
             ],
             [
              0.1111111111111111,
              "#46039f"
             ],
             [
              0.2222222222222222,
              "#7201a8"
             ],
             [
              0.3333333333333333,
              "#9c179e"
             ],
             [
              0.4444444444444444,
              "#bd3786"
             ],
             [
              0.5555555555555556,
              "#d8576b"
             ],
             [
              0.6666666666666666,
              "#ed7953"
             ],
             [
              0.7777777777777778,
              "#fb9f3a"
             ],
             [
              0.8888888888888888,
              "#fdca26"
             ],
             [
              1,
              "#f0f921"
             ]
            ],
            "type": "histogram2d"
           }
          ],
          "histogram2dcontour": [
           {
            "colorbar": {
             "outlinewidth": 0,
             "ticks": ""
            },
            "colorscale": [
             [
              0,
              "#0d0887"
             ],
             [
              0.1111111111111111,
              "#46039f"
             ],
             [
              0.2222222222222222,
              "#7201a8"
             ],
             [
              0.3333333333333333,
              "#9c179e"
             ],
             [
              0.4444444444444444,
              "#bd3786"
             ],
             [
              0.5555555555555556,
              "#d8576b"
             ],
             [
              0.6666666666666666,
              "#ed7953"
             ],
             [
              0.7777777777777778,
              "#fb9f3a"
             ],
             [
              0.8888888888888888,
              "#fdca26"
             ],
             [
              1,
              "#f0f921"
             ]
            ],
            "type": "histogram2dcontour"
           }
          ],
          "mesh3d": [
           {
            "colorbar": {
             "outlinewidth": 0,
             "ticks": ""
            },
            "type": "mesh3d"
           }
          ],
          "parcoords": [
           {
            "line": {
             "colorbar": {
              "outlinewidth": 0,
              "ticks": ""
             }
            },
            "type": "parcoords"
           }
          ],
          "pie": [
           {
            "automargin": true,
            "type": "pie"
           }
          ],
          "scatter": [
           {
            "fillpattern": {
             "fillmode": "overlay",
             "size": 10,
             "solidity": 0.2
            },
            "type": "scatter"
           }
          ],
          "scatter3d": [
           {
            "line": {
             "colorbar": {
              "outlinewidth": 0,
              "ticks": ""
             }
            },
            "marker": {
             "colorbar": {
              "outlinewidth": 0,
              "ticks": ""
             }
            },
            "type": "scatter3d"
           }
          ],
          "scattercarpet": [
           {
            "marker": {
             "colorbar": {
              "outlinewidth": 0,
              "ticks": ""
             }
            },
            "type": "scattercarpet"
           }
          ],
          "scattergeo": [
           {
            "marker": {
             "colorbar": {
              "outlinewidth": 0,
              "ticks": ""
             }
            },
            "type": "scattergeo"
           }
          ],
          "scattergl": [
           {
            "marker": {
             "colorbar": {
              "outlinewidth": 0,
              "ticks": ""
             }
            },
            "type": "scattergl"
           }
          ],
          "scattermapbox": [
           {
            "marker": {
             "colorbar": {
              "outlinewidth": 0,
              "ticks": ""
             }
            },
            "type": "scattermapbox"
           }
          ],
          "scatterpolar": [
           {
            "marker": {
             "colorbar": {
              "outlinewidth": 0,
              "ticks": ""
             }
            },
            "type": "scatterpolar"
           }
          ],
          "scatterpolargl": [
           {
            "marker": {
             "colorbar": {
              "outlinewidth": 0,
              "ticks": ""
             }
            },
            "type": "scatterpolargl"
           }
          ],
          "scatterternary": [
           {
            "marker": {
             "colorbar": {
              "outlinewidth": 0,
              "ticks": ""
             }
            },
            "type": "scatterternary"
           }
          ],
          "surface": [
           {
            "colorbar": {
             "outlinewidth": 0,
             "ticks": ""
            },
            "colorscale": [
             [
              0,
              "#0d0887"
             ],
             [
              0.1111111111111111,
              "#46039f"
             ],
             [
              0.2222222222222222,
              "#7201a8"
             ],
             [
              0.3333333333333333,
              "#9c179e"
             ],
             [
              0.4444444444444444,
              "#bd3786"
             ],
             [
              0.5555555555555556,
              "#d8576b"
             ],
             [
              0.6666666666666666,
              "#ed7953"
             ],
             [
              0.7777777777777778,
              "#fb9f3a"
             ],
             [
              0.8888888888888888,
              "#fdca26"
             ],
             [
              1,
              "#f0f921"
             ]
            ],
            "type": "surface"
           }
          ],
          "table": [
           {
            "cells": {
             "fill": {
              "color": "#EBF0F8"
             },
             "line": {
              "color": "white"
             }
            },
            "header": {
             "fill": {
              "color": "#C8D4E3"
             },
             "line": {
              "color": "white"
             }
            },
            "type": "table"
           }
          ]
         },
         "layout": {
          "annotationdefaults": {
           "arrowcolor": "#2a3f5f",
           "arrowhead": 0,
           "arrowwidth": 1
          },
          "autotypenumbers": "strict",
          "coloraxis": {
           "colorbar": {
            "outlinewidth": 0,
            "ticks": ""
           }
          },
          "colorscale": {
           "diverging": [
            [
             0,
             "#8e0152"
            ],
            [
             0.1,
             "#c51b7d"
            ],
            [
             0.2,
             "#de77ae"
            ],
            [
             0.3,
             "#f1b6da"
            ],
            [
             0.4,
             "#fde0ef"
            ],
            [
             0.5,
             "#f7f7f7"
            ],
            [
             0.6,
             "#e6f5d0"
            ],
            [
             0.7,
             "#b8e186"
            ],
            [
             0.8,
             "#7fbc41"
            ],
            [
             0.9,
             "#4d9221"
            ],
            [
             1,
             "#276419"
            ]
           ],
           "sequential": [
            [
             0,
             "#0d0887"
            ],
            [
             0.1111111111111111,
             "#46039f"
            ],
            [
             0.2222222222222222,
             "#7201a8"
            ],
            [
             0.3333333333333333,
             "#9c179e"
            ],
            [
             0.4444444444444444,
             "#bd3786"
            ],
            [
             0.5555555555555556,
             "#d8576b"
            ],
            [
             0.6666666666666666,
             "#ed7953"
            ],
            [
             0.7777777777777778,
             "#fb9f3a"
            ],
            [
             0.8888888888888888,
             "#fdca26"
            ],
            [
             1,
             "#f0f921"
            ]
           ],
           "sequentialminus": [
            [
             0,
             "#0d0887"
            ],
            [
             0.1111111111111111,
             "#46039f"
            ],
            [
             0.2222222222222222,
             "#7201a8"
            ],
            [
             0.3333333333333333,
             "#9c179e"
            ],
            [
             0.4444444444444444,
             "#bd3786"
            ],
            [
             0.5555555555555556,
             "#d8576b"
            ],
            [
             0.6666666666666666,
             "#ed7953"
            ],
            [
             0.7777777777777778,
             "#fb9f3a"
            ],
            [
             0.8888888888888888,
             "#fdca26"
            ],
            [
             1,
             "#f0f921"
            ]
           ]
          },
          "colorway": [
           "#636efa",
           "#EF553B",
           "#00cc96",
           "#ab63fa",
           "#FFA15A",
           "#19d3f3",
           "#FF6692",
           "#B6E880",
           "#FF97FF",
           "#FECB52"
          ],
          "font": {
           "color": "#2a3f5f"
          },
          "geo": {
           "bgcolor": "white",
           "lakecolor": "white",
           "landcolor": "#E5ECF6",
           "showlakes": true,
           "showland": true,
           "subunitcolor": "white"
          },
          "hoverlabel": {
           "align": "left"
          },
          "hovermode": "closest",
          "mapbox": {
           "style": "light"
          },
          "paper_bgcolor": "white",
          "plot_bgcolor": "#E5ECF6",
          "polar": {
           "angularaxis": {
            "gridcolor": "white",
            "linecolor": "white",
            "ticks": ""
           },
           "bgcolor": "#E5ECF6",
           "radialaxis": {
            "gridcolor": "white",
            "linecolor": "white",
            "ticks": ""
           }
          },
          "scene": {
           "xaxis": {
            "backgroundcolor": "#E5ECF6",
            "gridcolor": "white",
            "gridwidth": 2,
            "linecolor": "white",
            "showbackground": true,
            "ticks": "",
            "zerolinecolor": "white"
           },
           "yaxis": {
            "backgroundcolor": "#E5ECF6",
            "gridcolor": "white",
            "gridwidth": 2,
            "linecolor": "white",
            "showbackground": true,
            "ticks": "",
            "zerolinecolor": "white"
           },
           "zaxis": {
            "backgroundcolor": "#E5ECF6",
            "gridcolor": "white",
            "gridwidth": 2,
            "linecolor": "white",
            "showbackground": true,
            "ticks": "",
            "zerolinecolor": "white"
           }
          },
          "shapedefaults": {
           "line": {
            "color": "#2a3f5f"
           }
          },
          "ternary": {
           "aaxis": {
            "gridcolor": "white",
            "linecolor": "white",
            "ticks": ""
           },
           "baxis": {
            "gridcolor": "white",
            "linecolor": "white",
            "ticks": ""
           },
           "bgcolor": "#E5ECF6",
           "caxis": {
            "gridcolor": "white",
            "linecolor": "white",
            "ticks": ""
           }
          },
          "title": {
           "x": 0.05
          },
          "xaxis": {
           "automargin": true,
           "gridcolor": "white",
           "linecolor": "white",
           "ticks": "",
           "title": {
            "standoff": 15
           },
           "zerolinecolor": "white",
           "zerolinewidth": 2
          },
          "yaxis": {
           "automargin": true,
           "gridcolor": "white",
           "linecolor": "white",
           "ticks": "",
           "title": {
            "standoff": 15
           },
           "zerolinecolor": "white",
           "zerolinewidth": 2
          }
         }
        },
        "xaxis": {
         "anchor": "y",
         "domain": [
          0,
          1
         ],
         "title": {
          "text": "Price"
         }
        },
        "yaxis": {
         "anchor": "x",
         "domain": [
          0,
          1
         ],
         "title": {
          "text": "index"
         }
        }
       }
      },
      "text/html": [
       "<div>                            <div id=\"10fc9c4e-3f9b-4642-a937-08086eeca30b\" class=\"plotly-graph-div\" style=\"height:525px; width:100%;\"></div>            <script type=\"text/javascript\">                require([\"plotly\"], function(Plotly) {                    window.PLOTLYENV=window.PLOTLYENV || {};                                    if (document.getElementById(\"10fc9c4e-3f9b-4642-a937-08086eeca30b\")) {                    Plotly.newPlot(                        \"10fc9c4e-3f9b-4642-a937-08086eeca30b\",                        [{\"alignmentgroup\":\"True\",\"hovertemplate\":\"Price=%{x}<br>index=%{y}<extra></extra>\",\"legendgroup\":\"\",\"marker\":{\"color\":\"#636efa\",\"pattern\":{\"shape\":\"\"}},\"name\":\"\",\"offsetgroup\":\"\",\"orientation\":\"h\",\"showlegend\":false,\"textposition\":\"auto\",\"x\":[836.4,839.2,841.5,845.8,850.0,854.0],\"xaxis\":\"x\",\"y\":[\"Anambra\",\"Abia\",\"Rivers\",\"Enugu\",\"Delta\",\"Sokoto\"],\"yaxis\":\"y\",\"type\":\"bar\"}],                        {\"template\":{\"data\":{\"histogram2dcontour\":[{\"type\":\"histogram2dcontour\",\"colorbar\":{\"outlinewidth\":0,\"ticks\":\"\"},\"colorscale\":[[0.0,\"#0d0887\"],[0.1111111111111111,\"#46039f\"],[0.2222222222222222,\"#7201a8\"],[0.3333333333333333,\"#9c179e\"],[0.4444444444444444,\"#bd3786\"],[0.5555555555555556,\"#d8576b\"],[0.6666666666666666,\"#ed7953\"],[0.7777777777777778,\"#fb9f3a\"],[0.8888888888888888,\"#fdca26\"],[1.0,\"#f0f921\"]]}],\"choropleth\":[{\"type\":\"choropleth\",\"colorbar\":{\"outlinewidth\":0,\"ticks\":\"\"}}],\"histogram2d\":[{\"type\":\"histogram2d\",\"colorbar\":{\"outlinewidth\":0,\"ticks\":\"\"},\"colorscale\":[[0.0,\"#0d0887\"],[0.1111111111111111,\"#46039f\"],[0.2222222222222222,\"#7201a8\"],[0.3333333333333333,\"#9c179e\"],[0.4444444444444444,\"#bd3786\"],[0.5555555555555556,\"#d8576b\"],[0.6666666666666666,\"#ed7953\"],[0.7777777777777778,\"#fb9f3a\"],[0.8888888888888888,\"#fdca26\"],[1.0,\"#f0f921\"]]}],\"heatmap\":[{\"type\":\"heatmap\",\"colorbar\":{\"outlinewidth\":0,\"ticks\":\"\"},\"colorscale\":[[0.0,\"#0d0887\"],[0.1111111111111111,\"#46039f\"],[0.2222222222222222,\"#7201a8\"],[0.3333333333333333,\"#9c179e\"],[0.4444444444444444,\"#bd3786\"],[0.5555555555555556,\"#d8576b\"],[0.6666666666666666,\"#ed7953\"],[0.7777777777777778,\"#fb9f3a\"],[0.8888888888888888,\"#fdca26\"],[1.0,\"#f0f921\"]]}],\"heatmapgl\":[{\"type\":\"heatmapgl\",\"colorbar\":{\"outlinewidth\":0,\"ticks\":\"\"},\"colorscale\":[[0.0,\"#0d0887\"],[0.1111111111111111,\"#46039f\"],[0.2222222222222222,\"#7201a8\"],[0.3333333333333333,\"#9c179e\"],[0.4444444444444444,\"#bd3786\"],[0.5555555555555556,\"#d8576b\"],[0.6666666666666666,\"#ed7953\"],[0.7777777777777778,\"#fb9f3a\"],[0.8888888888888888,\"#fdca26\"],[1.0,\"#f0f921\"]]}],\"contourcarpet\":[{\"type\":\"contourcarpet\",\"colorbar\":{\"outlinewidth\":0,\"ticks\":\"\"}}],\"contour\":[{\"type\":\"contour\",\"colorbar\":{\"outlinewidth\":0,\"ticks\":\"\"},\"colorscale\":[[0.0,\"#0d0887\"],[0.1111111111111111,\"#46039f\"],[0.2222222222222222,\"#7201a8\"],[0.3333333333333333,\"#9c179e\"],[0.4444444444444444,\"#bd3786\"],[0.5555555555555556,\"#d8576b\"],[0.6666666666666666,\"#ed7953\"],[0.7777777777777778,\"#fb9f3a\"],[0.8888888888888888,\"#fdca26\"],[1.0,\"#f0f921\"]]}],\"surface\":[{\"type\":\"surface\",\"colorbar\":{\"outlinewidth\":0,\"ticks\":\"\"},\"colorscale\":[[0.0,\"#0d0887\"],[0.1111111111111111,\"#46039f\"],[0.2222222222222222,\"#7201a8\"],[0.3333333333333333,\"#9c179e\"],[0.4444444444444444,\"#bd3786\"],[0.5555555555555556,\"#d8576b\"],[0.6666666666666666,\"#ed7953\"],[0.7777777777777778,\"#fb9f3a\"],[0.8888888888888888,\"#fdca26\"],[1.0,\"#f0f921\"]]}],\"mesh3d\":[{\"type\":\"mesh3d\",\"colorbar\":{\"outlinewidth\":0,\"ticks\":\"\"}}],\"scatter\":[{\"fillpattern\":{\"fillmode\":\"overlay\",\"size\":10,\"solidity\":0.2},\"type\":\"scatter\"}],\"parcoords\":[{\"type\":\"parcoords\",\"line\":{\"colorbar\":{\"outlinewidth\":0,\"ticks\":\"\"}}}],\"scatterpolargl\":[{\"type\":\"scatterpolargl\",\"marker\":{\"colorbar\":{\"outlinewidth\":0,\"ticks\":\"\"}}}],\"bar\":[{\"error_x\":{\"color\":\"#2a3f5f\"},\"error_y\":{\"color\":\"#2a3f5f\"},\"marker\":{\"line\":{\"color\":\"#E5ECF6\",\"width\":0.5},\"pattern\":{\"fillmode\":\"overlay\",\"size\":10,\"solidity\":0.2}},\"type\":\"bar\"}],\"scattergeo\":[{\"type\":\"scattergeo\",\"marker\":{\"colorbar\":{\"outlinewidth\":0,\"ticks\":\"\"}}}],\"scatterpolar\":[{\"type\":\"scatterpolar\",\"marker\":{\"colorbar\":{\"outlinewidth\":0,\"ticks\":\"\"}}}],\"histogram\":[{\"marker\":{\"pattern\":{\"fillmode\":\"overlay\",\"size\":10,\"solidity\":0.2}},\"type\":\"histogram\"}],\"scattergl\":[{\"type\":\"scattergl\",\"marker\":{\"colorbar\":{\"outlinewidth\":0,\"ticks\":\"\"}}}],\"scatter3d\":[{\"type\":\"scatter3d\",\"line\":{\"colorbar\":{\"outlinewidth\":0,\"ticks\":\"\"}},\"marker\":{\"colorbar\":{\"outlinewidth\":0,\"ticks\":\"\"}}}],\"scattermapbox\":[{\"type\":\"scattermapbox\",\"marker\":{\"colorbar\":{\"outlinewidth\":0,\"ticks\":\"\"}}}],\"scatterternary\":[{\"type\":\"scatterternary\",\"marker\":{\"colorbar\":{\"outlinewidth\":0,\"ticks\":\"\"}}}],\"scattercarpet\":[{\"type\":\"scattercarpet\",\"marker\":{\"colorbar\":{\"outlinewidth\":0,\"ticks\":\"\"}}}],\"carpet\":[{\"aaxis\":{\"endlinecolor\":\"#2a3f5f\",\"gridcolor\":\"white\",\"linecolor\":\"white\",\"minorgridcolor\":\"white\",\"startlinecolor\":\"#2a3f5f\"},\"baxis\":{\"endlinecolor\":\"#2a3f5f\",\"gridcolor\":\"white\",\"linecolor\":\"white\",\"minorgridcolor\":\"white\",\"startlinecolor\":\"#2a3f5f\"},\"type\":\"carpet\"}],\"table\":[{\"cells\":{\"fill\":{\"color\":\"#EBF0F8\"},\"line\":{\"color\":\"white\"}},\"header\":{\"fill\":{\"color\":\"#C8D4E3\"},\"line\":{\"color\":\"white\"}},\"type\":\"table\"}],\"barpolar\":[{\"marker\":{\"line\":{\"color\":\"#E5ECF6\",\"width\":0.5},\"pattern\":{\"fillmode\":\"overlay\",\"size\":10,\"solidity\":0.2}},\"type\":\"barpolar\"}],\"pie\":[{\"automargin\":true,\"type\":\"pie\"}]},\"layout\":{\"autotypenumbers\":\"strict\",\"colorway\":[\"#636efa\",\"#EF553B\",\"#00cc96\",\"#ab63fa\",\"#FFA15A\",\"#19d3f3\",\"#FF6692\",\"#B6E880\",\"#FF97FF\",\"#FECB52\"],\"font\":{\"color\":\"#2a3f5f\"},\"hovermode\":\"closest\",\"hoverlabel\":{\"align\":\"left\"},\"paper_bgcolor\":\"white\",\"plot_bgcolor\":\"#E5ECF6\",\"polar\":{\"bgcolor\":\"#E5ECF6\",\"angularaxis\":{\"gridcolor\":\"white\",\"linecolor\":\"white\",\"ticks\":\"\"},\"radialaxis\":{\"gridcolor\":\"white\",\"linecolor\":\"white\",\"ticks\":\"\"}},\"ternary\":{\"bgcolor\":\"#E5ECF6\",\"aaxis\":{\"gridcolor\":\"white\",\"linecolor\":\"white\",\"ticks\":\"\"},\"baxis\":{\"gridcolor\":\"white\",\"linecolor\":\"white\",\"ticks\":\"\"},\"caxis\":{\"gridcolor\":\"white\",\"linecolor\":\"white\",\"ticks\":\"\"}},\"coloraxis\":{\"colorbar\":{\"outlinewidth\":0,\"ticks\":\"\"}},\"colorscale\":{\"sequential\":[[0.0,\"#0d0887\"],[0.1111111111111111,\"#46039f\"],[0.2222222222222222,\"#7201a8\"],[0.3333333333333333,\"#9c179e\"],[0.4444444444444444,\"#bd3786\"],[0.5555555555555556,\"#d8576b\"],[0.6666666666666666,\"#ed7953\"],[0.7777777777777778,\"#fb9f3a\"],[0.8888888888888888,\"#fdca26\"],[1.0,\"#f0f921\"]],\"sequentialminus\":[[0.0,\"#0d0887\"],[0.1111111111111111,\"#46039f\"],[0.2222222222222222,\"#7201a8\"],[0.3333333333333333,\"#9c179e\"],[0.4444444444444444,\"#bd3786\"],[0.5555555555555556,\"#d8576b\"],[0.6666666666666666,\"#ed7953\"],[0.7777777777777778,\"#fb9f3a\"],[0.8888888888888888,\"#fdca26\"],[1.0,\"#f0f921\"]],\"diverging\":[[0,\"#8e0152\"],[0.1,\"#c51b7d\"],[0.2,\"#de77ae\"],[0.3,\"#f1b6da\"],[0.4,\"#fde0ef\"],[0.5,\"#f7f7f7\"],[0.6,\"#e6f5d0\"],[0.7,\"#b8e186\"],[0.8,\"#7fbc41\"],[0.9,\"#4d9221\"],[1,\"#276419\"]]},\"xaxis\":{\"gridcolor\":\"white\",\"linecolor\":\"white\",\"ticks\":\"\",\"title\":{\"standoff\":15},\"zerolinecolor\":\"white\",\"automargin\":true,\"zerolinewidth\":2},\"yaxis\":{\"gridcolor\":\"white\",\"linecolor\":\"white\",\"ticks\":\"\",\"title\":{\"standoff\":15},\"zerolinecolor\":\"white\",\"automargin\":true,\"zerolinewidth\":2},\"scene\":{\"xaxis\":{\"backgroundcolor\":\"#E5ECF6\",\"gridcolor\":\"white\",\"linecolor\":\"white\",\"showbackground\":true,\"ticks\":\"\",\"zerolinecolor\":\"white\",\"gridwidth\":2},\"yaxis\":{\"backgroundcolor\":\"#E5ECF6\",\"gridcolor\":\"white\",\"linecolor\":\"white\",\"showbackground\":true,\"ticks\":\"\",\"zerolinecolor\":\"white\",\"gridwidth\":2},\"zaxis\":{\"backgroundcolor\":\"#E5ECF6\",\"gridcolor\":\"white\",\"linecolor\":\"white\",\"showbackground\":true,\"ticks\":\"\",\"zerolinecolor\":\"white\",\"gridwidth\":2}},\"shapedefaults\":{\"line\":{\"color\":\"#2a3f5f\"}},\"annotationdefaults\":{\"arrowcolor\":\"#2a3f5f\",\"arrowhead\":0,\"arrowwidth\":1},\"geo\":{\"bgcolor\":\"white\",\"landcolor\":\"#E5ECF6\",\"subunitcolor\":\"white\",\"showland\":true,\"showlakes\":true,\"lakecolor\":\"white\"},\"title\":{\"x\":0.05},\"mapbox\":{\"style\":\"light\"}}},\"xaxis\":{\"anchor\":\"y\",\"domain\":[0.0,1.0],\"title\":{\"text\":\"Price\"}},\"yaxis\":{\"anchor\":\"x\",\"domain\":[0.0,1.0],\"title\":{\"text\":\"index\"}},\"legend\":{\"tracegroupgap\":0},\"margin\":{\"t\":60},\"barmode\":\"relative\"},                        {\"responsive\": true}                    ).then(function(){\n",
       "                            \n",
       "var gd = document.getElementById('10fc9c4e-3f9b-4642-a937-08086eeca30b');\n",
       "var x = new MutationObserver(function (mutations, observer) {{\n",
       "        var display = window.getComputedStyle(gd).display;\n",
       "        if (!display || display === 'none') {{\n",
       "            console.log([gd, 'removed!']);\n",
       "            Plotly.purge(gd);\n",
       "            observer.disconnect();\n",
       "        }}\n",
       "}});\n",
       "\n",
       "// Listen for the removal of the full notebook cells\n",
       "var notebookContainer = gd.closest('#notebook-container');\n",
       "if (notebookContainer) {{\n",
       "    x.observe(notebookContainer, {childList: true});\n",
       "}}\n",
       "\n",
       "// Listen for the clearing of the current output cell\n",
       "var outputEl = gd.closest('.output');\n",
       "if (outputEl) {{\n",
       "    x.observe(outputEl, {childList: true});\n",
       "}}\n",
       "\n",
       "                        })                };                });            </script>        </div>"
      ]
     },
     "metadata": {},
     "output_type": "display_data"
    }
   ],
   "source": [
    "px.bar(df, y =df['index'], x = df['Price'], orientation = 'h')"
   ]
  },
  {
   "cell_type": "markdown",
   "id": "262b1fb4",
   "metadata": {},
   "source": [
    "# Food"
   ]
  },
  {
   "cell_type": "code",
   "execution_count": 1,
   "id": "7d0344ba",
   "metadata": {},
   "outputs": [
    {
     "data": {
      "text/html": [
       "<div>\n",
       "<style scoped>\n",
       "    .dataframe tbody tr th:only-of-type {\n",
       "        vertical-align: middle;\n",
       "    }\n",
       "\n",
       "    .dataframe tbody tr th {\n",
       "        vertical-align: top;\n",
       "    }\n",
       "\n",
       "    .dataframe thead th {\n",
       "        text-align: right;\n",
       "    }\n",
       "</style>\n",
       "<table border=\"1\" class=\"dataframe\">\n",
       "  <thead>\n",
       "    <tr style=\"text-align: right;\">\n",
       "      <th></th>\n",
       "      <th>Date</th>\n",
       "      <th>Agric eggs medium size</th>\n",
       "      <th>Agric eggs(medium size price of one)</th>\n",
       "      <th>Beans brown,sold loose</th>\n",
       "      <th>Beans:white black eye. sold loose</th>\n",
       "      <th>Beef Bone in</th>\n",
       "      <th>Beef,boneless</th>\n",
       "      <th>Bread sliced 500g</th>\n",
       "      <th>Bread unsliced 500g</th>\n",
       "      <th>Broken Rice (Ofada)</th>\n",
       "      <th>...</th>\n",
       "      <th>Maize grain yellow sold loose</th>\n",
       "      <th>Palm oil: 1 bottle,specify bottle</th>\n",
       "      <th>Plantain(ripe)</th>\n",
       "      <th>Plantain(unripe)</th>\n",
       "      <th>Vegetable oil:1 bottle,specify bottle</th>\n",
       "      <th>Wheat flour: prepacked (golden penny 2kg)</th>\n",
       "      <th>State</th>\n",
       "      <th>Month</th>\n",
       "      <th>Year</th>\n",
       "      <th>Region</th>\n",
       "    </tr>\n",
       "  </thead>\n",
       "  <tbody>\n",
       "    <tr>\n",
       "      <th>2731</th>\n",
       "      <td>2022-08-01</td>\n",
       "      <td>733.582059</td>\n",
       "      <td>73.318477</td>\n",
       "      <td>545.614821</td>\n",
       "      <td>517.231057</td>\n",
       "      <td>1610.311681</td>\n",
       "      <td>2141.175826</td>\n",
       "      <td>488.137371</td>\n",
       "      <td>454.065447</td>\n",
       "      <td>521.078533</td>\n",
       "      <td>...</td>\n",
       "      <td>306.963537</td>\n",
       "      <td>896.631792</td>\n",
       "      <td>334.915695</td>\n",
       "      <td>311.817411</td>\n",
       "      <td>1049.486519</td>\n",
       "      <td>1106.762336</td>\n",
       "      <td>NATIONAL</td>\n",
       "      <td>8</td>\n",
       "      <td>2022</td>\n",
       "      <td>NATIONAL</td>\n",
       "    </tr>\n",
       "    <tr>\n",
       "      <th>2732</th>\n",
       "      <td>2022-09-01</td>\n",
       "      <td>752.367811</td>\n",
       "      <td>75.068331</td>\n",
       "      <td>556.810370</td>\n",
       "      <td>543.152572</td>\n",
       "      <td>1651.195461</td>\n",
       "      <td>2199.374842</td>\n",
       "      <td>511.735746</td>\n",
       "      <td>477.576312</td>\n",
       "      <td>538.975716</td>\n",
       "      <td>...</td>\n",
       "      <td>305.222829</td>\n",
       "      <td>927.338724</td>\n",
       "      <td>345.897124</td>\n",
       "      <td>323.382753</td>\n",
       "      <td>1075.894334</td>\n",
       "      <td>1121.283249</td>\n",
       "      <td>NATIONAL</td>\n",
       "      <td>9</td>\n",
       "      <td>2022</td>\n",
       "      <td>NATIONAL</td>\n",
       "    </tr>\n",
       "    <tr>\n",
       "      <th>2733</th>\n",
       "      <td>2022-10-01</td>\n",
       "      <td>775.140314</td>\n",
       "      <td>77.644685</td>\n",
       "      <td>564.688435</td>\n",
       "      <td>547.394413</td>\n",
       "      <td>1696.576368</td>\n",
       "      <td>2266.240630</td>\n",
       "      <td>523.164903</td>\n",
       "      <td>482.466613</td>\n",
       "      <td>538.191552</td>\n",
       "      <td>...</td>\n",
       "      <td>307.618786</td>\n",
       "      <td>968.762614</td>\n",
       "      <td>357.201499</td>\n",
       "      <td>333.791441</td>\n",
       "      <td>1106.078195</td>\n",
       "      <td>1144.473949</td>\n",
       "      <td>NATIONAL</td>\n",
       "      <td>10</td>\n",
       "      <td>2022</td>\n",
       "      <td>NATIONAL</td>\n",
       "    </tr>\n",
       "    <tr>\n",
       "      <th>2734</th>\n",
       "      <td>2022-11-01</td>\n",
       "      <td>801.394906</td>\n",
       "      <td>80.953044</td>\n",
       "      <td>578.550730</td>\n",
       "      <td>557.669082</td>\n",
       "      <td>1757.439352</td>\n",
       "      <td>2337.459658</td>\n",
       "      <td>529.066053</td>\n",
       "      <td>492.013819</td>\n",
       "      <td>549.668526</td>\n",
       "      <td>...</td>\n",
       "      <td>317.697170</td>\n",
       "      <td>1006.637482</td>\n",
       "      <td>368.884223</td>\n",
       "      <td>340.777771</td>\n",
       "      <td>1142.989099</td>\n",
       "      <td>1189.744592</td>\n",
       "      <td>NATIONAL</td>\n",
       "      <td>11</td>\n",
       "      <td>2022</td>\n",
       "      <td>NATIONAL</td>\n",
       "    </tr>\n",
       "    <tr>\n",
       "      <th>2735</th>\n",
       "      <td>2022-12-01</td>\n",
       "      <td>825.077996</td>\n",
       "      <td>83.506469</td>\n",
       "      <td>586.139347</td>\n",
       "      <td>568.339312</td>\n",
       "      <td>1795.011495</td>\n",
       "      <td>2377.291098</td>\n",
       "      <td>537.890078</td>\n",
       "      <td>496.346915</td>\n",
       "      <td>560.703647</td>\n",
       "      <td>...</td>\n",
       "      <td>329.051610</td>\n",
       "      <td>1024.131452</td>\n",
       "      <td>376.239170</td>\n",
       "      <td>347.678573</td>\n",
       "      <td>1161.761182</td>\n",
       "      <td>1203.880034</td>\n",
       "      <td>NATIONAL</td>\n",
       "      <td>12</td>\n",
       "      <td>2022</td>\n",
       "      <td>NATIONAL</td>\n",
       "    </tr>\n",
       "  </tbody>\n",
       "</table>\n",
       "<p>5 rows × 48 columns</p>\n",
       "</div>"
      ],
      "text/plain": [
       "            Date  Agric eggs medium size  \\\n",
       "2731  2022-08-01              733.582059   \n",
       "2732  2022-09-01              752.367811   \n",
       "2733  2022-10-01              775.140314   \n",
       "2734  2022-11-01              801.394906   \n",
       "2735  2022-12-01              825.077996   \n",
       "\n",
       "      Agric eggs(medium size price of one)  Beans brown,sold loose  \\\n",
       "2731                             73.318477              545.614821   \n",
       "2732                             75.068331              556.810370   \n",
       "2733                             77.644685              564.688435   \n",
       "2734                             80.953044              578.550730   \n",
       "2735                             83.506469              586.139347   \n",
       "\n",
       "      Beans:white black eye. sold loose  Beef Bone in  Beef,boneless  \\\n",
       "2731                         517.231057   1610.311681    2141.175826   \n",
       "2732                         543.152572   1651.195461    2199.374842   \n",
       "2733                         547.394413   1696.576368    2266.240630   \n",
       "2734                         557.669082   1757.439352    2337.459658   \n",
       "2735                         568.339312   1795.011495    2377.291098   \n",
       "\n",
       "      Bread sliced 500g  Bread unsliced 500g  Broken Rice (Ofada)  ...  \\\n",
       "2731         488.137371           454.065447           521.078533  ...   \n",
       "2732         511.735746           477.576312           538.975716  ...   \n",
       "2733         523.164903           482.466613           538.191552  ...   \n",
       "2734         529.066053           492.013819           549.668526  ...   \n",
       "2735         537.890078           496.346915           560.703647  ...   \n",
       "\n",
       "      Maize grain yellow sold loose  Palm oil: 1 bottle,specify bottle  \\\n",
       "2731                     306.963537                         896.631792   \n",
       "2732                     305.222829                         927.338724   \n",
       "2733                     307.618786                         968.762614   \n",
       "2734                     317.697170                        1006.637482   \n",
       "2735                     329.051610                        1024.131452   \n",
       "\n",
       "      Plantain(ripe)  Plantain(unripe)  Vegetable oil:1 bottle,specify bottle  \\\n",
       "2731      334.915695        311.817411                            1049.486519   \n",
       "2732      345.897124        323.382753                            1075.894334   \n",
       "2733      357.201499        333.791441                            1106.078195   \n",
       "2734      368.884223        340.777771                            1142.989099   \n",
       "2735      376.239170        347.678573                            1161.761182   \n",
       "\n",
       "      Wheat flour: prepacked (golden penny 2kg)     State  Month  Year  \\\n",
       "2731                                1106.762336  NATIONAL      8  2022   \n",
       "2732                                1121.283249  NATIONAL      9  2022   \n",
       "2733                                1144.473949  NATIONAL     10  2022   \n",
       "2734                                1189.744592  NATIONAL     11  2022   \n",
       "2735                                1203.880034  NATIONAL     12  2022   \n",
       "\n",
       "        Region  \n",
       "2731  NATIONAL  \n",
       "2732  NATIONAL  \n",
       "2733  NATIONAL  \n",
       "2734  NATIONAL  \n",
       "2735  NATIONAL  \n",
       "\n",
       "[5 rows x 48 columns]"
      ]
     },
     "execution_count": 1,
     "metadata": {},
     "output_type": "execute_result"
    }
   ],
   "source": [
    "import pandas as pd\n",
    "food  = pd.read_csv(\"data/data.csv\")\n",
    "food.tail()"
   ]
  },
  {
   "cell_type": "code",
   "execution_count": 44,
   "id": "70639caa",
   "metadata": {},
   "outputs": [
    {
     "data": {
      "text/plain": [
       "792    495.625000\n",
       "793    480.000000\n",
       "794    496.666667\n",
       "795    492.333333\n",
       "796    483.333333\n",
       "          ...    \n",
       "859    768.000000\n",
       "860    770.500000\n",
       "861    780.000000\n",
       "862    782.890000\n",
       "863    789.000000\n",
       "Name: Agric eggs medium size, Length: 72, dtype: float64"
      ]
     },
     "execution_count": 44,
     "metadata": {},
     "output_type": "execute_result"
    }
   ],
   "source": [
    "abuja = food[food.State == \"ABUJA\"]['Agric eggs medium size']\n",
    "# abuja = abuja['Agric eggs medium size']\n",
    "abuja"
   ]
  },
  {
   "cell_type": "code",
   "execution_count": 41,
   "id": "937d360a",
   "metadata": {},
   "outputs": [
    {
     "data": {
      "text/plain": [
       "789.0"
      ]
     },
     "execution_count": 41,
     "metadata": {},
     "output_type": "execute_result"
    }
   ],
   "source": [
    "abuja.loc[abuja.index[-1]]"
   ]
  },
  {
   "cell_type": "code",
   "execution_count": 5,
   "id": "3b902fc4",
   "metadata": {},
   "outputs": [
    {
     "data": {
      "text/plain": [
       "array(['ABIA', 'ANAMBRA', 'EBONYI', 'ENUGU', 'IMO', 'AKWA_IBOM',\n",
       "       'BAYELSA', 'CROSS_RIVER', 'DELTA', 'RIVERS', 'EDO', 'ABUJA',\n",
       "       'BENUE', 'KOGI', 'KWARA', 'NASSARAWA', 'NIGER', 'PLATEAU', 'EKITI',\n",
       "       'LAGOS', 'ONDO', 'OGUN', 'OSUN', 'OYO', 'ADAMAWA', 'BAUCHI',\n",
       "       'BORNO', 'GOMBE', 'TARABA', 'YOBE', 'JIGAWA', 'KADUNA', 'KANO',\n",
       "       'KATSINA', 'KEBBI', 'ZAMFARA', 'SOKOTO', 'NATIONAL'], dtype=object)"
      ]
     },
     "execution_count": 5,
     "metadata": {},
     "output_type": "execute_result"
    }
   ],
   "source": [
    "food.State.unique()"
   ]
  },
  {
   "cell_type": "code",
   "execution_count": null,
   "id": "f61da747",
   "metadata": {},
   "outputs": [],
   "source": [
    "abuja = food[food.State == \"ABUJA\"]['Agric eggs medium size']\n"
   ]
  },
  {
   "cell_type": "code",
   "execution_count": 3,
   "id": "f0d19219",
   "metadata": {},
   "outputs": [],
   "source": [
    "def get_food_price(df, state, product):\n",
    "    price = df[df.State == state][product]\n",
    "    price = price.loc[price.index[-1]]\n",
    "    return price\n",
    "    \n",
    "    "
   ]
  },
  {
   "cell_type": "code",
   "execution_count": 4,
   "id": "da037ce2",
   "metadata": {},
   "outputs": [
    {
     "data": {
      "text/plain": [
       "789.0"
      ]
     },
     "execution_count": 4,
     "metadata": {},
     "output_type": "execute_result"
    }
   ],
   "source": [
    "get_food_price(food, \"ABUJA\", 'Agric eggs medium size')"
   ]
  },
  {
   "cell_type": "code",
   "execution_count": 9,
   "id": "db21eb42",
   "metadata": {},
   "outputs": [
    {
     "data": {
      "text/plain": [
       "True"
      ]
     },
     "execution_count": 9,
     "metadata": {},
     "output_type": "execute_result"
    }
   ],
   "source": [
    "a = 'AKWA IBOM'\n",
    "a = \n",
    "a = '_'.join(state.split(' '))\n",
    "a in food.State.unique()"
   ]
  },
  {
   "cell_type": "code",
   "execution_count": 10,
   "id": "a91d9a63",
   "metadata": {},
   "outputs": [
    {
     "data": {
      "text/html": [
       "<div>\n",
       "<style scoped>\n",
       "    .dataframe tbody tr th:only-of-type {\n",
       "        vertical-align: middle;\n",
       "    }\n",
       "\n",
       "    .dataframe tbody tr th {\n",
       "        vertical-align: top;\n",
       "    }\n",
       "\n",
       "    .dataframe thead th {\n",
       "        text-align: right;\n",
       "    }\n",
       "</style>\n",
       "<table border=\"1\" class=\"dataframe\">\n",
       "  <thead>\n",
       "    <tr style=\"text-align: right;\">\n",
       "      <th></th>\n",
       "      <th>Date</th>\n",
       "      <th>Agric eggs medium size</th>\n",
       "      <th>Agric eggs(medium size price of one)</th>\n",
       "      <th>Beans brown,sold loose</th>\n",
       "      <th>Beans:white black eye. sold loose</th>\n",
       "      <th>Beef Bone in</th>\n",
       "      <th>Beef,boneless</th>\n",
       "      <th>Bread sliced 500g</th>\n",
       "      <th>Bread unsliced 500g</th>\n",
       "      <th>Broken Rice (Ofada)</th>\n",
       "      <th>...</th>\n",
       "      <th>Maize grain yellow sold loose</th>\n",
       "      <th>Palm oil: 1 bottle,specify bottle</th>\n",
       "      <th>Plantain(ripe)</th>\n",
       "      <th>Plantain(unripe)</th>\n",
       "      <th>Vegetable oil:1 bottle,specify bottle</th>\n",
       "      <th>Wheat flour: prepacked (golden penny 2kg)</th>\n",
       "      <th>State</th>\n",
       "      <th>Month</th>\n",
       "      <th>Year</th>\n",
       "      <th>Region</th>\n",
       "    </tr>\n",
       "  </thead>\n",
       "  <tbody>\n",
       "    <tr>\n",
       "      <th>0</th>\n",
       "      <td>2017-01-01</td>\n",
       "      <td>459.977222</td>\n",
       "      <td>45.107143</td>\n",
       "      <td>471.220000</td>\n",
       "      <td>420.764286</td>\n",
       "      <td>1107.670833</td>\n",
       "      <td>1378.395833</td>\n",
       "      <td>334.257857</td>\n",
       "      <td>291.791667</td>\n",
       "      <td>472.000</td>\n",
       "      <td>...</td>\n",
       "      <td>201.07</td>\n",
       "      <td>350.98</td>\n",
       "      <td>249.78</td>\n",
       "      <td>203.38</td>\n",
       "      <td>388.39</td>\n",
       "      <td>645.92</td>\n",
       "      <td>ABIA</td>\n",
       "      <td>1</td>\n",
       "      <td>2017</td>\n",
       "      <td>South_East</td>\n",
       "    </tr>\n",
       "    <tr>\n",
       "      <th>1</th>\n",
       "      <td>2017-02-01</td>\n",
       "      <td>485.809524</td>\n",
       "      <td>44.513575</td>\n",
       "      <td>436.720000</td>\n",
       "      <td>375.090498</td>\n",
       "      <td>955.094825</td>\n",
       "      <td>1304.717292</td>\n",
       "      <td>340.277778</td>\n",
       "      <td>289.166667</td>\n",
       "      <td>450.000</td>\n",
       "      <td>...</td>\n",
       "      <td>217.30</td>\n",
       "      <td>372.42</td>\n",
       "      <td>242.50</td>\n",
       "      <td>193.79</td>\n",
       "      <td>370.77</td>\n",
       "      <td>648.33</td>\n",
       "      <td>ABIA</td>\n",
       "      <td>2</td>\n",
       "      <td>2017</td>\n",
       "      <td>South_East</td>\n",
       "    </tr>\n",
       "    <tr>\n",
       "      <th>2</th>\n",
       "      <td>2017-03-01</td>\n",
       "      <td>519.565217</td>\n",
       "      <td>46.400000</td>\n",
       "      <td>415.625000</td>\n",
       "      <td>400.241546</td>\n",
       "      <td>981.257777</td>\n",
       "      <td>1129.160796</td>\n",
       "      <td>340.000000</td>\n",
       "      <td>286.363636</td>\n",
       "      <td>462.645</td>\n",
       "      <td>...</td>\n",
       "      <td>224.88</td>\n",
       "      <td>347.14</td>\n",
       "      <td>275.18</td>\n",
       "      <td>221.19</td>\n",
       "      <td>396.66</td>\n",
       "      <td>650.00</td>\n",
       "      <td>ABIA</td>\n",
       "      <td>3</td>\n",
       "      <td>2017</td>\n",
       "      <td>South_East</td>\n",
       "    </tr>\n",
       "    <tr>\n",
       "      <th>3</th>\n",
       "      <td>2017-04-01</td>\n",
       "      <td>520.608696</td>\n",
       "      <td>48.148148</td>\n",
       "      <td>394.144661</td>\n",
       "      <td>391.872428</td>\n",
       "      <td>969.967863</td>\n",
       "      <td>1362.469616</td>\n",
       "      <td>340.769231</td>\n",
       "      <td>304.166667</td>\n",
       "      <td>465.000</td>\n",
       "      <td>...</td>\n",
       "      <td>238.10</td>\n",
       "      <td>390.75</td>\n",
       "      <td>250.73</td>\n",
       "      <td>205.83</td>\n",
       "      <td>403.99</td>\n",
       "      <td>627.77</td>\n",
       "      <td>ABIA</td>\n",
       "      <td>4</td>\n",
       "      <td>2017</td>\n",
       "      <td>South_East</td>\n",
       "    </tr>\n",
       "    <tr>\n",
       "      <th>4</th>\n",
       "      <td>2017-05-01</td>\n",
       "      <td>559.655172</td>\n",
       "      <td>47.741935</td>\n",
       "      <td>474.193548</td>\n",
       "      <td>470.312500</td>\n",
       "      <td>996.492745</td>\n",
       "      <td>1499.913743</td>\n",
       "      <td>371.052632</td>\n",
       "      <td>275.000000</td>\n",
       "      <td>520.000</td>\n",
       "      <td>...</td>\n",
       "      <td>229.94</td>\n",
       "      <td>405.83</td>\n",
       "      <td>226.64</td>\n",
       "      <td>200.00</td>\n",
       "      <td>413.71</td>\n",
       "      <td>631.94</td>\n",
       "      <td>ABIA</td>\n",
       "      <td>5</td>\n",
       "      <td>2017</td>\n",
       "      <td>South_East</td>\n",
       "    </tr>\n",
       "  </tbody>\n",
       "</table>\n",
       "<p>5 rows × 48 columns</p>\n",
       "</div>"
      ],
      "text/plain": [
       "         Date  Agric eggs medium size  Agric eggs(medium size price of one)  \\\n",
       "0  2017-01-01              459.977222                             45.107143   \n",
       "1  2017-02-01              485.809524                             44.513575   \n",
       "2  2017-03-01              519.565217                             46.400000   \n",
       "3  2017-04-01              520.608696                             48.148148   \n",
       "4  2017-05-01              559.655172                             47.741935   \n",
       "\n",
       "   Beans brown,sold loose  Beans:white black eye. sold loose  Beef Bone in  \\\n",
       "0              471.220000                         420.764286   1107.670833   \n",
       "1              436.720000                         375.090498    955.094825   \n",
       "2              415.625000                         400.241546    981.257777   \n",
       "3              394.144661                         391.872428    969.967863   \n",
       "4              474.193548                         470.312500    996.492745   \n",
       "\n",
       "   Beef,boneless  Bread sliced 500g  Bread unsliced 500g  Broken Rice (Ofada)  \\\n",
       "0    1378.395833         334.257857           291.791667              472.000   \n",
       "1    1304.717292         340.277778           289.166667              450.000   \n",
       "2    1129.160796         340.000000           286.363636              462.645   \n",
       "3    1362.469616         340.769231           304.166667              465.000   \n",
       "4    1499.913743         371.052632           275.000000              520.000   \n",
       "\n",
       "   ...  Maize grain yellow sold loose  Palm oil: 1 bottle,specify bottle  \\\n",
       "0  ...                         201.07                             350.98   \n",
       "1  ...                         217.30                             372.42   \n",
       "2  ...                         224.88                             347.14   \n",
       "3  ...                         238.10                             390.75   \n",
       "4  ...                         229.94                             405.83   \n",
       "\n",
       "   Plantain(ripe)  Plantain(unripe)  Vegetable oil:1 bottle,specify bottle  \\\n",
       "0          249.78            203.38                                 388.39   \n",
       "1          242.50            193.79                                 370.77   \n",
       "2          275.18            221.19                                 396.66   \n",
       "3          250.73            205.83                                 403.99   \n",
       "4          226.64            200.00                                 413.71   \n",
       "\n",
       "   Wheat flour: prepacked (golden penny 2kg)  State  Month  Year      Region  \n",
       "0                                     645.92   ABIA      1  2017  South_East  \n",
       "1                                     648.33   ABIA      2  2017  South_East  \n",
       "2                                     650.00   ABIA      3  2017  South_East  \n",
       "3                                     627.77   ABIA      4  2017  South_East  \n",
       "4                                     631.94   ABIA      5  2017  South_East  \n",
       "\n",
       "[5 rows x 48 columns]"
      ]
     },
     "execution_count": 10,
     "metadata": {},
     "output_type": "execute_result"
    }
   ],
   "source": [
    "food.head()"
   ]
  },
  {
   "cell_type": "code",
   "execution_count": 40,
   "id": "25e785d2",
   "metadata": {},
   "outputs": [
    {
     "data": {
      "text/plain": [
       "State                             IMO\n",
       "Date                       2022-12-03\n",
       "Agric eggs medium size    1033.571429\n",
       "Name: 16, dtype: object"
      ]
     },
     "execution_count": 40,
     "metadata": {},
     "output_type": "execute_result"
    }
   ],
   "source": [
    "# df = food\n",
    "# gp = food.groupby(['State', 'Date'])['Agric eggs medium size'].max()\n",
    "# gp\n",
    "max_month = food.Month.max()\n",
    "max_year = food.Year.max()\n",
    "df = food.query(\"Month == @max_month and Year == @max_year\")\n",
    "gp = df.groupby(['State', 'Date'])['Agric eggs medium size'].max().reset_index().sort_values(by = 'Agric eggs medium size')\n",
    "gp = gp.iloc[-1, :]\n",
    "gp"
   ]
  },
  {
   "cell_type": "code",
   "execution_count": 39,
   "id": "c33691b1",
   "metadata": {},
   "outputs": [
    {
     "data": {
      "text/plain": [
       "'KOGI567.27272727273'"
      ]
     },
     "execution_count": 39,
     "metadata": {},
     "output_type": "execute_result"
    }
   ],
   "source": [
    "gp.State + str(gp['Agric eggs medium size'])"
   ]
  },
  {
   "cell_type": "code",
   "execution_count": 8,
   "id": "ee59ef58",
   "metadata": {},
   "outputs": [
    {
     "data": {
      "text/html": [
       "<div>\n",
       "<style scoped>\n",
       "    .dataframe tbody tr th:only-of-type {\n",
       "        vertical-align: middle;\n",
       "    }\n",
       "\n",
       "    .dataframe tbody tr th {\n",
       "        vertical-align: top;\n",
       "    }\n",
       "\n",
       "    .dataframe thead th {\n",
       "        text-align: right;\n",
       "    }\n",
       "</style>\n",
       "<table border=\"1\" class=\"dataframe\">\n",
       "  <thead>\n",
       "    <tr style=\"text-align: right;\">\n",
       "      <th></th>\n",
       "      <th>State</th>\n",
       "      <th>Date</th>\n",
       "      <th>Agric eggs medium size</th>\n",
       "    </tr>\n",
       "  </thead>\n",
       "  <tbody>\n",
       "    <tr>\n",
       "      <th>22</th>\n",
       "      <td>KOGI</td>\n",
       "      <td>2022-12-01</td>\n",
       "      <td>567.272727</td>\n",
       "    </tr>\n",
       "    <tr>\n",
       "      <th>7</th>\n",
       "      <td>BENUE</td>\n",
       "      <td>2022-12-01</td>\n",
       "      <td>602.222222</td>\n",
       "    </tr>\n",
       "    <tr>\n",
       "      <th>32</th>\n",
       "      <td>PLATEAU</td>\n",
       "      <td>2022-12-01</td>\n",
       "      <td>607.777778</td>\n",
       "    </tr>\n",
       "    <tr>\n",
       "      <th>5</th>\n",
       "      <td>BAUCHI</td>\n",
       "      <td>2022-12-01</td>\n",
       "      <td>610.000000</td>\n",
       "    </tr>\n",
       "    <tr>\n",
       "      <th>25</th>\n",
       "      <td>NASSARAWA</td>\n",
       "      <td>2022-12-01</td>\n",
       "      <td>614.000000</td>\n",
       "    </tr>\n",
       "    <tr>\n",
       "      <th>15</th>\n",
       "      <td>GOMBE</td>\n",
       "      <td>2022-12-01</td>\n",
       "      <td>618.000000</td>\n",
       "    </tr>\n",
       "  </tbody>\n",
       "</table>\n",
       "</div>"
      ],
      "text/plain": [
       "        State        Date  Agric eggs medium size\n",
       "22       KOGI  2022-12-01              567.272727\n",
       "7       BENUE  2022-12-01              602.222222\n",
       "32    PLATEAU  2022-12-01              607.777778\n",
       "5      BAUCHI  2022-12-01              610.000000\n",
       "25  NASSARAWA  2022-12-01              614.000000\n",
       "15      GOMBE  2022-12-01              618.000000"
      ]
     },
     "execution_count": 8,
     "metadata": {},
     "output_type": "execute_result"
    }
   ],
   "source": [
    "# df = food\n",
    "# gp = food.groupby(['State', 'Date'])['Agric eggs medium size'].max()\n",
    "# gp\n",
    "max_month = food.Month.max()\n",
    "max_year = food.Year.max()\n",
    "df = food.query(\"Month == @max_month and Year == @max_year\")\n",
    "gp = df.groupby(['State', 'Date'])['Agric eggs medium size'].max().reset_index().sort_values(by = 'Agric eggs medium size')\n",
    "gp = gp.iloc[:6, :]\n",
    "gp"
   ]
  },
  {
   "cell_type": "code",
   "execution_count": 5,
   "id": "b47ac8ec",
   "metadata": {},
   "outputs": [
    {
     "data": {
      "text/plain": [
       "Date                                         0\n",
       "Agric eggs medium size                       0\n",
       "Agric eggs(medium size price of one)         0\n",
       "Beans brown,sold loose                       0\n",
       "Beans:white black eye. sold loose            0\n",
       "Beef Bone in                                 0\n",
       "Beef,boneless                                0\n",
       "Bread sliced 500g                            0\n",
       "Bread unsliced 500g                          0\n",
       "Broken Rice (Ofada)                          0\n",
       "Chicken Feet                                 0\n",
       "Chicken Wings                                0\n",
       "Evaporated tinned milk carnation 170g        0\n",
       "Evaporated tinned milk(peak), 170g           0\n",
       "Frozen chicken                               0\n",
       "Gari white,sold loose                        0\n",
       "Gari yellow,sold loose                       0\n",
       "Mudfish (aro) fresh                          0\n",
       "Mudfish : dried                              0\n",
       "Onion bulb                                   0\n",
       "Rice agric sold loose                        0\n",
       "Rice local sold loose                        0\n",
       "Rice Medium Grained                          0\n",
       "Rice,imported high quality sold loose        0\n",
       "Tomato                                       0\n",
       "Yam tuber                                    0\n",
       "Dried Fish Sardine                           0\n",
       "Iced Sardine                                 0\n",
       "Irish potato                                 0\n",
       "Sweet potato                                 0\n",
       "Tilapia fish (epiya) fresh                   0\n",
       "Titus:frozen                                 0\n",
       "Catfish (obokun) fresh                       0\n",
       "Catfish :dried                               0\n",
       "Catfish Smoked                               0\n",
       "Mackerel : frozen                            0\n",
       "Groundnut oil: 1 bottle, specify bottle      0\n",
       "Maize grain white sold loose                 0\n",
       "Maize grain yellow sold loose                0\n",
       "Palm oil: 1 bottle,specify bottle            0\n",
       "Plantain(ripe)                               0\n",
       "Plantain(unripe)                             0\n",
       "Vegetable oil:1 bottle,specify bottle        0\n",
       "Wheat flour: prepacked (golden penny 2kg)    0\n",
       "State                                        0\n",
       "Month                                        0\n",
       "Year                                         0\n",
       "Region                                       0\n",
       "dtype: int64"
      ]
     },
     "execution_count": 5,
     "metadata": {},
     "output_type": "execute_result"
    }
   ],
   "source": [
    "benue.isnull().sum()"
   ]
  },
  {
   "cell_type": "code",
   "execution_count": 7,
   "id": "0d096d68",
   "metadata": {},
   "outputs": [
    {
     "data": {
      "text/plain": [
       "899    1900-01-02\n",
       "864    2017-01-01\n",
       "865    2017-02-01\n",
       "866    2017-03-01\n",
       "867    2017-04-01\n",
       "          ...    \n",
       "931    2022-08-01\n",
       "932    2022-09-01\n",
       "933    2022-10-01\n",
       "934    2022-11-01\n",
       "935    2022-12-01\n",
       "Name: Date, Length: 72, dtype: object"
      ]
     },
     "execution_count": 7,
     "metadata": {},
     "output_type": "execute_result"
    }
   ],
   "source": [
    "benue.Date.sort_values()"
   ]
  },
  {
   "cell_type": "code",
   "execution_count": 8,
   "id": "2f9284a1",
   "metadata": {},
   "outputs": [
    {
     "name": "stderr",
     "output_type": "stream",
     "text": [
      "C:\\Users\\user\\AppData\\Local\\Temp\\ipykernel_5580\\3879354091.py:1: SettingWithCopyWarning: \n",
      "A value is trying to be set on a copy of a slice from a DataFrame.\n",
      "Try using .loc[row_indexer,col_indexer] = value instead\n",
      "\n",
      "See the caveats in the documentation: https://pandas.pydata.org/pandas-docs/stable/user_guide/indexing.html#returning-a-view-versus-a-copy\n",
      "  benue[\"Date\"] = pd.to_datetime(benue[\"Date\"], format=\"%Y/%m\")\n"
     ]
    }
   ],
   "source": [
    "benue[\"Date\"] = pd.to_datetime(benue[\"Date\"], format=\"%Y/%m\")"
   ]
  },
  {
   "cell_type": "code",
   "execution_count": 10,
   "id": "fe67d68a",
   "metadata": {},
   "outputs": [
    {
     "name": "stdout",
     "output_type": "stream",
     "text": [
      "<class 'pandas.core.frame.DataFrame'>\n",
      "Int64Index: 72 entries, 864 to 935\n",
      "Data columns (total 48 columns):\n",
      " #   Column                                     Non-Null Count  Dtype         \n",
      "---  ------                                     --------------  -----         \n",
      " 0   Date                                       72 non-null     datetime64[ns]\n",
      " 1   Agric eggs medium size                     72 non-null     float64       \n",
      " 2   Agric eggs(medium size price of one)       72 non-null     float64       \n",
      " 3   Beans brown,sold loose                     72 non-null     float64       \n",
      " 4   Beans:white black eye. sold loose          72 non-null     float64       \n",
      " 5   Beef Bone in                               72 non-null     float64       \n",
      " 6   Beef,boneless                              72 non-null     float64       \n",
      " 7   Bread sliced 500g                          72 non-null     float64       \n",
      " 8   Bread unsliced 500g                        72 non-null     float64       \n",
      " 9   Broken Rice (Ofada)                        72 non-null     float64       \n",
      " 10  Chicken Feet                               72 non-null     float64       \n",
      " 11  Chicken Wings                              72 non-null     float64       \n",
      " 12  Evaporated tinned milk carnation 170g      72 non-null     float64       \n",
      " 13  Evaporated tinned milk(peak), 170g         72 non-null     float64       \n",
      " 14  Frozen chicken                             72 non-null     float64       \n",
      " 15  Gari white,sold loose                      72 non-null     float64       \n",
      " 16  Gari yellow,sold loose                     72 non-null     float64       \n",
      " 17  Mudfish (aro) fresh                        72 non-null     float64       \n",
      " 18  Mudfish : dried                            72 non-null     float64       \n",
      " 19  Onion bulb                                 72 non-null     float64       \n",
      " 20  Rice agric sold loose                      72 non-null     float64       \n",
      " 21  Rice local sold loose                      72 non-null     float64       \n",
      " 22  Rice Medium Grained                        72 non-null     float64       \n",
      " 23  Rice,imported high quality sold loose      72 non-null     float64       \n",
      " 24  Tomato                                     72 non-null     float64       \n",
      " 25  Yam tuber                                  72 non-null     float64       \n",
      " 26  Dried Fish Sardine                         72 non-null     float64       \n",
      " 27  Iced Sardine                               72 non-null     float64       \n",
      " 28  Irish potato                               72 non-null     float64       \n",
      " 29  Sweet potato                               72 non-null     float64       \n",
      " 30  Tilapia fish (epiya) fresh                 72 non-null     float64       \n",
      " 31  Titus:frozen                               72 non-null     float64       \n",
      " 32  Catfish (obokun) fresh                     72 non-null     float64       \n",
      " 33  Catfish :dried                             72 non-null     float64       \n",
      " 34  Catfish Smoked                             72 non-null     float64       \n",
      " 35  Mackerel : frozen                          72 non-null     float64       \n",
      " 36  Groundnut oil: 1 bottle, specify bottle    72 non-null     float64       \n",
      " 37  Maize grain white sold loose               72 non-null     float64       \n",
      " 38  Maize grain yellow sold loose              72 non-null     float64       \n",
      " 39  Palm oil: 1 bottle,specify bottle          72 non-null     float64       \n",
      " 40  Plantain(ripe)                             72 non-null     float64       \n",
      " 41  Plantain(unripe)                           72 non-null     float64       \n",
      " 42  Vegetable oil:1 bottle,specify bottle      72 non-null     float64       \n",
      " 43  Wheat flour: prepacked (golden penny 2kg)  72 non-null     float64       \n",
      " 44  State                                      72 non-null     object        \n",
      " 45  Month                                      72 non-null     int64         \n",
      " 46  Year                                       72 non-null     int64         \n",
      " 47  Region                                     72 non-null     object        \n",
      "dtypes: datetime64[ns](1), float64(43), int64(2), object(2)\n",
      "memory usage: 27.6+ KB\n"
     ]
    }
   ],
   "source": [
    "benue.info()"
   ]
  },
  {
   "cell_type": "code",
   "execution_count": 19,
   "id": "390b9877",
   "metadata": {},
   "outputs": [
    {
     "data": {
      "text/plain": [
       "864   2017-01-01\n",
       "865   2017-02-01\n",
       "866   2017-03-01\n",
       "867   2017-04-01\n",
       "868   2017-05-01\n",
       "         ...    \n",
       "931   2022-08-01\n",
       "932   2022-09-01\n",
       "933   2022-10-01\n",
       "934   2022-11-01\n",
       "935   2022-12-01\n",
       "Name: Date, Length: 71, dtype: datetime64[ns]"
      ]
     },
     "execution_count": 19,
     "metadata": {},
     "output_type": "execute_result"
    }
   ],
   "source": [
    "benue = benue[benue.Year != 1900]\n",
    "benue.Date.sort_values()"
   ]
  },
  {
   "cell_type": "code",
   "execution_count": null,
   "id": "6976dd71",
   "metadata": {},
   "outputs": [],
   "source": []
  },
  {
   "cell_type": "code",
   "execution_count": 32,
   "id": "1d6cc4d5",
   "metadata": {},
   "outputs": [
    {
     "data": {
      "text/html": [
       "<div>\n",
       "<style scoped>\n",
       "    .dataframe tbody tr th:only-of-type {\n",
       "        vertical-align: middle;\n",
       "    }\n",
       "\n",
       "    .dataframe tbody tr th {\n",
       "        vertical-align: top;\n",
       "    }\n",
       "\n",
       "    .dataframe thead th {\n",
       "        text-align: right;\n",
       "    }\n",
       "</style>\n",
       "<table border=\"1\" class=\"dataframe\">\n",
       "  <thead>\n",
       "    <tr style=\"text-align: right;\">\n",
       "      <th></th>\n",
       "      <th>Date</th>\n",
       "      <th>Agric eggs medium size</th>\n",
       "      <th>Agric eggs(medium size price of one)</th>\n",
       "      <th>Beans brown,sold loose</th>\n",
       "      <th>Beans:white black eye. sold loose</th>\n",
       "      <th>Beef Bone in</th>\n",
       "      <th>Beef,boneless</th>\n",
       "      <th>Bread sliced 500g</th>\n",
       "      <th>Bread unsliced 500g</th>\n",
       "      <th>Broken Rice (Ofada)</th>\n",
       "      <th>...</th>\n",
       "      <th>Maize grain yellow sold loose</th>\n",
       "      <th>Palm oil: 1 bottle,specify bottle</th>\n",
       "      <th>Plantain(ripe)</th>\n",
       "      <th>Plantain(unripe)</th>\n",
       "      <th>Vegetable oil:1 bottle,specify bottle</th>\n",
       "      <th>Wheat flour: prepacked (golden penny 2kg)</th>\n",
       "      <th>State</th>\n",
       "      <th>Month</th>\n",
       "      <th>Year</th>\n",
       "      <th>Region</th>\n",
       "    </tr>\n",
       "  </thead>\n",
       "  <tbody>\n",
       "    <tr>\n",
       "      <th>792</th>\n",
       "      <td>2017-01-01</td>\n",
       "      <td>495.625000</td>\n",
       "      <td>43.497500</td>\n",
       "      <td>363.361667</td>\n",
       "      <td>300.665000</td>\n",
       "      <td>979.201000</td>\n",
       "      <td>1304.57</td>\n",
       "      <td>341.100000</td>\n",
       "      <td>313.093333</td>\n",
       "      <td>371.230000</td>\n",
       "      <td>...</td>\n",
       "      <td>140.80</td>\n",
       "      <td>405.80</td>\n",
       "      <td>285.64</td>\n",
       "      <td>180.51</td>\n",
       "      <td>407.21</td>\n",
       "      <td>674.83</td>\n",
       "      <td>ABUJA</td>\n",
       "      <td>1</td>\n",
       "      <td>2017</td>\n",
       "      <td>North_Central</td>\n",
       "    </tr>\n",
       "    <tr>\n",
       "      <th>793</th>\n",
       "      <td>2017-02-01</td>\n",
       "      <td>480.000000</td>\n",
       "      <td>41.250000</td>\n",
       "      <td>367.976667</td>\n",
       "      <td>280.267500</td>\n",
       "      <td>992.105000</td>\n",
       "      <td>1500.00</td>\n",
       "      <td>307.500000</td>\n",
       "      <td>301.250000</td>\n",
       "      <td>376.560000</td>\n",
       "      <td>...</td>\n",
       "      <td>158.71</td>\n",
       "      <td>400.00</td>\n",
       "      <td>292.76</td>\n",
       "      <td>182.80</td>\n",
       "      <td>416.67</td>\n",
       "      <td>679.16</td>\n",
       "      <td>ABUJA</td>\n",
       "      <td>2</td>\n",
       "      <td>2017</td>\n",
       "      <td>North_Central</td>\n",
       "    </tr>\n",
       "    <tr>\n",
       "      <th>794</th>\n",
       "      <td>2017-03-01</td>\n",
       "      <td>496.666667</td>\n",
       "      <td>42.000000</td>\n",
       "      <td>352.405741</td>\n",
       "      <td>298.127798</td>\n",
       "      <td>1013.888889</td>\n",
       "      <td>1462.50</td>\n",
       "      <td>308.333333</td>\n",
       "      <td>312.500000</td>\n",
       "      <td>390.000000</td>\n",
       "      <td>...</td>\n",
       "      <td>158.52</td>\n",
       "      <td>400.00</td>\n",
       "      <td>290.94</td>\n",
       "      <td>179.37</td>\n",
       "      <td>436.67</td>\n",
       "      <td>650.00</td>\n",
       "      <td>ABUJA</td>\n",
       "      <td>3</td>\n",
       "      <td>2017</td>\n",
       "      <td>North_Central</td>\n",
       "    </tr>\n",
       "    <tr>\n",
       "      <th>795</th>\n",
       "      <td>2017-04-01</td>\n",
       "      <td>492.333333</td>\n",
       "      <td>41.111111</td>\n",
       "      <td>343.742720</td>\n",
       "      <td>308.730159</td>\n",
       "      <td>1044.444444</td>\n",
       "      <td>1425.00</td>\n",
       "      <td>340.000000</td>\n",
       "      <td>325.000000</td>\n",
       "      <td>393.333333</td>\n",
       "      <td>...</td>\n",
       "      <td>174.02</td>\n",
       "      <td>397.77</td>\n",
       "      <td>302.81</td>\n",
       "      <td>206.78</td>\n",
       "      <td>462.22</td>\n",
       "      <td>586.66</td>\n",
       "      <td>ABUJA</td>\n",
       "      <td>4</td>\n",
       "      <td>2017</td>\n",
       "      <td>North_Central</td>\n",
       "    </tr>\n",
       "    <tr>\n",
       "      <th>796</th>\n",
       "      <td>2017-05-01</td>\n",
       "      <td>483.333333</td>\n",
       "      <td>41.981111</td>\n",
       "      <td>348.571429</td>\n",
       "      <td>314.285714</td>\n",
       "      <td>1225.000000</td>\n",
       "      <td>1410.00</td>\n",
       "      <td>350.000000</td>\n",
       "      <td>333.750829</td>\n",
       "      <td>420.009583</td>\n",
       "      <td>...</td>\n",
       "      <td>176.22</td>\n",
       "      <td>404.07</td>\n",
       "      <td>290.46</td>\n",
       "      <td>219.30</td>\n",
       "      <td>500.52</td>\n",
       "      <td>611.37</td>\n",
       "      <td>ABUJA</td>\n",
       "      <td>5</td>\n",
       "      <td>2017</td>\n",
       "      <td>North_Central</td>\n",
       "    </tr>\n",
       "  </tbody>\n",
       "</table>\n",
       "<p>5 rows × 48 columns</p>\n",
       "</div>"
      ],
      "text/plain": [
       "           Date  Agric eggs medium size  Agric eggs(medium size price of one)  \\\n",
       "792  2017-01-01              495.625000                             43.497500   \n",
       "793  2017-02-01              480.000000                             41.250000   \n",
       "794  2017-03-01              496.666667                             42.000000   \n",
       "795  2017-04-01              492.333333                             41.111111   \n",
       "796  2017-05-01              483.333333                             41.981111   \n",
       "\n",
       "     Beans brown,sold loose  Beans:white black eye. sold loose  Beef Bone in  \\\n",
       "792              363.361667                         300.665000    979.201000   \n",
       "793              367.976667                         280.267500    992.105000   \n",
       "794              352.405741                         298.127798   1013.888889   \n",
       "795              343.742720                         308.730159   1044.444444   \n",
       "796              348.571429                         314.285714   1225.000000   \n",
       "\n",
       "     Beef,boneless  Bread sliced 500g  Bread unsliced 500g  \\\n",
       "792        1304.57         341.100000           313.093333   \n",
       "793        1500.00         307.500000           301.250000   \n",
       "794        1462.50         308.333333           312.500000   \n",
       "795        1425.00         340.000000           325.000000   \n",
       "796        1410.00         350.000000           333.750829   \n",
       "\n",
       "     Broken Rice (Ofada)  ...  Maize grain yellow sold loose  \\\n",
       "792           371.230000  ...                         140.80   \n",
       "793           376.560000  ...                         158.71   \n",
       "794           390.000000  ...                         158.52   \n",
       "795           393.333333  ...                         174.02   \n",
       "796           420.009583  ...                         176.22   \n",
       "\n",
       "     Palm oil: 1 bottle,specify bottle  Plantain(ripe)  Plantain(unripe)  \\\n",
       "792                             405.80          285.64            180.51   \n",
       "793                             400.00          292.76            182.80   \n",
       "794                             400.00          290.94            179.37   \n",
       "795                             397.77          302.81            206.78   \n",
       "796                             404.07          290.46            219.30   \n",
       "\n",
       "     Vegetable oil:1 bottle,specify bottle  \\\n",
       "792                                 407.21   \n",
       "793                                 416.67   \n",
       "794                                 436.67   \n",
       "795                                 462.22   \n",
       "796                                 500.52   \n",
       "\n",
       "     Wheat flour: prepacked (golden penny 2kg)  State  Month  Year  \\\n",
       "792                                     674.83  ABUJA      1  2017   \n",
       "793                                     679.16  ABUJA      2  2017   \n",
       "794                                     650.00  ABUJA      3  2017   \n",
       "795                                     586.66  ABUJA      4  2017   \n",
       "796                                     611.37  ABUJA      5  2017   \n",
       "\n",
       "            Region  \n",
       "792  North_Central  \n",
       "793  North_Central  \n",
       "794  North_Central  \n",
       "795  North_Central  \n",
       "796  North_Central  \n",
       "\n",
       "[5 rows x 48 columns]"
      ]
     },
     "execution_count": 32,
     "metadata": {},
     "output_type": "execute_result"
    }
   ],
   "source": [
    "states = ['BENUE', 'ABUJA', 'PLATEAU', 'NIGER']\n",
    "states_df = food.query(\"State in @states\")\n",
    "states_df.head()"
   ]
  },
  {
   "cell_type": "code",
   "execution_count": 35,
   "id": "fcd9107b",
   "metadata": {},
   "outputs": [
    {
     "data": {
      "application/vnd.plotly.v1+json": {
       "config": {
        "plotlyServerURL": "https://plot.ly"
       },
       "data": [
        {
         "hovertemplate": "State=ABUJA<br>Date=%{x}<br>Rice local sold loose=%{y}<extra></extra>",
         "legendgroup": "ABUJA",
         "line": {
          "color": "#636efa",
          "dash": "solid"
         },
         "marker": {
          "symbol": "circle"
         },
         "mode": "lines",
         "name": "ABUJA",
         "orientation": "v",
         "showlegend": true,
         "type": "scatter",
         "x": [
          "2017-01-01",
          "2017-02-01",
          "2017-03-01",
          "2017-04-01",
          "2017-05-01",
          "2017-06-01",
          "2017-07-01",
          "2017-08-01",
          "2017-09-01",
          "2017-10-01",
          "2017-11-01",
          "2017-12-01",
          "2018-01-01",
          "2018-02-01",
          "2018-03-01",
          "2018-04-01",
          "2018-05-01",
          "2018-06-01",
          "2018-07-01",
          "2018-08-01",
          "2018-09-01",
          "2018-10-01",
          "2018-11-01",
          "2018-12-01",
          "2019-01-01",
          "2019-02-01",
          "2019-03-01",
          "2019-04-01",
          "2019-05-01",
          "2019-06-01",
          "2019-07-01",
          "2019-08-01",
          "2019-09-01",
          "2019-10-01",
          "2019-11-01",
          "2019-12-01",
          "2020-01-01",
          "2020-02-01",
          "2020-03-01",
          "2020-04-01",
          "2020-05-01",
          "2020-06-01",
          "2020-07-01",
          "2020-08-01",
          "2020-09-01",
          "2020-10-01",
          "2020-11-01",
          "2020-12-01",
          "2021-01-01",
          "2021-02-01",
          "2021-03-01",
          "2021-04-01",
          "2021-05-01",
          "2021-06-01",
          "2021-07-01",
          "2021-08-01",
          "2021-09-01",
          "2021-10-01",
          "2021-11-01",
          "2021-12-01",
          "2022-01-01",
          "2022-02-01",
          "2022-03-01",
          "2022-04-01",
          "2022-05-01",
          "2022-06-01",
          "2022-07-01",
          "2022-08-01",
          "2022-09-01",
          "2022-10-01",
          "2022-11-01",
          "2022-12-01"
         ],
         "xaxis": "x",
         "y": [
          299.1475,
          300.34,
          297.69830777366474,
          296.3085375168929,
          311.616161616162,
          292.894081614666,
          294.55719040656976,
          312.6655555555556,
          302.577374589513,
          284.61924734186147,
          282.679247341861,
          271.16719602264004,
          261.944555881763,
          320.1722497932176,
          326.679644048943,
          306.308537516893,
          292.577374589513,
          295.4763333528482,
          295.02688172043014,
          297.6427375286445,
          294.758064516129,
          332.0110604762039,
          344.09703860391323,
          295.0268817204301,
          299.05913978494624,
          305.443548387097,
          327.4443816321003,
          319.731182795699,
          317.65111111111105,
          314.838709677419,
          315.21,
          282.17,
          294.3010752688172,
          305.498888888889,
          373.93,
          382.51,
          362.2455278177939,
          392.88898439343376,
          348.94362682182486,
          348.94362682182486,
          363.0248887652948,
          389.962331883911,
          420.628939562477,
          450.243325917686,
          524.2479017089696,
          536.026140155729,
          529.74,
          518.465192806822,
          500.900444938821,
          466.26,
          466.9354838709678,
          471.4076246334311,
          485.83284457478,
          471.485,
          499.5967741935484,
          494.435483870968,
          451.59946236559136,
          461.6935483870969,
          466.9086021505376,
          467.1887473118279,
          457.004608294931,
          460.14693,
          470.366935483871,
          481.129032258065,
          485.5770609319,
          485.81984946236594,
          486.2085053419358,
          400.26284348865,
          416.129032258065,
          430.774193548387,
          434.993633817163,
          439.699666295884
         ],
         "yaxis": "y"
        },
        {
         "hovertemplate": "State=BENUE<br>Date=%{x}<br>Rice local sold loose=%{y}<extra></extra>",
         "legendgroup": "BENUE",
         "line": {
          "color": "#EF553B",
          "dash": "solid"
         },
         "marker": {
          "symbol": "circle"
         },
         "mode": "lines",
         "name": "BENUE",
         "orientation": "v",
         "showlegend": true,
         "type": "scatter",
         "x": [
          "2017-01-01",
          "2017-02-01",
          "2017-03-01",
          "2017-04-01",
          "2017-05-01",
          "2017-06-01",
          "2017-07-01",
          "2017-08-01",
          "2017-09-01",
          "2017-10-01",
          "2017-11-01",
          "2017-12-01",
          "2018-01-01",
          "2018-02-01",
          "2018-03-01",
          "2018-04-01",
          "2018-05-01",
          "2018-06-01",
          "2018-07-01",
          "2018-08-01",
          "2018-09-01",
          "2018-10-01",
          "2018-11-01",
          "2018-12-01",
          "2019-01-01",
          "2019-02-01",
          "2019-03-01",
          "2019-04-01",
          "2019-05-01",
          "2019-06-01",
          "2019-07-01",
          "2019-08-01",
          "2019-09-01",
          "2019-10-01",
          "2019-11-01",
          "2020-01-01",
          "2020-02-01",
          "2020-03-01",
          "2020-04-01",
          "2020-05-01",
          "2020-06-01",
          "2020-07-01",
          "2020-08-01",
          "2020-09-01",
          "2020-10-01",
          "2020-11-01",
          "2020-12-01",
          "2021-01-01",
          "2021-02-01",
          "2021-03-01",
          "2021-04-01",
          "2021-05-01",
          "2021-06-01",
          "2021-07-01",
          "2021-08-01",
          "2021-09-01",
          "2021-10-01",
          "2021-11-01",
          "2021-12-01",
          "2022-01-01",
          "2022-02-01",
          "2022-03-01",
          "2022-04-01",
          "2022-05-01",
          "2022-06-01",
          "2022-07-01",
          "2022-08-01",
          "2022-09-01",
          "2022-10-01",
          "2022-11-01",
          "2022-12-01"
         ],
         "xaxis": "x",
         "y": [
          272.71,
          283.965625,
          297.12930759017894,
          303.15065681444986,
          335.914085914086,
          357.9970122612337,
          338.89497007725,
          285.9622222222221,
          297.8574631965602,
          283.03792781480405,
          257.3090909090909,
          266.80304886863746,
          232.77975307661072,
          241.7703974433674,
          243.30067298774028,
          252.317323481117,
          297.8574631965602,
          265.7546038537815,
          256.4537058530293,
          260.7644043720104,
          253.074256394402,
          260.120415982485,
          278.17434201875585,
          256.45370585302936,
          303.70233103723655,
          304.795268425842,
          300.442958792712,
          294.080594467153,
          279.142666666667,
          259.78379857690203,
          290.9505219799036,
          286.96,
          307.107279693487,
          312.418333333333,
          349.50396825396825,
          346.111716281681,
          351.48,
          296.300987075965,
          297.4025129177354,
          300.059472982939,
          329.5925697865353,
          380.15286885674544,
          385.989780558965,
          377.777312390839,
          371.322681939018,
          372.334055324548,
          373.107915689887,
          382.05085664154,
          387.808865481676,
          378.032911347706,
          379.24,
          375.761370365556,
          374.484285714286,
          370.177053030744,
          378.151260504202,
          373.829365079365,
          374.9508531746031,
          383.873015873016,
          385.4085079365081,
          390.0334100317462,
          401.7344123326986,
          426.2384741695087,
          414.832638625742,
          430.3049495660333,
          436.3593713347409,
          440.995543044804,
          400.194899817851,
          482.69388657319695,
          486.684859384367,
          487.974077204846,
          498.376910445876
         ],
         "yaxis": "y"
        },
        {
         "hovertemplate": "State=NIGER<br>Date=%{x}<br>Rice local sold loose=%{y}<extra></extra>",
         "legendgroup": "NIGER",
         "line": {
          "color": "#00cc96",
          "dash": "solid"
         },
         "marker": {
          "symbol": "circle"
         },
         "mode": "lines",
         "name": "NIGER",
         "orientation": "v",
         "showlegend": true,
         "type": "scatter",
         "x": [
          "2017-01-01",
          "2017-02-01",
          "2017-03-01",
          "2017-04-01",
          "2017-05-01",
          "2017-06-01",
          "2017-07-01",
          "2017-08-01",
          "2017-09-01",
          "2017-10-01",
          "2017-11-01",
          "2017-12-01",
          "2018-01-01",
          "2018-02-01",
          "2018-03-01",
          "2018-04-01",
          "2018-05-01",
          "2018-06-01",
          "2018-07-01",
          "2018-08-01",
          "2018-09-01",
          "2018-10-01",
          "2018-11-01",
          "2018-12-01",
          "2019-01-01",
          "2019-02-01",
          "2019-03-01",
          "2019-04-01",
          "2019-05-01",
          "2019-06-01",
          "2019-07-01",
          "2019-08-01",
          "2019-09-01",
          "2019-10-01",
          "2019-11-01",
          "2019-12-01",
          "2020-01-01",
          "2020-02-01",
          "2020-03-01",
          "2020-04-01",
          "2020-05-01",
          "2020-06-01",
          "2020-07-01",
          "2020-08-01",
          "2020-09-01",
          "2020-10-01",
          "2020-11-01",
          "2020-12-01",
          "2021-01-01",
          "2021-02-01",
          "2021-03-01",
          "2021-04-01",
          "2021-05-01",
          "2021-06-01",
          "2021-07-01",
          "2021-08-01",
          "2021-09-01",
          "2021-10-01",
          "2021-11-01",
          "2021-12-01",
          "2022-01-01",
          "2022-02-01",
          "2022-03-01",
          "2022-04-01",
          "2022-05-01",
          "2022-06-01",
          "2022-07-01",
          "2022-08-01",
          "2022-09-01",
          "2022-10-01",
          "2022-11-01",
          "2022-12-01"
         ],
         "xaxis": "x",
         "y": [
          219.9135714285714,
          254.542727272727,
          249.1428571428572,
          245.11404561824733,
          340.681818181818,
          352.449903038138,
          344.561824729892,
          349.032941176471,
          356.775195013882,
          331.020408163265,
          322.26875,
          321.34693877551,
          329.273182957393,
          322,
          300.645731977001,
          245.11404561824733,
          256.775195013882,
          252.79647259047823,
          223.53383458646616,
          226.380952380952,
          235.94743160422067,
          245.3061224489796,
          237.14285714285717,
          223.53383458646627,
          237.830290010741,
          229.457593090459,
          244.102917634083,
          278.1588586851745,
          287.674285714286,
          285.46365914787,
          230.34282631006351,
          271.09,
          292.380952380952,
          251.0233333333333,
          242.76144907723852,
          207.12137486573576,
          218.532212885154,
          212.24489795918367,
          216.78571428571425,
          293.5355054302423,
          289.69747899159665,
          330.384615384615,
          334.5048019207683,
          336.938775510204,
          342.678571428571,
          345.436328377505,
          355.0101750101751,
          346.917293233083,
          350.16441183539,
          325.576935227532,
          328.270676691729,
          332.961249277039,
          333.84962406015,
          359.40000000000003,
          368.690476190476,
          366.428571428571,
          369.285714285714,
          369.6003457142854,
          372.857142857143,
          373.9757142857144,
          376.5935442857144,
          389.4429160167429,
          392.066026410564,
          409.7089975990394,
          412.57696058223263,
          415.887955182073,
          436.233766233766,
          400.726654131972,
          511.0831687785758,
          520.681318681319,
          546.1947032967036,
          549.798319327731
         ],
         "yaxis": "y"
        },
        {
         "hovertemplate": "State=PLATEAU<br>Date=%{x}<br>Rice local sold loose=%{y}<extra></extra>",
         "legendgroup": "PLATEAU",
         "line": {
          "color": "#ab63fa",
          "dash": "solid"
         },
         "marker": {
          "symbol": "circle"
         },
         "mode": "lines",
         "name": "PLATEAU",
         "orientation": "v",
         "showlegend": true,
         "type": "scatter",
         "x": [
          "2017-01-01",
          "2017-02-01",
          "2017-03-01",
          "2017-04-01",
          "2017-05-01",
          "2017-06-01",
          "2017-07-01",
          "2017-08-01",
          "2017-09-01",
          "2017-10-01",
          "2017-11-01",
          "2017-12-01",
          "2018-01-01",
          "2018-02-01",
          "2018-03-01",
          "2018-04-01",
          "2018-05-01",
          "2018-06-01",
          "2018-07-01",
          "2018-08-01",
          "2018-09-01",
          "2018-10-01",
          "2018-11-01",
          "2018-12-01",
          "2019-01-01",
          "2019-02-01",
          "2019-03-01",
          "2019-04-01",
          "2019-05-01",
          "2019-06-01",
          "2019-07-01",
          "2019-08-01",
          "2019-09-01",
          "2019-10-01",
          "2019-11-01",
          "2019-12-01",
          "2020-01-01",
          "2020-02-01",
          "2020-03-01",
          "2020-04-01",
          "2020-05-01",
          "2020-06-01",
          "2020-07-01",
          "2020-08-01",
          "2020-09-01",
          "2020-10-01",
          "2020-11-01",
          "2020-12-01",
          "2021-01-01",
          "2021-02-01",
          "2021-03-01",
          "2021-04-01",
          "2021-05-01",
          "2021-06-01",
          "2021-07-01",
          "2021-08-01",
          "2021-09-01",
          "2021-10-01",
          "2021-11-01",
          "2021-12-01",
          "2022-01-01",
          "2022-02-01",
          "2022-03-01",
          "2022-04-01",
          "2022-05-01",
          "2022-06-01",
          "2022-07-01",
          "2022-08-01",
          "2022-09-01",
          "2022-10-01",
          "2022-11-01",
          "2022-12-01"
         ],
         "xaxis": "x",
         "y": [
          253.75625,
          291.133625,
          281.10042972459564,
          296.5362871748381,
          328.458498023715,
          330.192827934208,
          323.535968352544,
          375.850588235294,
          377.118386068512,
          327.172766446434,
          320.55625,
          235.63369318235837,
          237.72861836249663,
          239.549720742446,
          274.7755777267875,
          296.5362871748381,
          277.11838606851165,
          244.85013348227253,
          265.42635665918374,
          258.9238122805164,
          255.3144293188787,
          263.2617401747599,
          244.85013348227253,
          265.42635665918374,
          305.825263786651,
          275.522091555936,
          269.2241622365412,
          241.98770238536645,
          231.0007692307692,
          285.46365914787,
          271.3834006532249,
          250.94,
          277.01,
          248.061,
          286.1567092956672,
          282.57368471582186,
          288.532212885154,
          266.27823524967886,
          269.3879792589469,
          278.94,
          287.133094776607,
          359.7050952748996,
          364.235017966767,
          365.706288999804,
          368.924098405854,
          371.286526816481,
          379.458278368908,
          373.302914184052,
          375.853238175228,
          377.185826248492,
          378.596007798976,
          374.567053535067,
          375.356310145048,
          379.303571428572,
          380.235451134446,
          380.479997351554,
          389.941348973607,
          390.15581671554247,
          399.037266033929,
          407.0180113546076,
          409.7857338318189,
          424.5380202497643,
          428.82055133845,
          433.232305324663,
          436.7501516438992,
          441.116322325352,
          472.701149425287,
          450.116322325352,
          469.1163223253524,
          510.632822139961,
          541.2707914683587,
          567.2994888066278
         ],
         "yaxis": "y"
        }
       ],
       "layout": {
        "legend": {
         "title": {
          "text": "State"
         },
         "tracegroupgap": 0
        },
        "margin": {
         "t": 60
        },
        "template": {
         "data": {
          "bar": [
           {
            "error_x": {
             "color": "#2a3f5f"
            },
            "error_y": {
             "color": "#2a3f5f"
            },
            "marker": {
             "line": {
              "color": "#E5ECF6",
              "width": 0.5
             },
             "pattern": {
              "fillmode": "overlay",
              "size": 10,
              "solidity": 0.2
             }
            },
            "type": "bar"
           }
          ],
          "barpolar": [
           {
            "marker": {
             "line": {
              "color": "#E5ECF6",
              "width": 0.5
             },
             "pattern": {
              "fillmode": "overlay",
              "size": 10,
              "solidity": 0.2
             }
            },
            "type": "barpolar"
           }
          ],
          "carpet": [
           {
            "aaxis": {
             "endlinecolor": "#2a3f5f",
             "gridcolor": "white",
             "linecolor": "white",
             "minorgridcolor": "white",
             "startlinecolor": "#2a3f5f"
            },
            "baxis": {
             "endlinecolor": "#2a3f5f",
             "gridcolor": "white",
             "linecolor": "white",
             "minorgridcolor": "white",
             "startlinecolor": "#2a3f5f"
            },
            "type": "carpet"
           }
          ],
          "choropleth": [
           {
            "colorbar": {
             "outlinewidth": 0,
             "ticks": ""
            },
            "type": "choropleth"
           }
          ],
          "contour": [
           {
            "colorbar": {
             "outlinewidth": 0,
             "ticks": ""
            },
            "colorscale": [
             [
              0,
              "#0d0887"
             ],
             [
              0.1111111111111111,
              "#46039f"
             ],
             [
              0.2222222222222222,
              "#7201a8"
             ],
             [
              0.3333333333333333,
              "#9c179e"
             ],
             [
              0.4444444444444444,
              "#bd3786"
             ],
             [
              0.5555555555555556,
              "#d8576b"
             ],
             [
              0.6666666666666666,
              "#ed7953"
             ],
             [
              0.7777777777777778,
              "#fb9f3a"
             ],
             [
              0.8888888888888888,
              "#fdca26"
             ],
             [
              1,
              "#f0f921"
             ]
            ],
            "type": "contour"
           }
          ],
          "contourcarpet": [
           {
            "colorbar": {
             "outlinewidth": 0,
             "ticks": ""
            },
            "type": "contourcarpet"
           }
          ],
          "heatmap": [
           {
            "colorbar": {
             "outlinewidth": 0,
             "ticks": ""
            },
            "colorscale": [
             [
              0,
              "#0d0887"
             ],
             [
              0.1111111111111111,
              "#46039f"
             ],
             [
              0.2222222222222222,
              "#7201a8"
             ],
             [
              0.3333333333333333,
              "#9c179e"
             ],
             [
              0.4444444444444444,
              "#bd3786"
             ],
             [
              0.5555555555555556,
              "#d8576b"
             ],
             [
              0.6666666666666666,
              "#ed7953"
             ],
             [
              0.7777777777777778,
              "#fb9f3a"
             ],
             [
              0.8888888888888888,
              "#fdca26"
             ],
             [
              1,
              "#f0f921"
             ]
            ],
            "type": "heatmap"
           }
          ],
          "heatmapgl": [
           {
            "colorbar": {
             "outlinewidth": 0,
             "ticks": ""
            },
            "colorscale": [
             [
              0,
              "#0d0887"
             ],
             [
              0.1111111111111111,
              "#46039f"
             ],
             [
              0.2222222222222222,
              "#7201a8"
             ],
             [
              0.3333333333333333,
              "#9c179e"
             ],
             [
              0.4444444444444444,
              "#bd3786"
             ],
             [
              0.5555555555555556,
              "#d8576b"
             ],
             [
              0.6666666666666666,
              "#ed7953"
             ],
             [
              0.7777777777777778,
              "#fb9f3a"
             ],
             [
              0.8888888888888888,
              "#fdca26"
             ],
             [
              1,
              "#f0f921"
             ]
            ],
            "type": "heatmapgl"
           }
          ],
          "histogram": [
           {
            "marker": {
             "pattern": {
              "fillmode": "overlay",
              "size": 10,
              "solidity": 0.2
             }
            },
            "type": "histogram"
           }
          ],
          "histogram2d": [
           {
            "colorbar": {
             "outlinewidth": 0,
             "ticks": ""
            },
            "colorscale": [
             [
              0,
              "#0d0887"
             ],
             [
              0.1111111111111111,
              "#46039f"
             ],
             [
              0.2222222222222222,
              "#7201a8"
             ],
             [
              0.3333333333333333,
              "#9c179e"
             ],
             [
              0.4444444444444444,
              "#bd3786"
             ],
             [
              0.5555555555555556,
              "#d8576b"
             ],
             [
              0.6666666666666666,
              "#ed7953"
             ],
             [
              0.7777777777777778,
              "#fb9f3a"
             ],
             [
              0.8888888888888888,
              "#fdca26"
             ],
             [
              1,
              "#f0f921"
             ]
            ],
            "type": "histogram2d"
           }
          ],
          "histogram2dcontour": [
           {
            "colorbar": {
             "outlinewidth": 0,
             "ticks": ""
            },
            "colorscale": [
             [
              0,
              "#0d0887"
             ],
             [
              0.1111111111111111,
              "#46039f"
             ],
             [
              0.2222222222222222,
              "#7201a8"
             ],
             [
              0.3333333333333333,
              "#9c179e"
             ],
             [
              0.4444444444444444,
              "#bd3786"
             ],
             [
              0.5555555555555556,
              "#d8576b"
             ],
             [
              0.6666666666666666,
              "#ed7953"
             ],
             [
              0.7777777777777778,
              "#fb9f3a"
             ],
             [
              0.8888888888888888,
              "#fdca26"
             ],
             [
              1,
              "#f0f921"
             ]
            ],
            "type": "histogram2dcontour"
           }
          ],
          "mesh3d": [
           {
            "colorbar": {
             "outlinewidth": 0,
             "ticks": ""
            },
            "type": "mesh3d"
           }
          ],
          "parcoords": [
           {
            "line": {
             "colorbar": {
              "outlinewidth": 0,
              "ticks": ""
             }
            },
            "type": "parcoords"
           }
          ],
          "pie": [
           {
            "automargin": true,
            "type": "pie"
           }
          ],
          "scatter": [
           {
            "fillpattern": {
             "fillmode": "overlay",
             "size": 10,
             "solidity": 0.2
            },
            "type": "scatter"
           }
          ],
          "scatter3d": [
           {
            "line": {
             "colorbar": {
              "outlinewidth": 0,
              "ticks": ""
             }
            },
            "marker": {
             "colorbar": {
              "outlinewidth": 0,
              "ticks": ""
             }
            },
            "type": "scatter3d"
           }
          ],
          "scattercarpet": [
           {
            "marker": {
             "colorbar": {
              "outlinewidth": 0,
              "ticks": ""
             }
            },
            "type": "scattercarpet"
           }
          ],
          "scattergeo": [
           {
            "marker": {
             "colorbar": {
              "outlinewidth": 0,
              "ticks": ""
             }
            },
            "type": "scattergeo"
           }
          ],
          "scattergl": [
           {
            "marker": {
             "colorbar": {
              "outlinewidth": 0,
              "ticks": ""
             }
            },
            "type": "scattergl"
           }
          ],
          "scattermapbox": [
           {
            "marker": {
             "colorbar": {
              "outlinewidth": 0,
              "ticks": ""
             }
            },
            "type": "scattermapbox"
           }
          ],
          "scatterpolar": [
           {
            "marker": {
             "colorbar": {
              "outlinewidth": 0,
              "ticks": ""
             }
            },
            "type": "scatterpolar"
           }
          ],
          "scatterpolargl": [
           {
            "marker": {
             "colorbar": {
              "outlinewidth": 0,
              "ticks": ""
             }
            },
            "type": "scatterpolargl"
           }
          ],
          "scatterternary": [
           {
            "marker": {
             "colorbar": {
              "outlinewidth": 0,
              "ticks": ""
             }
            },
            "type": "scatterternary"
           }
          ],
          "surface": [
           {
            "colorbar": {
             "outlinewidth": 0,
             "ticks": ""
            },
            "colorscale": [
             [
              0,
              "#0d0887"
             ],
             [
              0.1111111111111111,
              "#46039f"
             ],
             [
              0.2222222222222222,
              "#7201a8"
             ],
             [
              0.3333333333333333,
              "#9c179e"
             ],
             [
              0.4444444444444444,
              "#bd3786"
             ],
             [
              0.5555555555555556,
              "#d8576b"
             ],
             [
              0.6666666666666666,
              "#ed7953"
             ],
             [
              0.7777777777777778,
              "#fb9f3a"
             ],
             [
              0.8888888888888888,
              "#fdca26"
             ],
             [
              1,
              "#f0f921"
             ]
            ],
            "type": "surface"
           }
          ],
          "table": [
           {
            "cells": {
             "fill": {
              "color": "#EBF0F8"
             },
             "line": {
              "color": "white"
             }
            },
            "header": {
             "fill": {
              "color": "#C8D4E3"
             },
             "line": {
              "color": "white"
             }
            },
            "type": "table"
           }
          ]
         },
         "layout": {
          "annotationdefaults": {
           "arrowcolor": "#2a3f5f",
           "arrowhead": 0,
           "arrowwidth": 1
          },
          "autotypenumbers": "strict",
          "coloraxis": {
           "colorbar": {
            "outlinewidth": 0,
            "ticks": ""
           }
          },
          "colorscale": {
           "diverging": [
            [
             0,
             "#8e0152"
            ],
            [
             0.1,
             "#c51b7d"
            ],
            [
             0.2,
             "#de77ae"
            ],
            [
             0.3,
             "#f1b6da"
            ],
            [
             0.4,
             "#fde0ef"
            ],
            [
             0.5,
             "#f7f7f7"
            ],
            [
             0.6,
             "#e6f5d0"
            ],
            [
             0.7,
             "#b8e186"
            ],
            [
             0.8,
             "#7fbc41"
            ],
            [
             0.9,
             "#4d9221"
            ],
            [
             1,
             "#276419"
            ]
           ],
           "sequential": [
            [
             0,
             "#0d0887"
            ],
            [
             0.1111111111111111,
             "#46039f"
            ],
            [
             0.2222222222222222,
             "#7201a8"
            ],
            [
             0.3333333333333333,
             "#9c179e"
            ],
            [
             0.4444444444444444,
             "#bd3786"
            ],
            [
             0.5555555555555556,
             "#d8576b"
            ],
            [
             0.6666666666666666,
             "#ed7953"
            ],
            [
             0.7777777777777778,
             "#fb9f3a"
            ],
            [
             0.8888888888888888,
             "#fdca26"
            ],
            [
             1,
             "#f0f921"
            ]
           ],
           "sequentialminus": [
            [
             0,
             "#0d0887"
            ],
            [
             0.1111111111111111,
             "#46039f"
            ],
            [
             0.2222222222222222,
             "#7201a8"
            ],
            [
             0.3333333333333333,
             "#9c179e"
            ],
            [
             0.4444444444444444,
             "#bd3786"
            ],
            [
             0.5555555555555556,
             "#d8576b"
            ],
            [
             0.6666666666666666,
             "#ed7953"
            ],
            [
             0.7777777777777778,
             "#fb9f3a"
            ],
            [
             0.8888888888888888,
             "#fdca26"
            ],
            [
             1,
             "#f0f921"
            ]
           ]
          },
          "colorway": [
           "#636efa",
           "#EF553B",
           "#00cc96",
           "#ab63fa",
           "#FFA15A",
           "#19d3f3",
           "#FF6692",
           "#B6E880",
           "#FF97FF",
           "#FECB52"
          ],
          "font": {
           "color": "#2a3f5f"
          },
          "geo": {
           "bgcolor": "white",
           "lakecolor": "white",
           "landcolor": "#E5ECF6",
           "showlakes": true,
           "showland": true,
           "subunitcolor": "white"
          },
          "hoverlabel": {
           "align": "left"
          },
          "hovermode": "closest",
          "mapbox": {
           "style": "light"
          },
          "paper_bgcolor": "white",
          "plot_bgcolor": "#E5ECF6",
          "polar": {
           "angularaxis": {
            "gridcolor": "white",
            "linecolor": "white",
            "ticks": ""
           },
           "bgcolor": "#E5ECF6",
           "radialaxis": {
            "gridcolor": "white",
            "linecolor": "white",
            "ticks": ""
           }
          },
          "scene": {
           "xaxis": {
            "backgroundcolor": "#E5ECF6",
            "gridcolor": "white",
            "gridwidth": 2,
            "linecolor": "white",
            "showbackground": true,
            "ticks": "",
            "zerolinecolor": "white"
           },
           "yaxis": {
            "backgroundcolor": "#E5ECF6",
            "gridcolor": "white",
            "gridwidth": 2,
            "linecolor": "white",
            "showbackground": true,
            "ticks": "",
            "zerolinecolor": "white"
           },
           "zaxis": {
            "backgroundcolor": "#E5ECF6",
            "gridcolor": "white",
            "gridwidth": 2,
            "linecolor": "white",
            "showbackground": true,
            "ticks": "",
            "zerolinecolor": "white"
           }
          },
          "shapedefaults": {
           "line": {
            "color": "#2a3f5f"
           }
          },
          "ternary": {
           "aaxis": {
            "gridcolor": "white",
            "linecolor": "white",
            "ticks": ""
           },
           "baxis": {
            "gridcolor": "white",
            "linecolor": "white",
            "ticks": ""
           },
           "bgcolor": "#E5ECF6",
           "caxis": {
            "gridcolor": "white",
            "linecolor": "white",
            "ticks": ""
           }
          },
          "title": {
           "x": 0.05
          },
          "xaxis": {
           "automargin": true,
           "gridcolor": "white",
           "linecolor": "white",
           "ticks": "",
           "title": {
            "standoff": 15
           },
           "zerolinecolor": "white",
           "zerolinewidth": 2
          },
          "yaxis": {
           "automargin": true,
           "gridcolor": "white",
           "linecolor": "white",
           "ticks": "",
           "title": {
            "standoff": 15
           },
           "zerolinecolor": "white",
           "zerolinewidth": 2
          }
         }
        },
        "xaxis": {
         "anchor": "y",
         "domain": [
          0,
          1
         ],
         "title": {
          "text": "Date"
         }
        },
        "yaxis": {
         "anchor": "x",
         "domain": [
          0,
          1
         ],
         "title": {
          "text": "Rice local sold loose"
         }
        }
       }
      },
      "text/html": [
       "<div>                            <div id=\"e64e97a6-fdb6-433c-baba-6fb9f3302d88\" class=\"plotly-graph-div\" style=\"height:525px; width:100%;\"></div>            <script type=\"text/javascript\">                require([\"plotly\"], function(Plotly) {                    window.PLOTLYENV=window.PLOTLYENV || {};                                    if (document.getElementById(\"e64e97a6-fdb6-433c-baba-6fb9f3302d88\")) {                    Plotly.newPlot(                        \"e64e97a6-fdb6-433c-baba-6fb9f3302d88\",                        [{\"hovertemplate\":\"State=ABUJA<br>Date=%{x}<br>Rice local sold loose=%{y}<extra></extra>\",\"legendgroup\":\"ABUJA\",\"line\":{\"color\":\"#636efa\",\"dash\":\"solid\"},\"marker\":{\"symbol\":\"circle\"},\"mode\":\"lines\",\"name\":\"ABUJA\",\"orientation\":\"v\",\"showlegend\":true,\"x\":[\"2017-01-01\",\"2017-02-01\",\"2017-03-01\",\"2017-04-01\",\"2017-05-01\",\"2017-06-01\",\"2017-07-01\",\"2017-08-01\",\"2017-09-01\",\"2017-10-01\",\"2017-11-01\",\"2017-12-01\",\"2018-01-01\",\"2018-02-01\",\"2018-03-01\",\"2018-04-01\",\"2018-05-01\",\"2018-06-01\",\"2018-07-01\",\"2018-08-01\",\"2018-09-01\",\"2018-10-01\",\"2018-11-01\",\"2018-12-01\",\"2019-01-01\",\"2019-02-01\",\"2019-03-01\",\"2019-04-01\",\"2019-05-01\",\"2019-06-01\",\"2019-07-01\",\"2019-08-01\",\"2019-09-01\",\"2019-10-01\",\"2019-11-01\",\"2019-12-01\",\"2020-01-01\",\"2020-02-01\",\"2020-03-01\",\"2020-04-01\",\"2020-05-01\",\"2020-06-01\",\"2020-07-01\",\"2020-08-01\",\"2020-09-01\",\"2020-10-01\",\"2020-11-01\",\"2020-12-01\",\"2021-01-01\",\"2021-02-01\",\"2021-03-01\",\"2021-04-01\",\"2021-05-01\",\"2021-06-01\",\"2021-07-01\",\"2021-08-01\",\"2021-09-01\",\"2021-10-01\",\"2021-11-01\",\"2021-12-01\",\"2022-01-01\",\"2022-02-01\",\"2022-03-01\",\"2022-04-01\",\"2022-05-01\",\"2022-06-01\",\"2022-07-01\",\"2022-08-01\",\"2022-09-01\",\"2022-10-01\",\"2022-11-01\",\"2022-12-01\"],\"xaxis\":\"x\",\"y\":[299.1475,300.34,297.69830777366474,296.3085375168929,311.616161616162,292.894081614666,294.55719040656976,312.6655555555556,302.577374589513,284.61924734186147,282.679247341861,271.16719602264004,261.944555881763,320.1722497932176,326.679644048943,306.308537516893,292.577374589513,295.4763333528482,295.02688172043014,297.6427375286445,294.758064516129,332.0110604762039,344.09703860391323,295.0268817204301,299.05913978494624,305.443548387097,327.4443816321003,319.731182795699,317.65111111111105,314.838709677419,315.21,282.17,294.3010752688172,305.498888888889,373.93,382.51,362.2455278177939,392.88898439343376,348.94362682182486,348.94362682182486,363.0248887652948,389.962331883911,420.628939562477,450.243325917686,524.2479017089696,536.026140155729,529.74,518.465192806822,500.900444938821,466.26,466.9354838709678,471.4076246334311,485.83284457478,471.485,499.5967741935484,494.435483870968,451.59946236559136,461.6935483870969,466.9086021505376,467.1887473118279,457.004608294931,460.14693,470.366935483871,481.129032258065,485.5770609319,485.81984946236594,486.2085053419358,400.26284348865,416.129032258065,430.774193548387,434.993633817163,439.699666295884],\"yaxis\":\"y\",\"type\":\"scatter\"},{\"hovertemplate\":\"State=BENUE<br>Date=%{x}<br>Rice local sold loose=%{y}<extra></extra>\",\"legendgroup\":\"BENUE\",\"line\":{\"color\":\"#EF553B\",\"dash\":\"solid\"},\"marker\":{\"symbol\":\"circle\"},\"mode\":\"lines\",\"name\":\"BENUE\",\"orientation\":\"v\",\"showlegend\":true,\"x\":[\"2017-01-01\",\"2017-02-01\",\"2017-03-01\",\"2017-04-01\",\"2017-05-01\",\"2017-06-01\",\"2017-07-01\",\"2017-08-01\",\"2017-09-01\",\"2017-10-01\",\"2017-11-01\",\"2017-12-01\",\"2018-01-01\",\"2018-02-01\",\"2018-03-01\",\"2018-04-01\",\"2018-05-01\",\"2018-06-01\",\"2018-07-01\",\"2018-08-01\",\"2018-09-01\",\"2018-10-01\",\"2018-11-01\",\"2018-12-01\",\"2019-01-01\",\"2019-02-01\",\"2019-03-01\",\"2019-04-01\",\"2019-05-01\",\"2019-06-01\",\"2019-07-01\",\"2019-08-01\",\"2019-09-01\",\"2019-10-01\",\"2019-11-01\",\"2020-01-01\",\"2020-02-01\",\"2020-03-01\",\"2020-04-01\",\"2020-05-01\",\"2020-06-01\",\"2020-07-01\",\"2020-08-01\",\"2020-09-01\",\"2020-10-01\",\"2020-11-01\",\"2020-12-01\",\"2021-01-01\",\"2021-02-01\",\"2021-03-01\",\"2021-04-01\",\"2021-05-01\",\"2021-06-01\",\"2021-07-01\",\"2021-08-01\",\"2021-09-01\",\"2021-10-01\",\"2021-11-01\",\"2021-12-01\",\"2022-01-01\",\"2022-02-01\",\"2022-03-01\",\"2022-04-01\",\"2022-05-01\",\"2022-06-01\",\"2022-07-01\",\"2022-08-01\",\"2022-09-01\",\"2022-10-01\",\"2022-11-01\",\"2022-12-01\"],\"xaxis\":\"x\",\"y\":[272.71,283.965625,297.12930759017894,303.15065681444986,335.914085914086,357.9970122612337,338.89497007725,285.9622222222221,297.8574631965602,283.03792781480405,257.3090909090909,266.80304886863746,232.77975307661072,241.7703974433674,243.30067298774028,252.317323481117,297.8574631965602,265.7546038537815,256.4537058530293,260.7644043720104,253.074256394402,260.120415982485,278.17434201875585,256.45370585302936,303.70233103723655,304.795268425842,300.442958792712,294.080594467153,279.142666666667,259.78379857690203,290.9505219799036,286.96,307.107279693487,312.418333333333,349.50396825396825,346.111716281681,351.48,296.300987075965,297.4025129177354,300.059472982939,329.5925697865353,380.15286885674544,385.989780558965,377.777312390839,371.322681939018,372.334055324548,373.107915689887,382.05085664154,387.808865481676,378.032911347706,379.24,375.761370365556,374.484285714286,370.177053030744,378.151260504202,373.829365079365,374.9508531746031,383.873015873016,385.4085079365081,390.0334100317462,401.7344123326986,426.2384741695087,414.832638625742,430.3049495660333,436.3593713347409,440.995543044804,400.194899817851,482.69388657319695,486.684859384367,487.974077204846,498.376910445876],\"yaxis\":\"y\",\"type\":\"scatter\"},{\"hovertemplate\":\"State=NIGER<br>Date=%{x}<br>Rice local sold loose=%{y}<extra></extra>\",\"legendgroup\":\"NIGER\",\"line\":{\"color\":\"#00cc96\",\"dash\":\"solid\"},\"marker\":{\"symbol\":\"circle\"},\"mode\":\"lines\",\"name\":\"NIGER\",\"orientation\":\"v\",\"showlegend\":true,\"x\":[\"2017-01-01\",\"2017-02-01\",\"2017-03-01\",\"2017-04-01\",\"2017-05-01\",\"2017-06-01\",\"2017-07-01\",\"2017-08-01\",\"2017-09-01\",\"2017-10-01\",\"2017-11-01\",\"2017-12-01\",\"2018-01-01\",\"2018-02-01\",\"2018-03-01\",\"2018-04-01\",\"2018-05-01\",\"2018-06-01\",\"2018-07-01\",\"2018-08-01\",\"2018-09-01\",\"2018-10-01\",\"2018-11-01\",\"2018-12-01\",\"2019-01-01\",\"2019-02-01\",\"2019-03-01\",\"2019-04-01\",\"2019-05-01\",\"2019-06-01\",\"2019-07-01\",\"2019-08-01\",\"2019-09-01\",\"2019-10-01\",\"2019-11-01\",\"2019-12-01\",\"2020-01-01\",\"2020-02-01\",\"2020-03-01\",\"2020-04-01\",\"2020-05-01\",\"2020-06-01\",\"2020-07-01\",\"2020-08-01\",\"2020-09-01\",\"2020-10-01\",\"2020-11-01\",\"2020-12-01\",\"2021-01-01\",\"2021-02-01\",\"2021-03-01\",\"2021-04-01\",\"2021-05-01\",\"2021-06-01\",\"2021-07-01\",\"2021-08-01\",\"2021-09-01\",\"2021-10-01\",\"2021-11-01\",\"2021-12-01\",\"2022-01-01\",\"2022-02-01\",\"2022-03-01\",\"2022-04-01\",\"2022-05-01\",\"2022-06-01\",\"2022-07-01\",\"2022-08-01\",\"2022-09-01\",\"2022-10-01\",\"2022-11-01\",\"2022-12-01\"],\"xaxis\":\"x\",\"y\":[219.9135714285714,254.542727272727,249.1428571428572,245.11404561824733,340.681818181818,352.449903038138,344.561824729892,349.032941176471,356.775195013882,331.020408163265,322.26875,321.34693877551,329.273182957393,322.0,300.645731977001,245.11404561824733,256.775195013882,252.79647259047823,223.53383458646616,226.380952380952,235.94743160422067,245.3061224489796,237.14285714285717,223.53383458646627,237.830290010741,229.457593090459,244.102917634083,278.1588586851745,287.674285714286,285.46365914787,230.34282631006351,271.09,292.380952380952,251.0233333333333,242.76144907723852,207.12137486573576,218.532212885154,212.24489795918367,216.78571428571425,293.5355054302423,289.69747899159665,330.384615384615,334.5048019207683,336.938775510204,342.678571428571,345.436328377505,355.0101750101751,346.917293233083,350.16441183539,325.576935227532,328.270676691729,332.961249277039,333.84962406015,359.40000000000003,368.690476190476,366.428571428571,369.285714285714,369.6003457142854,372.857142857143,373.9757142857144,376.5935442857144,389.4429160167429,392.066026410564,409.7089975990394,412.57696058223263,415.887955182073,436.233766233766,400.726654131972,511.0831687785758,520.681318681319,546.1947032967036,549.798319327731],\"yaxis\":\"y\",\"type\":\"scatter\"},{\"hovertemplate\":\"State=PLATEAU<br>Date=%{x}<br>Rice local sold loose=%{y}<extra></extra>\",\"legendgroup\":\"PLATEAU\",\"line\":{\"color\":\"#ab63fa\",\"dash\":\"solid\"},\"marker\":{\"symbol\":\"circle\"},\"mode\":\"lines\",\"name\":\"PLATEAU\",\"orientation\":\"v\",\"showlegend\":true,\"x\":[\"2017-01-01\",\"2017-02-01\",\"2017-03-01\",\"2017-04-01\",\"2017-05-01\",\"2017-06-01\",\"2017-07-01\",\"2017-08-01\",\"2017-09-01\",\"2017-10-01\",\"2017-11-01\",\"2017-12-01\",\"2018-01-01\",\"2018-02-01\",\"2018-03-01\",\"2018-04-01\",\"2018-05-01\",\"2018-06-01\",\"2018-07-01\",\"2018-08-01\",\"2018-09-01\",\"2018-10-01\",\"2018-11-01\",\"2018-12-01\",\"2019-01-01\",\"2019-02-01\",\"2019-03-01\",\"2019-04-01\",\"2019-05-01\",\"2019-06-01\",\"2019-07-01\",\"2019-08-01\",\"2019-09-01\",\"2019-10-01\",\"2019-11-01\",\"2019-12-01\",\"2020-01-01\",\"2020-02-01\",\"2020-03-01\",\"2020-04-01\",\"2020-05-01\",\"2020-06-01\",\"2020-07-01\",\"2020-08-01\",\"2020-09-01\",\"2020-10-01\",\"2020-11-01\",\"2020-12-01\",\"2021-01-01\",\"2021-02-01\",\"2021-03-01\",\"2021-04-01\",\"2021-05-01\",\"2021-06-01\",\"2021-07-01\",\"2021-08-01\",\"2021-09-01\",\"2021-10-01\",\"2021-11-01\",\"2021-12-01\",\"2022-01-01\",\"2022-02-01\",\"2022-03-01\",\"2022-04-01\",\"2022-05-01\",\"2022-06-01\",\"2022-07-01\",\"2022-08-01\",\"2022-09-01\",\"2022-10-01\",\"2022-11-01\",\"2022-12-01\"],\"xaxis\":\"x\",\"y\":[253.75625,291.133625,281.10042972459564,296.5362871748381,328.458498023715,330.192827934208,323.535968352544,375.850588235294,377.118386068512,327.172766446434,320.55625,235.63369318235837,237.72861836249663,239.549720742446,274.7755777267875,296.5362871748381,277.11838606851165,244.85013348227253,265.42635665918374,258.9238122805164,255.3144293188787,263.2617401747599,244.85013348227253,265.42635665918374,305.825263786651,275.522091555936,269.2241622365412,241.98770238536645,231.0007692307692,285.46365914787,271.3834006532249,250.94,277.01,248.061,286.1567092956672,282.57368471582186,288.532212885154,266.27823524967886,269.3879792589469,278.94,287.133094776607,359.7050952748996,364.235017966767,365.706288999804,368.924098405854,371.286526816481,379.458278368908,373.302914184052,375.853238175228,377.185826248492,378.596007798976,374.567053535067,375.356310145048,379.303571428572,380.235451134446,380.479997351554,389.941348973607,390.15581671554247,399.037266033929,407.0180113546076,409.7857338318189,424.5380202497643,428.82055133845,433.232305324663,436.7501516438992,441.116322325352,472.701149425287,450.116322325352,469.1163223253524,510.632822139961,541.2707914683587,567.2994888066278],\"yaxis\":\"y\",\"type\":\"scatter\"}],                        {\"template\":{\"data\":{\"histogram2dcontour\":[{\"type\":\"histogram2dcontour\",\"colorbar\":{\"outlinewidth\":0,\"ticks\":\"\"},\"colorscale\":[[0.0,\"#0d0887\"],[0.1111111111111111,\"#46039f\"],[0.2222222222222222,\"#7201a8\"],[0.3333333333333333,\"#9c179e\"],[0.4444444444444444,\"#bd3786\"],[0.5555555555555556,\"#d8576b\"],[0.6666666666666666,\"#ed7953\"],[0.7777777777777778,\"#fb9f3a\"],[0.8888888888888888,\"#fdca26\"],[1.0,\"#f0f921\"]]}],\"choropleth\":[{\"type\":\"choropleth\",\"colorbar\":{\"outlinewidth\":0,\"ticks\":\"\"}}],\"histogram2d\":[{\"type\":\"histogram2d\",\"colorbar\":{\"outlinewidth\":0,\"ticks\":\"\"},\"colorscale\":[[0.0,\"#0d0887\"],[0.1111111111111111,\"#46039f\"],[0.2222222222222222,\"#7201a8\"],[0.3333333333333333,\"#9c179e\"],[0.4444444444444444,\"#bd3786\"],[0.5555555555555556,\"#d8576b\"],[0.6666666666666666,\"#ed7953\"],[0.7777777777777778,\"#fb9f3a\"],[0.8888888888888888,\"#fdca26\"],[1.0,\"#f0f921\"]]}],\"heatmap\":[{\"type\":\"heatmap\",\"colorbar\":{\"outlinewidth\":0,\"ticks\":\"\"},\"colorscale\":[[0.0,\"#0d0887\"],[0.1111111111111111,\"#46039f\"],[0.2222222222222222,\"#7201a8\"],[0.3333333333333333,\"#9c179e\"],[0.4444444444444444,\"#bd3786\"],[0.5555555555555556,\"#d8576b\"],[0.6666666666666666,\"#ed7953\"],[0.7777777777777778,\"#fb9f3a\"],[0.8888888888888888,\"#fdca26\"],[1.0,\"#f0f921\"]]}],\"heatmapgl\":[{\"type\":\"heatmapgl\",\"colorbar\":{\"outlinewidth\":0,\"ticks\":\"\"},\"colorscale\":[[0.0,\"#0d0887\"],[0.1111111111111111,\"#46039f\"],[0.2222222222222222,\"#7201a8\"],[0.3333333333333333,\"#9c179e\"],[0.4444444444444444,\"#bd3786\"],[0.5555555555555556,\"#d8576b\"],[0.6666666666666666,\"#ed7953\"],[0.7777777777777778,\"#fb9f3a\"],[0.8888888888888888,\"#fdca26\"],[1.0,\"#f0f921\"]]}],\"contourcarpet\":[{\"type\":\"contourcarpet\",\"colorbar\":{\"outlinewidth\":0,\"ticks\":\"\"}}],\"contour\":[{\"type\":\"contour\",\"colorbar\":{\"outlinewidth\":0,\"ticks\":\"\"},\"colorscale\":[[0.0,\"#0d0887\"],[0.1111111111111111,\"#46039f\"],[0.2222222222222222,\"#7201a8\"],[0.3333333333333333,\"#9c179e\"],[0.4444444444444444,\"#bd3786\"],[0.5555555555555556,\"#d8576b\"],[0.6666666666666666,\"#ed7953\"],[0.7777777777777778,\"#fb9f3a\"],[0.8888888888888888,\"#fdca26\"],[1.0,\"#f0f921\"]]}],\"surface\":[{\"type\":\"surface\",\"colorbar\":{\"outlinewidth\":0,\"ticks\":\"\"},\"colorscale\":[[0.0,\"#0d0887\"],[0.1111111111111111,\"#46039f\"],[0.2222222222222222,\"#7201a8\"],[0.3333333333333333,\"#9c179e\"],[0.4444444444444444,\"#bd3786\"],[0.5555555555555556,\"#d8576b\"],[0.6666666666666666,\"#ed7953\"],[0.7777777777777778,\"#fb9f3a\"],[0.8888888888888888,\"#fdca26\"],[1.0,\"#f0f921\"]]}],\"mesh3d\":[{\"type\":\"mesh3d\",\"colorbar\":{\"outlinewidth\":0,\"ticks\":\"\"}}],\"scatter\":[{\"fillpattern\":{\"fillmode\":\"overlay\",\"size\":10,\"solidity\":0.2},\"type\":\"scatter\"}],\"parcoords\":[{\"type\":\"parcoords\",\"line\":{\"colorbar\":{\"outlinewidth\":0,\"ticks\":\"\"}}}],\"scatterpolargl\":[{\"type\":\"scatterpolargl\",\"marker\":{\"colorbar\":{\"outlinewidth\":0,\"ticks\":\"\"}}}],\"bar\":[{\"error_x\":{\"color\":\"#2a3f5f\"},\"error_y\":{\"color\":\"#2a3f5f\"},\"marker\":{\"line\":{\"color\":\"#E5ECF6\",\"width\":0.5},\"pattern\":{\"fillmode\":\"overlay\",\"size\":10,\"solidity\":0.2}},\"type\":\"bar\"}],\"scattergeo\":[{\"type\":\"scattergeo\",\"marker\":{\"colorbar\":{\"outlinewidth\":0,\"ticks\":\"\"}}}],\"scatterpolar\":[{\"type\":\"scatterpolar\",\"marker\":{\"colorbar\":{\"outlinewidth\":0,\"ticks\":\"\"}}}],\"histogram\":[{\"marker\":{\"pattern\":{\"fillmode\":\"overlay\",\"size\":10,\"solidity\":0.2}},\"type\":\"histogram\"}],\"scattergl\":[{\"type\":\"scattergl\",\"marker\":{\"colorbar\":{\"outlinewidth\":0,\"ticks\":\"\"}}}],\"scatter3d\":[{\"type\":\"scatter3d\",\"line\":{\"colorbar\":{\"outlinewidth\":0,\"ticks\":\"\"}},\"marker\":{\"colorbar\":{\"outlinewidth\":0,\"ticks\":\"\"}}}],\"scattermapbox\":[{\"type\":\"scattermapbox\",\"marker\":{\"colorbar\":{\"outlinewidth\":0,\"ticks\":\"\"}}}],\"scatterternary\":[{\"type\":\"scatterternary\",\"marker\":{\"colorbar\":{\"outlinewidth\":0,\"ticks\":\"\"}}}],\"scattercarpet\":[{\"type\":\"scattercarpet\",\"marker\":{\"colorbar\":{\"outlinewidth\":0,\"ticks\":\"\"}}}],\"carpet\":[{\"aaxis\":{\"endlinecolor\":\"#2a3f5f\",\"gridcolor\":\"white\",\"linecolor\":\"white\",\"minorgridcolor\":\"white\",\"startlinecolor\":\"#2a3f5f\"},\"baxis\":{\"endlinecolor\":\"#2a3f5f\",\"gridcolor\":\"white\",\"linecolor\":\"white\",\"minorgridcolor\":\"white\",\"startlinecolor\":\"#2a3f5f\"},\"type\":\"carpet\"}],\"table\":[{\"cells\":{\"fill\":{\"color\":\"#EBF0F8\"},\"line\":{\"color\":\"white\"}},\"header\":{\"fill\":{\"color\":\"#C8D4E3\"},\"line\":{\"color\":\"white\"}},\"type\":\"table\"}],\"barpolar\":[{\"marker\":{\"line\":{\"color\":\"#E5ECF6\",\"width\":0.5},\"pattern\":{\"fillmode\":\"overlay\",\"size\":10,\"solidity\":0.2}},\"type\":\"barpolar\"}],\"pie\":[{\"automargin\":true,\"type\":\"pie\"}]},\"layout\":{\"autotypenumbers\":\"strict\",\"colorway\":[\"#636efa\",\"#EF553B\",\"#00cc96\",\"#ab63fa\",\"#FFA15A\",\"#19d3f3\",\"#FF6692\",\"#B6E880\",\"#FF97FF\",\"#FECB52\"],\"font\":{\"color\":\"#2a3f5f\"},\"hovermode\":\"closest\",\"hoverlabel\":{\"align\":\"left\"},\"paper_bgcolor\":\"white\",\"plot_bgcolor\":\"#E5ECF6\",\"polar\":{\"bgcolor\":\"#E5ECF6\",\"angularaxis\":{\"gridcolor\":\"white\",\"linecolor\":\"white\",\"ticks\":\"\"},\"radialaxis\":{\"gridcolor\":\"white\",\"linecolor\":\"white\",\"ticks\":\"\"}},\"ternary\":{\"bgcolor\":\"#E5ECF6\",\"aaxis\":{\"gridcolor\":\"white\",\"linecolor\":\"white\",\"ticks\":\"\"},\"baxis\":{\"gridcolor\":\"white\",\"linecolor\":\"white\",\"ticks\":\"\"},\"caxis\":{\"gridcolor\":\"white\",\"linecolor\":\"white\",\"ticks\":\"\"}},\"coloraxis\":{\"colorbar\":{\"outlinewidth\":0,\"ticks\":\"\"}},\"colorscale\":{\"sequential\":[[0.0,\"#0d0887\"],[0.1111111111111111,\"#46039f\"],[0.2222222222222222,\"#7201a8\"],[0.3333333333333333,\"#9c179e\"],[0.4444444444444444,\"#bd3786\"],[0.5555555555555556,\"#d8576b\"],[0.6666666666666666,\"#ed7953\"],[0.7777777777777778,\"#fb9f3a\"],[0.8888888888888888,\"#fdca26\"],[1.0,\"#f0f921\"]],\"sequentialminus\":[[0.0,\"#0d0887\"],[0.1111111111111111,\"#46039f\"],[0.2222222222222222,\"#7201a8\"],[0.3333333333333333,\"#9c179e\"],[0.4444444444444444,\"#bd3786\"],[0.5555555555555556,\"#d8576b\"],[0.6666666666666666,\"#ed7953\"],[0.7777777777777778,\"#fb9f3a\"],[0.8888888888888888,\"#fdca26\"],[1.0,\"#f0f921\"]],\"diverging\":[[0,\"#8e0152\"],[0.1,\"#c51b7d\"],[0.2,\"#de77ae\"],[0.3,\"#f1b6da\"],[0.4,\"#fde0ef\"],[0.5,\"#f7f7f7\"],[0.6,\"#e6f5d0\"],[0.7,\"#b8e186\"],[0.8,\"#7fbc41\"],[0.9,\"#4d9221\"],[1,\"#276419\"]]},\"xaxis\":{\"gridcolor\":\"white\",\"linecolor\":\"white\",\"ticks\":\"\",\"title\":{\"standoff\":15},\"zerolinecolor\":\"white\",\"automargin\":true,\"zerolinewidth\":2},\"yaxis\":{\"gridcolor\":\"white\",\"linecolor\":\"white\",\"ticks\":\"\",\"title\":{\"standoff\":15},\"zerolinecolor\":\"white\",\"automargin\":true,\"zerolinewidth\":2},\"scene\":{\"xaxis\":{\"backgroundcolor\":\"#E5ECF6\",\"gridcolor\":\"white\",\"linecolor\":\"white\",\"showbackground\":true,\"ticks\":\"\",\"zerolinecolor\":\"white\",\"gridwidth\":2},\"yaxis\":{\"backgroundcolor\":\"#E5ECF6\",\"gridcolor\":\"white\",\"linecolor\":\"white\",\"showbackground\":true,\"ticks\":\"\",\"zerolinecolor\":\"white\",\"gridwidth\":2},\"zaxis\":{\"backgroundcolor\":\"#E5ECF6\",\"gridcolor\":\"white\",\"linecolor\":\"white\",\"showbackground\":true,\"ticks\":\"\",\"zerolinecolor\":\"white\",\"gridwidth\":2}},\"shapedefaults\":{\"line\":{\"color\":\"#2a3f5f\"}},\"annotationdefaults\":{\"arrowcolor\":\"#2a3f5f\",\"arrowhead\":0,\"arrowwidth\":1},\"geo\":{\"bgcolor\":\"white\",\"landcolor\":\"#E5ECF6\",\"subunitcolor\":\"white\",\"showland\":true,\"showlakes\":true,\"lakecolor\":\"white\"},\"title\":{\"x\":0.05},\"mapbox\":{\"style\":\"light\"}}},\"xaxis\":{\"anchor\":\"y\",\"domain\":[0.0,1.0],\"title\":{\"text\":\"Date\"}},\"yaxis\":{\"anchor\":\"x\",\"domain\":[0.0,1.0],\"title\":{\"text\":\"Rice local sold loose\"}},\"legend\":{\"title\":{\"text\":\"State\"},\"tracegroupgap\":0},\"margin\":{\"t\":60}},                        {\"responsive\": true}                    ).then(function(){\n",
       "                            \n",
       "var gd = document.getElementById('e64e97a6-fdb6-433c-baba-6fb9f3302d88');\n",
       "var x = new MutationObserver(function (mutations, observer) {{\n",
       "        var display = window.getComputedStyle(gd).display;\n",
       "        if (!display || display === 'none') {{\n",
       "            console.log([gd, 'removed!']);\n",
       "            Plotly.purge(gd);\n",
       "            observer.disconnect();\n",
       "        }}\n",
       "}});\n",
       "\n",
       "// Listen for the removal of the full notebook cells\n",
       "var notebookContainer = gd.closest('#notebook-container');\n",
       "if (notebookContainer) {{\n",
       "    x.observe(notebookContainer, {childList: true});\n",
       "}}\n",
       "\n",
       "// Listen for the clearing of the current output cell\n",
       "var outputEl = gd.closest('.output');\n",
       "if (outputEl) {{\n",
       "    x.observe(outputEl, {childList: true});\n",
       "}}\n",
       "\n",
       "                        })                };                });            </script>        </div>"
      ]
     },
     "metadata": {},
     "output_type": "display_data"
    }
   ],
   "source": [
    "import plotly.express as px\n",
    "states_df = states_df[states_df.Year != 1900]\n",
    "px.line(states_df, x = 'Date', y = 'Rice local sold loose', color = 'State')"
   ]
  },
  {
   "cell_type": "code",
   "execution_count": 16,
   "id": "79b66390",
   "metadata": {},
   "outputs": [],
   "source": [
    "import plotly.graph_objects as go"
   ]
  },
  {
   "cell_type": "code",
   "execution_count": 18,
   "id": "09e5b87e",
   "metadata": {},
   "outputs": [
    {
     "data": {
      "text/plain": [
       "Index(['Date', 'Agric eggs medium size',\n",
       "       'Agric eggs(medium size price of one)', 'Beans brown,sold loose',\n",
       "       'Beans:white black eye. sold loose', 'Beef Bone in', 'Beef,boneless',\n",
       "       'Bread sliced 500g', 'Bread unsliced 500g', 'Broken Rice (Ofada)',\n",
       "       'Chicken Feet', 'Chicken Wings',\n",
       "       'Evaporated tinned milk carnation 170g',\n",
       "       'Evaporated tinned milk(peak), 170g', 'Frozen chicken',\n",
       "       'Gari white,sold loose', 'Gari yellow,sold loose',\n",
       "       'Mudfish (aro) fresh', 'Mudfish : dried', 'Onion bulb',\n",
       "       'Rice agric sold loose', 'Rice local sold loose', 'Rice Medium Grained',\n",
       "       'Rice,imported high quality sold loose', 'Tomato', 'Yam tuber',\n",
       "       'Dried Fish Sardine', 'Iced Sardine', 'Irish potato', 'Sweet potato',\n",
       "       'Tilapia fish (epiya) fresh', 'Titus:frozen', 'Catfish (obokun) fresh',\n",
       "       'Catfish :dried', 'Catfish Smoked', 'Mackerel : frozen',\n",
       "       'Groundnut oil: 1 bottle, specify bottle',\n",
       "       'Maize grain white sold loose', 'Maize grain yellow sold loose',\n",
       "       'Palm oil: 1 bottle,specify bottle', 'Plantain(ripe)',\n",
       "       'Plantain(unripe)', 'Vegetable oil:1 bottle,specify bottle',\n",
       "       'Wheat flour: prepacked (golden penny 2kg)', 'State', 'Month', 'Year',\n",
       "       'Region'],\n",
       "      dtype='object')"
      ]
     },
     "execution_count": 18,
     "metadata": {},
     "output_type": "execute_result"
    }
   ],
   "source": [
    "food.columns"
   ]
  },
  {
   "cell_type": "code",
   "execution_count": 20,
   "id": "e7da11cb",
   "metadata": {},
   "outputs": [],
   "source": [
    "max_month = food.Month.max()\n",
    "max_year = food.Year.max()\n",
    "product = 'Tomato'\n",
    "df = food.query(\"Month == @max_month and Year == @max_year\")\n",
    "df = df.groupby(['State', 'Date'])[product].max().reset_index().sort_values(by = product)\n",
    "df = df.iloc[-6:, :]\n",
    "# fig = px.bar(df, x =df['State'], y = df[product], title='Highest Five states', text = df[product])\n",
    "df.drop('Date', axis = 1, inplace = True)"
   ]
  },
  {
   "cell_type": "code",
   "execution_count": 21,
   "id": "bf282f26",
   "metadata": {},
   "outputs": [
    {
     "data": {
      "text/html": [
       "<div>\n",
       "<style scoped>\n",
       "    .dataframe tbody tr th:only-of-type {\n",
       "        vertical-align: middle;\n",
       "    }\n",
       "\n",
       "    .dataframe tbody tr th {\n",
       "        vertical-align: top;\n",
       "    }\n",
       "\n",
       "    .dataframe thead th {\n",
       "        text-align: right;\n",
       "    }\n",
       "</style>\n",
       "<table border=\"1\" class=\"dataframe\">\n",
       "  <thead>\n",
       "    <tr style=\"text-align: right;\">\n",
       "      <th></th>\n",
       "      <th>State</th>\n",
       "      <th>Tomato</th>\n",
       "    </tr>\n",
       "  </thead>\n",
       "  <tbody>\n",
       "    <tr>\n",
       "      <th>4</th>\n",
       "      <td>ANAMBRA</td>\n",
       "      <td>720.585150</td>\n",
       "    </tr>\n",
       "    <tr>\n",
       "      <th>33</th>\n",
       "      <td>RIVERS</td>\n",
       "      <td>729.402274</td>\n",
       "    </tr>\n",
       "    <tr>\n",
       "      <th>6</th>\n",
       "      <td>BAYELSA</td>\n",
       "      <td>785.549745</td>\n",
       "    </tr>\n",
       "    <tr>\n",
       "      <th>3</th>\n",
       "      <td>AKWA_IBOM</td>\n",
       "      <td>805.746753</td>\n",
       "    </tr>\n",
       "    <tr>\n",
       "      <th>12</th>\n",
       "      <td>EDO</td>\n",
       "      <td>845.218239</td>\n",
       "    </tr>\n",
       "    <tr>\n",
       "      <th>10</th>\n",
       "      <td>DELTA</td>\n",
       "      <td>851.019149</td>\n",
       "    </tr>\n",
       "  </tbody>\n",
       "</table>\n",
       "</div>"
      ],
      "text/plain": [
       "        State      Tomato\n",
       "4     ANAMBRA  720.585150\n",
       "33     RIVERS  729.402274\n",
       "6     BAYELSA  785.549745\n",
       "3   AKWA_IBOM  805.746753\n",
       "12        EDO  845.218239\n",
       "10      DELTA  851.019149"
      ]
     },
     "execution_count": 21,
     "metadata": {},
     "output_type": "execute_result"
    }
   ],
   "source": [
    "df"
   ]
  },
  {
   "cell_type": "code",
   "execution_count": 27,
   "id": "83835895",
   "metadata": {},
   "outputs": [
    {
     "data": {
      "application/vnd.plotly.v1+json": {
       "config": {
        "plotlyServerURL": "https://plot.ly"
       },
       "data": [
        {
         "cells": {
          "align": "left",
          "fill": {
           "color": "lavender"
          },
          "values": [
           [
            "ANAMBRA",
            "RIVERS",
            "BAYELSA",
            "AKWA_IBOM",
            "EDO",
            "DELTA"
           ],
           [
            720.585149542063,
            729.402273905899,
            785.549744897959,
            805.746752523142,
            845.218238881215,
            851.019148897428
           ]
          ]
         },
         "header": {
          "align": "left",
          "fill": {
           "color": "blue"
          },
          "values": [
           "State",
           "Tomato"
          ]
         },
         "type": "table"
        }
       ],
       "layout": {
        "template": {
         "data": {
          "bar": [
           {
            "error_x": {
             "color": "#2a3f5f"
            },
            "error_y": {
             "color": "#2a3f5f"
            },
            "marker": {
             "line": {
              "color": "#E5ECF6",
              "width": 0.5
             },
             "pattern": {
              "fillmode": "overlay",
              "size": 10,
              "solidity": 0.2
             }
            },
            "type": "bar"
           }
          ],
          "barpolar": [
           {
            "marker": {
             "line": {
              "color": "#E5ECF6",
              "width": 0.5
             },
             "pattern": {
              "fillmode": "overlay",
              "size": 10,
              "solidity": 0.2
             }
            },
            "type": "barpolar"
           }
          ],
          "carpet": [
           {
            "aaxis": {
             "endlinecolor": "#2a3f5f",
             "gridcolor": "white",
             "linecolor": "white",
             "minorgridcolor": "white",
             "startlinecolor": "#2a3f5f"
            },
            "baxis": {
             "endlinecolor": "#2a3f5f",
             "gridcolor": "white",
             "linecolor": "white",
             "minorgridcolor": "white",
             "startlinecolor": "#2a3f5f"
            },
            "type": "carpet"
           }
          ],
          "choropleth": [
           {
            "colorbar": {
             "outlinewidth": 0,
             "ticks": ""
            },
            "type": "choropleth"
           }
          ],
          "contour": [
           {
            "colorbar": {
             "outlinewidth": 0,
             "ticks": ""
            },
            "colorscale": [
             [
              0,
              "#0d0887"
             ],
             [
              0.1111111111111111,
              "#46039f"
             ],
             [
              0.2222222222222222,
              "#7201a8"
             ],
             [
              0.3333333333333333,
              "#9c179e"
             ],
             [
              0.4444444444444444,
              "#bd3786"
             ],
             [
              0.5555555555555556,
              "#d8576b"
             ],
             [
              0.6666666666666666,
              "#ed7953"
             ],
             [
              0.7777777777777778,
              "#fb9f3a"
             ],
             [
              0.8888888888888888,
              "#fdca26"
             ],
             [
              1,
              "#f0f921"
             ]
            ],
            "type": "contour"
           }
          ],
          "contourcarpet": [
           {
            "colorbar": {
             "outlinewidth": 0,
             "ticks": ""
            },
            "type": "contourcarpet"
           }
          ],
          "heatmap": [
           {
            "colorbar": {
             "outlinewidth": 0,
             "ticks": ""
            },
            "colorscale": [
             [
              0,
              "#0d0887"
             ],
             [
              0.1111111111111111,
              "#46039f"
             ],
             [
              0.2222222222222222,
              "#7201a8"
             ],
             [
              0.3333333333333333,
              "#9c179e"
             ],
             [
              0.4444444444444444,
              "#bd3786"
             ],
             [
              0.5555555555555556,
              "#d8576b"
             ],
             [
              0.6666666666666666,
              "#ed7953"
             ],
             [
              0.7777777777777778,
              "#fb9f3a"
             ],
             [
              0.8888888888888888,
              "#fdca26"
             ],
             [
              1,
              "#f0f921"
             ]
            ],
            "type": "heatmap"
           }
          ],
          "heatmapgl": [
           {
            "colorbar": {
             "outlinewidth": 0,
             "ticks": ""
            },
            "colorscale": [
             [
              0,
              "#0d0887"
             ],
             [
              0.1111111111111111,
              "#46039f"
             ],
             [
              0.2222222222222222,
              "#7201a8"
             ],
             [
              0.3333333333333333,
              "#9c179e"
             ],
             [
              0.4444444444444444,
              "#bd3786"
             ],
             [
              0.5555555555555556,
              "#d8576b"
             ],
             [
              0.6666666666666666,
              "#ed7953"
             ],
             [
              0.7777777777777778,
              "#fb9f3a"
             ],
             [
              0.8888888888888888,
              "#fdca26"
             ],
             [
              1,
              "#f0f921"
             ]
            ],
            "type": "heatmapgl"
           }
          ],
          "histogram": [
           {
            "marker": {
             "pattern": {
              "fillmode": "overlay",
              "size": 10,
              "solidity": 0.2
             }
            },
            "type": "histogram"
           }
          ],
          "histogram2d": [
           {
            "colorbar": {
             "outlinewidth": 0,
             "ticks": ""
            },
            "colorscale": [
             [
              0,
              "#0d0887"
             ],
             [
              0.1111111111111111,
              "#46039f"
             ],
             [
              0.2222222222222222,
              "#7201a8"
             ],
             [
              0.3333333333333333,
              "#9c179e"
             ],
             [
              0.4444444444444444,
              "#bd3786"
             ],
             [
              0.5555555555555556,
              "#d8576b"
             ],
             [
              0.6666666666666666,
              "#ed7953"
             ],
             [
              0.7777777777777778,
              "#fb9f3a"
             ],
             [
              0.8888888888888888,
              "#fdca26"
             ],
             [
              1,
              "#f0f921"
             ]
            ],
            "type": "histogram2d"
           }
          ],
          "histogram2dcontour": [
           {
            "colorbar": {
             "outlinewidth": 0,
             "ticks": ""
            },
            "colorscale": [
             [
              0,
              "#0d0887"
             ],
             [
              0.1111111111111111,
              "#46039f"
             ],
             [
              0.2222222222222222,
              "#7201a8"
             ],
             [
              0.3333333333333333,
              "#9c179e"
             ],
             [
              0.4444444444444444,
              "#bd3786"
             ],
             [
              0.5555555555555556,
              "#d8576b"
             ],
             [
              0.6666666666666666,
              "#ed7953"
             ],
             [
              0.7777777777777778,
              "#fb9f3a"
             ],
             [
              0.8888888888888888,
              "#fdca26"
             ],
             [
              1,
              "#f0f921"
             ]
            ],
            "type": "histogram2dcontour"
           }
          ],
          "mesh3d": [
           {
            "colorbar": {
             "outlinewidth": 0,
             "ticks": ""
            },
            "type": "mesh3d"
           }
          ],
          "parcoords": [
           {
            "line": {
             "colorbar": {
              "outlinewidth": 0,
              "ticks": ""
             }
            },
            "type": "parcoords"
           }
          ],
          "pie": [
           {
            "automargin": true,
            "type": "pie"
           }
          ],
          "scatter": [
           {
            "fillpattern": {
             "fillmode": "overlay",
             "size": 10,
             "solidity": 0.2
            },
            "type": "scatter"
           }
          ],
          "scatter3d": [
           {
            "line": {
             "colorbar": {
              "outlinewidth": 0,
              "ticks": ""
             }
            },
            "marker": {
             "colorbar": {
              "outlinewidth": 0,
              "ticks": ""
             }
            },
            "type": "scatter3d"
           }
          ],
          "scattercarpet": [
           {
            "marker": {
             "colorbar": {
              "outlinewidth": 0,
              "ticks": ""
             }
            },
            "type": "scattercarpet"
           }
          ],
          "scattergeo": [
           {
            "marker": {
             "colorbar": {
              "outlinewidth": 0,
              "ticks": ""
             }
            },
            "type": "scattergeo"
           }
          ],
          "scattergl": [
           {
            "marker": {
             "colorbar": {
              "outlinewidth": 0,
              "ticks": ""
             }
            },
            "type": "scattergl"
           }
          ],
          "scattermapbox": [
           {
            "marker": {
             "colorbar": {
              "outlinewidth": 0,
              "ticks": ""
             }
            },
            "type": "scattermapbox"
           }
          ],
          "scatterpolar": [
           {
            "marker": {
             "colorbar": {
              "outlinewidth": 0,
              "ticks": ""
             }
            },
            "type": "scatterpolar"
           }
          ],
          "scatterpolargl": [
           {
            "marker": {
             "colorbar": {
              "outlinewidth": 0,
              "ticks": ""
             }
            },
            "type": "scatterpolargl"
           }
          ],
          "scatterternary": [
           {
            "marker": {
             "colorbar": {
              "outlinewidth": 0,
              "ticks": ""
             }
            },
            "type": "scatterternary"
           }
          ],
          "surface": [
           {
            "colorbar": {
             "outlinewidth": 0,
             "ticks": ""
            },
            "colorscale": [
             [
              0,
              "#0d0887"
             ],
             [
              0.1111111111111111,
              "#46039f"
             ],
             [
              0.2222222222222222,
              "#7201a8"
             ],
             [
              0.3333333333333333,
              "#9c179e"
             ],
             [
              0.4444444444444444,
              "#bd3786"
             ],
             [
              0.5555555555555556,
              "#d8576b"
             ],
             [
              0.6666666666666666,
              "#ed7953"
             ],
             [
              0.7777777777777778,
              "#fb9f3a"
             ],
             [
              0.8888888888888888,
              "#fdca26"
             ],
             [
              1,
              "#f0f921"
             ]
            ],
            "type": "surface"
           }
          ],
          "table": [
           {
            "cells": {
             "fill": {
              "color": "#EBF0F8"
             },
             "line": {
              "color": "white"
             }
            },
            "header": {
             "fill": {
              "color": "#C8D4E3"
             },
             "line": {
              "color": "white"
             }
            },
            "type": "table"
           }
          ]
         },
         "layout": {
          "annotationdefaults": {
           "arrowcolor": "#2a3f5f",
           "arrowhead": 0,
           "arrowwidth": 1
          },
          "autotypenumbers": "strict",
          "coloraxis": {
           "colorbar": {
            "outlinewidth": 0,
            "ticks": ""
           }
          },
          "colorscale": {
           "diverging": [
            [
             0,
             "#8e0152"
            ],
            [
             0.1,
             "#c51b7d"
            ],
            [
             0.2,
             "#de77ae"
            ],
            [
             0.3,
             "#f1b6da"
            ],
            [
             0.4,
             "#fde0ef"
            ],
            [
             0.5,
             "#f7f7f7"
            ],
            [
             0.6,
             "#e6f5d0"
            ],
            [
             0.7,
             "#b8e186"
            ],
            [
             0.8,
             "#7fbc41"
            ],
            [
             0.9,
             "#4d9221"
            ],
            [
             1,
             "#276419"
            ]
           ],
           "sequential": [
            [
             0,
             "#0d0887"
            ],
            [
             0.1111111111111111,
             "#46039f"
            ],
            [
             0.2222222222222222,
             "#7201a8"
            ],
            [
             0.3333333333333333,
             "#9c179e"
            ],
            [
             0.4444444444444444,
             "#bd3786"
            ],
            [
             0.5555555555555556,
             "#d8576b"
            ],
            [
             0.6666666666666666,
             "#ed7953"
            ],
            [
             0.7777777777777778,
             "#fb9f3a"
            ],
            [
             0.8888888888888888,
             "#fdca26"
            ],
            [
             1,
             "#f0f921"
            ]
           ],
           "sequentialminus": [
            [
             0,
             "#0d0887"
            ],
            [
             0.1111111111111111,
             "#46039f"
            ],
            [
             0.2222222222222222,
             "#7201a8"
            ],
            [
             0.3333333333333333,
             "#9c179e"
            ],
            [
             0.4444444444444444,
             "#bd3786"
            ],
            [
             0.5555555555555556,
             "#d8576b"
            ],
            [
             0.6666666666666666,
             "#ed7953"
            ],
            [
             0.7777777777777778,
             "#fb9f3a"
            ],
            [
             0.8888888888888888,
             "#fdca26"
            ],
            [
             1,
             "#f0f921"
            ]
           ]
          },
          "colorway": [
           "#636efa",
           "#EF553B",
           "#00cc96",
           "#ab63fa",
           "#FFA15A",
           "#19d3f3",
           "#FF6692",
           "#B6E880",
           "#FF97FF",
           "#FECB52"
          ],
          "font": {
           "color": "#2a3f5f"
          },
          "geo": {
           "bgcolor": "white",
           "lakecolor": "white",
           "landcolor": "#E5ECF6",
           "showlakes": true,
           "showland": true,
           "subunitcolor": "white"
          },
          "hoverlabel": {
           "align": "left"
          },
          "hovermode": "closest",
          "mapbox": {
           "style": "light"
          },
          "paper_bgcolor": "white",
          "plot_bgcolor": "#E5ECF6",
          "polar": {
           "angularaxis": {
            "gridcolor": "white",
            "linecolor": "white",
            "ticks": ""
           },
           "bgcolor": "#E5ECF6",
           "radialaxis": {
            "gridcolor": "white",
            "linecolor": "white",
            "ticks": ""
           }
          },
          "scene": {
           "xaxis": {
            "backgroundcolor": "#E5ECF6",
            "gridcolor": "white",
            "gridwidth": 2,
            "linecolor": "white",
            "showbackground": true,
            "ticks": "",
            "zerolinecolor": "white"
           },
           "yaxis": {
            "backgroundcolor": "#E5ECF6",
            "gridcolor": "white",
            "gridwidth": 2,
            "linecolor": "white",
            "showbackground": true,
            "ticks": "",
            "zerolinecolor": "white"
           },
           "zaxis": {
            "backgroundcolor": "#E5ECF6",
            "gridcolor": "white",
            "gridwidth": 2,
            "linecolor": "white",
            "showbackground": true,
            "ticks": "",
            "zerolinecolor": "white"
           }
          },
          "shapedefaults": {
           "line": {
            "color": "#2a3f5f"
           }
          },
          "ternary": {
           "aaxis": {
            "gridcolor": "white",
            "linecolor": "white",
            "ticks": ""
           },
           "baxis": {
            "gridcolor": "white",
            "linecolor": "white",
            "ticks": ""
           },
           "bgcolor": "#E5ECF6",
           "caxis": {
            "gridcolor": "white",
            "linecolor": "white",
            "ticks": ""
           }
          },
          "title": {
           "x": 0.05
          },
          "xaxis": {
           "automargin": true,
           "gridcolor": "white",
           "linecolor": "white",
           "ticks": "",
           "title": {
            "standoff": 15
           },
           "zerolinecolor": "white",
           "zerolinewidth": 2
          },
          "yaxis": {
           "automargin": true,
           "gridcolor": "white",
           "linecolor": "white",
           "ticks": "",
           "title": {
            "standoff": 15
           },
           "zerolinecolor": "white",
           "zerolinewidth": 2
          }
         }
        }
       }
      },
      "text/html": [
       "<div>                            <div id=\"66dcb43c-0185-41ce-a549-6eb0f3465ef1\" class=\"plotly-graph-div\" style=\"height:525px; width:100%;\"></div>            <script type=\"text/javascript\">                require([\"plotly\"], function(Plotly) {                    window.PLOTLYENV=window.PLOTLYENV || {};                                    if (document.getElementById(\"66dcb43c-0185-41ce-a549-6eb0f3465ef1\")) {                    Plotly.newPlot(                        \"66dcb43c-0185-41ce-a549-6eb0f3465ef1\",                        [{\"cells\":{\"align\":\"left\",\"fill\":{\"color\":\"lavender\"},\"values\":[[\"ANAMBRA\",\"RIVERS\",\"BAYELSA\",\"AKWA_IBOM\",\"EDO\",\"DELTA\"],[720.585149542063,729.402273905899,785.549744897959,805.746752523142,845.218238881215,851.019148897428]]},\"header\":{\"align\":\"left\",\"fill\":{\"color\":\"blue\"},\"values\":[\"State\",\"Tomato\"]},\"type\":\"table\"}],                        {\"template\":{\"data\":{\"histogram2dcontour\":[{\"type\":\"histogram2dcontour\",\"colorbar\":{\"outlinewidth\":0,\"ticks\":\"\"},\"colorscale\":[[0.0,\"#0d0887\"],[0.1111111111111111,\"#46039f\"],[0.2222222222222222,\"#7201a8\"],[0.3333333333333333,\"#9c179e\"],[0.4444444444444444,\"#bd3786\"],[0.5555555555555556,\"#d8576b\"],[0.6666666666666666,\"#ed7953\"],[0.7777777777777778,\"#fb9f3a\"],[0.8888888888888888,\"#fdca26\"],[1.0,\"#f0f921\"]]}],\"choropleth\":[{\"type\":\"choropleth\",\"colorbar\":{\"outlinewidth\":0,\"ticks\":\"\"}}],\"histogram2d\":[{\"type\":\"histogram2d\",\"colorbar\":{\"outlinewidth\":0,\"ticks\":\"\"},\"colorscale\":[[0.0,\"#0d0887\"],[0.1111111111111111,\"#46039f\"],[0.2222222222222222,\"#7201a8\"],[0.3333333333333333,\"#9c179e\"],[0.4444444444444444,\"#bd3786\"],[0.5555555555555556,\"#d8576b\"],[0.6666666666666666,\"#ed7953\"],[0.7777777777777778,\"#fb9f3a\"],[0.8888888888888888,\"#fdca26\"],[1.0,\"#f0f921\"]]}],\"heatmap\":[{\"type\":\"heatmap\",\"colorbar\":{\"outlinewidth\":0,\"ticks\":\"\"},\"colorscale\":[[0.0,\"#0d0887\"],[0.1111111111111111,\"#46039f\"],[0.2222222222222222,\"#7201a8\"],[0.3333333333333333,\"#9c179e\"],[0.4444444444444444,\"#bd3786\"],[0.5555555555555556,\"#d8576b\"],[0.6666666666666666,\"#ed7953\"],[0.7777777777777778,\"#fb9f3a\"],[0.8888888888888888,\"#fdca26\"],[1.0,\"#f0f921\"]]}],\"heatmapgl\":[{\"type\":\"heatmapgl\",\"colorbar\":{\"outlinewidth\":0,\"ticks\":\"\"},\"colorscale\":[[0.0,\"#0d0887\"],[0.1111111111111111,\"#46039f\"],[0.2222222222222222,\"#7201a8\"],[0.3333333333333333,\"#9c179e\"],[0.4444444444444444,\"#bd3786\"],[0.5555555555555556,\"#d8576b\"],[0.6666666666666666,\"#ed7953\"],[0.7777777777777778,\"#fb9f3a\"],[0.8888888888888888,\"#fdca26\"],[1.0,\"#f0f921\"]]}],\"contourcarpet\":[{\"type\":\"contourcarpet\",\"colorbar\":{\"outlinewidth\":0,\"ticks\":\"\"}}],\"contour\":[{\"type\":\"contour\",\"colorbar\":{\"outlinewidth\":0,\"ticks\":\"\"},\"colorscale\":[[0.0,\"#0d0887\"],[0.1111111111111111,\"#46039f\"],[0.2222222222222222,\"#7201a8\"],[0.3333333333333333,\"#9c179e\"],[0.4444444444444444,\"#bd3786\"],[0.5555555555555556,\"#d8576b\"],[0.6666666666666666,\"#ed7953\"],[0.7777777777777778,\"#fb9f3a\"],[0.8888888888888888,\"#fdca26\"],[1.0,\"#f0f921\"]]}],\"surface\":[{\"type\":\"surface\",\"colorbar\":{\"outlinewidth\":0,\"ticks\":\"\"},\"colorscale\":[[0.0,\"#0d0887\"],[0.1111111111111111,\"#46039f\"],[0.2222222222222222,\"#7201a8\"],[0.3333333333333333,\"#9c179e\"],[0.4444444444444444,\"#bd3786\"],[0.5555555555555556,\"#d8576b\"],[0.6666666666666666,\"#ed7953\"],[0.7777777777777778,\"#fb9f3a\"],[0.8888888888888888,\"#fdca26\"],[1.0,\"#f0f921\"]]}],\"mesh3d\":[{\"type\":\"mesh3d\",\"colorbar\":{\"outlinewidth\":0,\"ticks\":\"\"}}],\"scatter\":[{\"fillpattern\":{\"fillmode\":\"overlay\",\"size\":10,\"solidity\":0.2},\"type\":\"scatter\"}],\"parcoords\":[{\"type\":\"parcoords\",\"line\":{\"colorbar\":{\"outlinewidth\":0,\"ticks\":\"\"}}}],\"scatterpolargl\":[{\"type\":\"scatterpolargl\",\"marker\":{\"colorbar\":{\"outlinewidth\":0,\"ticks\":\"\"}}}],\"bar\":[{\"error_x\":{\"color\":\"#2a3f5f\"},\"error_y\":{\"color\":\"#2a3f5f\"},\"marker\":{\"line\":{\"color\":\"#E5ECF6\",\"width\":0.5},\"pattern\":{\"fillmode\":\"overlay\",\"size\":10,\"solidity\":0.2}},\"type\":\"bar\"}],\"scattergeo\":[{\"type\":\"scattergeo\",\"marker\":{\"colorbar\":{\"outlinewidth\":0,\"ticks\":\"\"}}}],\"scatterpolar\":[{\"type\":\"scatterpolar\",\"marker\":{\"colorbar\":{\"outlinewidth\":0,\"ticks\":\"\"}}}],\"histogram\":[{\"marker\":{\"pattern\":{\"fillmode\":\"overlay\",\"size\":10,\"solidity\":0.2}},\"type\":\"histogram\"}],\"scattergl\":[{\"type\":\"scattergl\",\"marker\":{\"colorbar\":{\"outlinewidth\":0,\"ticks\":\"\"}}}],\"scatter3d\":[{\"type\":\"scatter3d\",\"line\":{\"colorbar\":{\"outlinewidth\":0,\"ticks\":\"\"}},\"marker\":{\"colorbar\":{\"outlinewidth\":0,\"ticks\":\"\"}}}],\"scattermapbox\":[{\"type\":\"scattermapbox\",\"marker\":{\"colorbar\":{\"outlinewidth\":0,\"ticks\":\"\"}}}],\"scatterternary\":[{\"type\":\"scatterternary\",\"marker\":{\"colorbar\":{\"outlinewidth\":0,\"ticks\":\"\"}}}],\"scattercarpet\":[{\"type\":\"scattercarpet\",\"marker\":{\"colorbar\":{\"outlinewidth\":0,\"ticks\":\"\"}}}],\"carpet\":[{\"aaxis\":{\"endlinecolor\":\"#2a3f5f\",\"gridcolor\":\"white\",\"linecolor\":\"white\",\"minorgridcolor\":\"white\",\"startlinecolor\":\"#2a3f5f\"},\"baxis\":{\"endlinecolor\":\"#2a3f5f\",\"gridcolor\":\"white\",\"linecolor\":\"white\",\"minorgridcolor\":\"white\",\"startlinecolor\":\"#2a3f5f\"},\"type\":\"carpet\"}],\"table\":[{\"cells\":{\"fill\":{\"color\":\"#EBF0F8\"},\"line\":{\"color\":\"white\"}},\"header\":{\"fill\":{\"color\":\"#C8D4E3\"},\"line\":{\"color\":\"white\"}},\"type\":\"table\"}],\"barpolar\":[{\"marker\":{\"line\":{\"color\":\"#E5ECF6\",\"width\":0.5},\"pattern\":{\"fillmode\":\"overlay\",\"size\":10,\"solidity\":0.2}},\"type\":\"barpolar\"}],\"pie\":[{\"automargin\":true,\"type\":\"pie\"}]},\"layout\":{\"autotypenumbers\":\"strict\",\"colorway\":[\"#636efa\",\"#EF553B\",\"#00cc96\",\"#ab63fa\",\"#FFA15A\",\"#19d3f3\",\"#FF6692\",\"#B6E880\",\"#FF97FF\",\"#FECB52\"],\"font\":{\"color\":\"#2a3f5f\"},\"hovermode\":\"closest\",\"hoverlabel\":{\"align\":\"left\"},\"paper_bgcolor\":\"white\",\"plot_bgcolor\":\"#E5ECF6\",\"polar\":{\"bgcolor\":\"#E5ECF6\",\"angularaxis\":{\"gridcolor\":\"white\",\"linecolor\":\"white\",\"ticks\":\"\"},\"radialaxis\":{\"gridcolor\":\"white\",\"linecolor\":\"white\",\"ticks\":\"\"}},\"ternary\":{\"bgcolor\":\"#E5ECF6\",\"aaxis\":{\"gridcolor\":\"white\",\"linecolor\":\"white\",\"ticks\":\"\"},\"baxis\":{\"gridcolor\":\"white\",\"linecolor\":\"white\",\"ticks\":\"\"},\"caxis\":{\"gridcolor\":\"white\",\"linecolor\":\"white\",\"ticks\":\"\"}},\"coloraxis\":{\"colorbar\":{\"outlinewidth\":0,\"ticks\":\"\"}},\"colorscale\":{\"sequential\":[[0.0,\"#0d0887\"],[0.1111111111111111,\"#46039f\"],[0.2222222222222222,\"#7201a8\"],[0.3333333333333333,\"#9c179e\"],[0.4444444444444444,\"#bd3786\"],[0.5555555555555556,\"#d8576b\"],[0.6666666666666666,\"#ed7953\"],[0.7777777777777778,\"#fb9f3a\"],[0.8888888888888888,\"#fdca26\"],[1.0,\"#f0f921\"]],\"sequentialminus\":[[0.0,\"#0d0887\"],[0.1111111111111111,\"#46039f\"],[0.2222222222222222,\"#7201a8\"],[0.3333333333333333,\"#9c179e\"],[0.4444444444444444,\"#bd3786\"],[0.5555555555555556,\"#d8576b\"],[0.6666666666666666,\"#ed7953\"],[0.7777777777777778,\"#fb9f3a\"],[0.8888888888888888,\"#fdca26\"],[1.0,\"#f0f921\"]],\"diverging\":[[0,\"#8e0152\"],[0.1,\"#c51b7d\"],[0.2,\"#de77ae\"],[0.3,\"#f1b6da\"],[0.4,\"#fde0ef\"],[0.5,\"#f7f7f7\"],[0.6,\"#e6f5d0\"],[0.7,\"#b8e186\"],[0.8,\"#7fbc41\"],[0.9,\"#4d9221\"],[1,\"#276419\"]]},\"xaxis\":{\"gridcolor\":\"white\",\"linecolor\":\"white\",\"ticks\":\"\",\"title\":{\"standoff\":15},\"zerolinecolor\":\"white\",\"automargin\":true,\"zerolinewidth\":2},\"yaxis\":{\"gridcolor\":\"white\",\"linecolor\":\"white\",\"ticks\":\"\",\"title\":{\"standoff\":15},\"zerolinecolor\":\"white\",\"automargin\":true,\"zerolinewidth\":2},\"scene\":{\"xaxis\":{\"backgroundcolor\":\"#E5ECF6\",\"gridcolor\":\"white\",\"linecolor\":\"white\",\"showbackground\":true,\"ticks\":\"\",\"zerolinecolor\":\"white\",\"gridwidth\":2},\"yaxis\":{\"backgroundcolor\":\"#E5ECF6\",\"gridcolor\":\"white\",\"linecolor\":\"white\",\"showbackground\":true,\"ticks\":\"\",\"zerolinecolor\":\"white\",\"gridwidth\":2},\"zaxis\":{\"backgroundcolor\":\"#E5ECF6\",\"gridcolor\":\"white\",\"linecolor\":\"white\",\"showbackground\":true,\"ticks\":\"\",\"zerolinecolor\":\"white\",\"gridwidth\":2}},\"shapedefaults\":{\"line\":{\"color\":\"#2a3f5f\"}},\"annotationdefaults\":{\"arrowcolor\":\"#2a3f5f\",\"arrowhead\":0,\"arrowwidth\":1},\"geo\":{\"bgcolor\":\"white\",\"landcolor\":\"#E5ECF6\",\"subunitcolor\":\"white\",\"showland\":true,\"showlakes\":true,\"lakecolor\":\"white\"},\"title\":{\"x\":0.05},\"mapbox\":{\"style\":\"light\"}}}},                        {\"responsive\": true}                    ).then(function(){\n",
       "                            \n",
       "var gd = document.getElementById('66dcb43c-0185-41ce-a549-6eb0f3465ef1');\n",
       "var x = new MutationObserver(function (mutations, observer) {{\n",
       "        var display = window.getComputedStyle(gd).display;\n",
       "        if (!display || display === 'none') {{\n",
       "            console.log([gd, 'removed!']);\n",
       "            Plotly.purge(gd);\n",
       "            observer.disconnect();\n",
       "        }}\n",
       "}});\n",
       "\n",
       "// Listen for the removal of the full notebook cells\n",
       "var notebookContainer = gd.closest('#notebook-container');\n",
       "if (notebookContainer) {{\n",
       "    x.observe(notebookContainer, {childList: true});\n",
       "}}\n",
       "\n",
       "// Listen for the clearing of the current output cell\n",
       "var outputEl = gd.closest('.output');\n",
       "if (outputEl) {{\n",
       "    x.observe(outputEl, {childList: true});\n",
       "}}\n",
       "\n",
       "                        })                };                });            </script>        </div>"
      ]
     },
     "metadata": {},
     "output_type": "display_data"
    }
   ],
   "source": [
    "fig = go.Figure(data=[go.Table(\n",
    "    header=dict(values=list(df.columns),\n",
    "#                 fill_color='paleturquoise',\n",
    "                fill_color = 'blue',\n",
    "                align='left',\n",
    "#                  text_color = 'white'\n",
    "               ),\n",
    "    cells=dict(values=[df.State, df[product]],\n",
    "               fill_color='lavender',\n",
    "               align='left',\n",
    "                 \n",
    "              ))\n",
    "])\n",
    "\n",
    "fig.show()"
   ]
  },
  {
   "cell_type": "code",
   "execution_count": null,
   "id": "4179aced",
   "metadata": {},
   "outputs": [],
   "source": []
  }
 ],
 "metadata": {
  "kernelspec": {
   "display_name": "Python 3 (ipykernel)",
   "language": "python",
   "name": "python3"
  },
  "language_info": {
   "codemirror_mode": {
    "name": "ipython",
    "version": 3
   },
   "file_extension": ".py",
   "mimetype": "text/x-python",
   "name": "python",
   "nbconvert_exporter": "python",
   "pygments_lexer": "ipython3",
   "version": "3.10.7"
  }
 },
 "nbformat": 4,
 "nbformat_minor": 5
}
