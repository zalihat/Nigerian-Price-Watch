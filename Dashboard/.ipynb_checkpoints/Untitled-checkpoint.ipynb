{
 "cells": [
  {
   "cell_type": "code",
   "execution_count": null,
   "id": "f1e1780d",
   "metadata": {},
   "outputs": [],
   "source": [
    "import pandas as pd\n",
    "import plotly.express as px"
   ]
  },
  {
   "cell_type": "markdown",
   "id": "1a92bc7b",
   "metadata": {},
   "source": [
    "# Others"
   ]
  },
  {
   "cell_type": "code",
   "execution_count": null,
   "id": "c1f6572e",
   "metadata": {},
   "outputs": [],
   "source": [
    "gas = pd.read_csv(\"data/gas_data.csv\")\n",
    "gas.tail()"
   ]
  },
  {
   "cell_type": "code",
   "execution_count": null,
   "id": "969097d5",
   "metadata": {},
   "outputs": [],
   "source": [
    "gas.loc[gas.index[-1]]"
   ]
  },
  {
   "cell_type": "code",
   "execution_count": null,
   "id": "6ca2a82a",
   "metadata": {},
   "outputs": [],
   "source": []
  },
  {
   "cell_type": "code",
   "execution_count": null,
   "id": "9dbcb645",
   "metadata": {},
   "outputs": [],
   "source": [
    "def get_current_price(df, state):\n",
    "    price = df.loc[df.index[-1], state]\n",
    "    return price"
   ]
  },
  {
   "cell_type": "code",
   "execution_count": null,
   "id": "d7dec04c",
   "metadata": {},
   "outputs": [],
   "source": [
    "get_current_price(gas, 'Abia')"
   ]
  },
  {
   "cell_type": "code",
   "execution_count": null,
   "id": "1b48de92",
   "metadata": {},
   "outputs": [],
   "source": [
    "a = gas.loc[gas.index[-1]]\n",
    "a.iloc[1:].sort_values()\n"
   ]
  },
  {
   "cell_type": "code",
   "execution_count": null,
   "id": "23b43e6b",
   "metadata": {},
   "outputs": [],
   "source": [
    "a_ =  a.iloc[1:].astype('float')\n",
    "b = str(a_.min())\n",
    "max_ = a_.idxmin()\n",
    "max_\n",
    "b\n",
    "\n",
    "s = '{} ({})'.format(max_, b)\n",
    "s"
   ]
  },
  {
   "cell_type": "code",
   "execution_count": null,
   "id": "e5485377",
   "metadata": {},
   "outputs": [],
   "source": [
    "def get_current_price(df, state):\n",
    "    price = df.loc[df.index[-1], state]\n",
    "    return price\n",
    "def get_lowest_price(df):\n",
    "    prices = df.loc[df.index[-1]]\n",
    "    prices = prices.iloc[1:].astype('float')\n",
    "    max_state = prices.idxmin()\n",
    "    return max_state\n",
    "def get_highest_price(df):\n",
    "    prices = df.loc[df.index[-1]]\n",
    "    prices = prices.iloc[1:].astype('float')\n",
    "    min_state = prices.idxmax()\n",
    "    return min_state\n",
    "    "
   ]
  },
  {
   "cell_type": "code",
   "execution_count": null,
   "id": "d57f4c52",
   "metadata": {},
   "outputs": [],
   "source": [
    "get_lowest_price(gas)"
   ]
  },
  {
   "cell_type": "code",
   "execution_count": null,
   "id": "f4dc80eb",
   "metadata": {},
   "outputs": [],
   "source": [
    "get_highest_price(gas)"
   ]
  },
  {
   "cell_type": "code",
   "execution_count": null,
   "id": "81524ee0",
   "metadata": {},
   "outputs": [],
   "source": [
    "df= gas.loc[gas.index[-1]]\n",
    "df = df.iloc[1:].sort_values()[-6:]\n",
    "\n",
    "df = df.reset_index(name = 'Price')\n",
    "# df['index']df\n",
    "df"
   ]
  },
  {
   "cell_type": "code",
   "execution_count": null,
   "id": "a560a639",
   "metadata": {},
   "outputs": [],
   "source": [
    "df[:6]"
   ]
  },
  {
   "cell_type": "code",
   "execution_count": null,
   "id": "a9f99717",
   "metadata": {},
   "outputs": [],
   "source": [
    "px.bar(df, y =df['index'], x = df['Price'], orientation = 'h')"
   ]
  },
  {
   "cell_type": "code",
   "execution_count": null,
   "id": "3147c964",
   "metadata": {},
   "outputs": [],
   "source": [
    "df = gas.tail(2)\n",
    "df.head()"
   ]
  },
  {
   "cell_type": "code",
   "execution_count": 75,
   "id": "88a5fc39",
   "metadata": {},
   "outputs": [
    {
     "data": {
      "text/html": [
       "<div>\n",
       "<style scoped>\n",
       "    .dataframe tbody tr th:only-of-type {\n",
       "        vertical-align: middle;\n",
       "    }\n",
       "\n",
       "    .dataframe tbody tr th {\n",
       "        vertical-align: top;\n",
       "    }\n",
       "\n",
       "    .dataframe thead th {\n",
       "        text-align: right;\n",
       "    }\n",
       "</style>\n",
       "<table border=\"1\" class=\"dataframe\">\n",
       "  <thead>\n",
       "    <tr style=\"text-align: right;\">\n",
       "      <th></th>\n",
       "      <th>Date</th>\n",
       "      <th>Abuja</th>\n",
       "    </tr>\n",
       "  </thead>\n",
       "  <tbody>\n",
       "    <tr>\n",
       "      <th>82</th>\n",
       "      <td>2022-11-01</td>\n",
       "      <td>975.0</td>\n",
       "    </tr>\n",
       "    <tr>\n",
       "      <th>83</th>\n",
       "      <td>2022-12-01</td>\n",
       "      <td>960.0</td>\n",
       "    </tr>\n",
       "  </tbody>\n",
       "</table>\n",
       "</div>"
      ],
      "text/plain": [
       "          Date  Abuja\n",
       "82  2022-11-01  975.0\n",
       "83  2022-12-01  960.0"
      ]
     },
     "execution_count": 75,
     "metadata": {},
     "output_type": "execute_result"
    }
   ],
   "source": [
    "# MoM\n",
    "df = gas.tail(2)\n",
    "df.head()\n",
    "state = 'Abuja'\n",
    "df = df[['Date', state]]\n",
    "df"
   ]
  },
  {
   "cell_type": "code",
   "execution_count": 76,
   "id": "102cccfe",
   "metadata": {},
   "outputs": [
    {
     "data": {
      "text/plain": [
       "'-1.54%'"
      ]
     },
     "execution_count": 76,
     "metadata": {},
     "output_type": "execute_result"
    }
   ],
   "source": [
    "prev_month = df.iloc[0,1] #4549.14\n",
    "current_month = df.iloc[1, 1] #4565.56\n",
    "MoM = (current_month - prev_month) / prev_month\n",
    "# MoM = (4565.56 - 4549.14) / 4549.14\n",
    "# str(round(MoM*100, 2)) +  '%'\n",
    "MoM = round(MoM * 100, 2)\n",
    "'{}%'.format(MoM)"
   ]
  },
  {
   "cell_type": "code",
   "execution_count": null,
   "id": "539c1d1e",
   "metadata": {},
   "outputs": [],
   "source": [
    "def MoM(state):\n",
    "    df = df[['Date', state]]\n",
    "    prev_month = df.iloc[0,1] \n",
    "    current_month = df.iloc[1, 1] \n",
    "    MoM = (current_month - prev_month) / prev_month\n",
    "    MoM = round(MoM * 100, 2)\n",
    "    return '{}%'.format(MoM)"
   ]
  },
  {
   "cell_type": "code",
   "execution_count": null,
   "id": "b5d67846",
   "metadata": {},
   "outputs": [],
   "source": [
    "df = gas.copy()\n",
    "df[\"Date\"] = pd.to_datetime(df[\"Date\"], format=\"%Y/%m\")\n",
    "df[\"Month\"] = df[\"Date\"].dt.month\n",
    "df[\"Year\"] = df[\"Date\"].dt.year\n",
    "# a = df\n",
    "# df = df[df.Month == 12]\n",
    "# df = df.tail(2)\n",
    "df"
   ]
  },
  {
   "cell_type": "code",
   "execution_count": null,
   "id": "229a1376",
   "metadata": {},
   "outputs": [],
   "source": [
    "latest = df.tail(1)\n",
    "current_month = latest.Month.values[0]\n",
    "current_month"
   ]
  },
  {
   "cell_type": "code",
   "execution_count": null,
   "id": "d57812f3",
   "metadata": {},
   "outputs": [],
   "source": [
    "def YoY(state):\n",
    "    df[\"Date\"] = pd.to_datetime(df[\"Date\"], format=\"%Y/%m\")\n",
    "    df[\"Month\"] = df[\"Date\"].dt.month\n",
    "    df[\"Year\"] = df[\"Date\"].dt.year\n",
    "    latest = df.tail(1)\n",
    "    current_month = latest.Month.values[0]\n",
    "    df = df[df.Month == current_month]\n",
    "    df = df.tail(2)\n",
    "    df = df[['Date', state]]\n",
    "    prev_year = df.iloc[0,1] #4549.14\n",
    "    current_year = df.iloc[1, 1] #4565.56\n",
    "    YoY = (current_year - prev_year) / prev_year\n",
    "    YoY = round(YoY * 100, 2)\n",
    "    return '{}%'.format(YoY)\n",
    "    \n",
    "   \n",
    "    \n",
    "    "
   ]
  },
  {
   "cell_type": "code",
   "execution_count": null,
   "id": "38e80848",
   "metadata": {},
   "outputs": [],
   "source": [
    "state = 'Abuja'\n",
    "df = df[['Date', state]]\n",
    "prev_year = df.iloc[0,1] #4549.14\n",
    "current_year = df.iloc[1, 1] #4565.56\n",
    "YoY = (current_year - prev_year) / prev_year\n",
    "# MoM = (4565.56 - 4549.14) / 4549.14\n",
    "# str(round(MoM*100, 2)) +  '%'\n",
    "YoY = round(YoY * 100, 2)\n",
    "'{}%'.format(YoY)"
   ]
  },
  {
   "cell_type": "code",
   "execution_count": null,
   "id": "13dbf4fe",
   "metadata": {},
   "outputs": [],
   "source": [
    "prev_year"
   ]
  },
  {
   "cell_type": "code",
   "execution_count": null,
   "id": "9740cb37",
   "metadata": {},
   "outputs": [],
   "source": [
    "(960.0 - 730.0) / 730.0"
   ]
  },
  {
   "cell_type": "markdown",
   "id": "262b1fb4",
   "metadata": {},
   "source": [
    "# Food"
   ]
  },
  {
   "cell_type": "code",
   "execution_count": null,
   "id": "ef0a06db",
   "metadata": {},
   "outputs": [],
   "source": []
  },
  {
   "cell_type": "code",
   "execution_count": 62,
   "id": "7d0344ba",
   "metadata": {},
   "outputs": [
    {
     "data": {
      "text/html": [
       "<div>\n",
       "<style scoped>\n",
       "    .dataframe tbody tr th:only-of-type {\n",
       "        vertical-align: middle;\n",
       "    }\n",
       "\n",
       "    .dataframe tbody tr th {\n",
       "        vertical-align: top;\n",
       "    }\n",
       "\n",
       "    .dataframe thead th {\n",
       "        text-align: right;\n",
       "    }\n",
       "</style>\n",
       "<table border=\"1\" class=\"dataframe\">\n",
       "  <thead>\n",
       "    <tr style=\"text-align: right;\">\n",
       "      <th></th>\n",
       "      <th>Date</th>\n",
       "      <th>Agric eggs medium size</th>\n",
       "      <th>Agric eggs(medium size price of one)</th>\n",
       "      <th>Beans brown,sold loose</th>\n",
       "      <th>Beans:white black eye. sold loose</th>\n",
       "      <th>Beef Bone in</th>\n",
       "      <th>Beef,boneless</th>\n",
       "      <th>Bread sliced 500g</th>\n",
       "      <th>Bread unsliced 500g</th>\n",
       "      <th>Broken Rice (Ofada)</th>\n",
       "      <th>...</th>\n",
       "      <th>Maize grain yellow sold loose</th>\n",
       "      <th>Palm oil: 1 bottle,specify bottle</th>\n",
       "      <th>Plantain(ripe)</th>\n",
       "      <th>Plantain(unripe)</th>\n",
       "      <th>Vegetable oil:1 bottle,specify bottle</th>\n",
       "      <th>Wheat flour: prepacked (golden penny 2kg)</th>\n",
       "      <th>State</th>\n",
       "      <th>Month</th>\n",
       "      <th>Year</th>\n",
       "      <th>Region</th>\n",
       "    </tr>\n",
       "  </thead>\n",
       "  <tbody>\n",
       "    <tr>\n",
       "      <th>2731</th>\n",
       "      <td>2022-08-01</td>\n",
       "      <td>733.582059</td>\n",
       "      <td>73.318477</td>\n",
       "      <td>545.614821</td>\n",
       "      <td>517.231057</td>\n",
       "      <td>1610.311681</td>\n",
       "      <td>2141.175826</td>\n",
       "      <td>488.137371</td>\n",
       "      <td>454.065447</td>\n",
       "      <td>521.078533</td>\n",
       "      <td>...</td>\n",
       "      <td>306.963537</td>\n",
       "      <td>896.631792</td>\n",
       "      <td>334.915695</td>\n",
       "      <td>311.817411</td>\n",
       "      <td>1049.486519</td>\n",
       "      <td>1106.762336</td>\n",
       "      <td>NATIONAL</td>\n",
       "      <td>8</td>\n",
       "      <td>2022</td>\n",
       "      <td>NATIONAL</td>\n",
       "    </tr>\n",
       "    <tr>\n",
       "      <th>2732</th>\n",
       "      <td>2022-09-01</td>\n",
       "      <td>752.367811</td>\n",
       "      <td>75.068331</td>\n",
       "      <td>556.810370</td>\n",
       "      <td>543.152572</td>\n",
       "      <td>1651.195461</td>\n",
       "      <td>2199.374842</td>\n",
       "      <td>511.735746</td>\n",
       "      <td>477.576312</td>\n",
       "      <td>538.975716</td>\n",
       "      <td>...</td>\n",
       "      <td>305.222829</td>\n",
       "      <td>927.338724</td>\n",
       "      <td>345.897124</td>\n",
       "      <td>323.382753</td>\n",
       "      <td>1075.894334</td>\n",
       "      <td>1121.283249</td>\n",
       "      <td>NATIONAL</td>\n",
       "      <td>9</td>\n",
       "      <td>2022</td>\n",
       "      <td>NATIONAL</td>\n",
       "    </tr>\n",
       "    <tr>\n",
       "      <th>2733</th>\n",
       "      <td>2022-10-01</td>\n",
       "      <td>775.140314</td>\n",
       "      <td>77.644685</td>\n",
       "      <td>564.688435</td>\n",
       "      <td>547.394413</td>\n",
       "      <td>1696.576368</td>\n",
       "      <td>2266.240630</td>\n",
       "      <td>523.164903</td>\n",
       "      <td>482.466613</td>\n",
       "      <td>538.191552</td>\n",
       "      <td>...</td>\n",
       "      <td>307.618786</td>\n",
       "      <td>968.762614</td>\n",
       "      <td>357.201499</td>\n",
       "      <td>333.791441</td>\n",
       "      <td>1106.078195</td>\n",
       "      <td>1144.473949</td>\n",
       "      <td>NATIONAL</td>\n",
       "      <td>10</td>\n",
       "      <td>2022</td>\n",
       "      <td>NATIONAL</td>\n",
       "    </tr>\n",
       "    <tr>\n",
       "      <th>2734</th>\n",
       "      <td>2022-11-01</td>\n",
       "      <td>801.394906</td>\n",
       "      <td>80.953044</td>\n",
       "      <td>578.550730</td>\n",
       "      <td>557.669082</td>\n",
       "      <td>1757.439352</td>\n",
       "      <td>2337.459658</td>\n",
       "      <td>529.066053</td>\n",
       "      <td>492.013819</td>\n",
       "      <td>549.668526</td>\n",
       "      <td>...</td>\n",
       "      <td>317.697170</td>\n",
       "      <td>1006.637482</td>\n",
       "      <td>368.884223</td>\n",
       "      <td>340.777771</td>\n",
       "      <td>1142.989099</td>\n",
       "      <td>1189.744592</td>\n",
       "      <td>NATIONAL</td>\n",
       "      <td>11</td>\n",
       "      <td>2022</td>\n",
       "      <td>NATIONAL</td>\n",
       "    </tr>\n",
       "    <tr>\n",
       "      <th>2735</th>\n",
       "      <td>2022-12-01</td>\n",
       "      <td>825.077996</td>\n",
       "      <td>83.506469</td>\n",
       "      <td>586.139347</td>\n",
       "      <td>568.339312</td>\n",
       "      <td>1795.011495</td>\n",
       "      <td>2377.291098</td>\n",
       "      <td>537.890078</td>\n",
       "      <td>496.346915</td>\n",
       "      <td>560.703647</td>\n",
       "      <td>...</td>\n",
       "      <td>329.051610</td>\n",
       "      <td>1024.131452</td>\n",
       "      <td>376.239170</td>\n",
       "      <td>347.678573</td>\n",
       "      <td>1161.761182</td>\n",
       "      <td>1203.880034</td>\n",
       "      <td>NATIONAL</td>\n",
       "      <td>12</td>\n",
       "      <td>2022</td>\n",
       "      <td>NATIONAL</td>\n",
       "    </tr>\n",
       "  </tbody>\n",
       "</table>\n",
       "<p>5 rows × 48 columns</p>\n",
       "</div>"
      ],
      "text/plain": [
       "            Date  Agric eggs medium size  \\\n",
       "2731  2022-08-01              733.582059   \n",
       "2732  2022-09-01              752.367811   \n",
       "2733  2022-10-01              775.140314   \n",
       "2734  2022-11-01              801.394906   \n",
       "2735  2022-12-01              825.077996   \n",
       "\n",
       "      Agric eggs(medium size price of one)  Beans brown,sold loose  \\\n",
       "2731                             73.318477              545.614821   \n",
       "2732                             75.068331              556.810370   \n",
       "2733                             77.644685              564.688435   \n",
       "2734                             80.953044              578.550730   \n",
       "2735                             83.506469              586.139347   \n",
       "\n",
       "      Beans:white black eye. sold loose  Beef Bone in  Beef,boneless  \\\n",
       "2731                         517.231057   1610.311681    2141.175826   \n",
       "2732                         543.152572   1651.195461    2199.374842   \n",
       "2733                         547.394413   1696.576368    2266.240630   \n",
       "2734                         557.669082   1757.439352    2337.459658   \n",
       "2735                         568.339312   1795.011495    2377.291098   \n",
       "\n",
       "      Bread sliced 500g  Bread unsliced 500g  Broken Rice (Ofada)  ...  \\\n",
       "2731         488.137371           454.065447           521.078533  ...   \n",
       "2732         511.735746           477.576312           538.975716  ...   \n",
       "2733         523.164903           482.466613           538.191552  ...   \n",
       "2734         529.066053           492.013819           549.668526  ...   \n",
       "2735         537.890078           496.346915           560.703647  ...   \n",
       "\n",
       "      Maize grain yellow sold loose  Palm oil: 1 bottle,specify bottle  \\\n",
       "2731                     306.963537                         896.631792   \n",
       "2732                     305.222829                         927.338724   \n",
       "2733                     307.618786                         968.762614   \n",
       "2734                     317.697170                        1006.637482   \n",
       "2735                     329.051610                        1024.131452   \n",
       "\n",
       "      Plantain(ripe)  Plantain(unripe)  Vegetable oil:1 bottle,specify bottle  \\\n",
       "2731      334.915695        311.817411                            1049.486519   \n",
       "2732      345.897124        323.382753                            1075.894334   \n",
       "2733      357.201499        333.791441                            1106.078195   \n",
       "2734      368.884223        340.777771                            1142.989099   \n",
       "2735      376.239170        347.678573                            1161.761182   \n",
       "\n",
       "      Wheat flour: prepacked (golden penny 2kg)     State  Month  Year  \\\n",
       "2731                                1106.762336  NATIONAL      8  2022   \n",
       "2732                                1121.283249  NATIONAL      9  2022   \n",
       "2733                                1144.473949  NATIONAL     10  2022   \n",
       "2734                                1189.744592  NATIONAL     11  2022   \n",
       "2735                                1203.880034  NATIONAL     12  2022   \n",
       "\n",
       "        Region  \n",
       "2731  NATIONAL  \n",
       "2732  NATIONAL  \n",
       "2733  NATIONAL  \n",
       "2734  NATIONAL  \n",
       "2735  NATIONAL  \n",
       "\n",
       "[5 rows x 48 columns]"
      ]
     },
     "execution_count": 62,
     "metadata": {},
     "output_type": "execute_result"
    }
   ],
   "source": [
    "import pandas as pd\n",
    "food  = pd.read_csv(\"data/data.csv\")\n",
    "food.tail()"
   ]
  },
  {
   "cell_type": "code",
   "execution_count": null,
   "id": "70639caa",
   "metadata": {},
   "outputs": [],
   "source": [
    "abuja = food[food.State == \"ABUJA\"]['Agric eggs medium size']\n",
    "# abuja = abuja['Agric eggs medium size']\n",
    "abuja"
   ]
  },
  {
   "cell_type": "code",
   "execution_count": null,
   "id": "937d360a",
   "metadata": {},
   "outputs": [],
   "source": [
    "abuja.loc[abuja.index[-1]]"
   ]
  },
  {
   "cell_type": "code",
   "execution_count": null,
   "id": "3b902fc4",
   "metadata": {},
   "outputs": [],
   "source": [
    "food.State.unique()"
   ]
  },
  {
   "cell_type": "code",
   "execution_count": null,
   "id": "f61da747",
   "metadata": {},
   "outputs": [],
   "source": [
    "abuja = food[food.State == \"ABUJA\"]['Agric eggs medium size']\n"
   ]
  },
  {
   "cell_type": "code",
   "execution_count": null,
   "id": "f0d19219",
   "metadata": {},
   "outputs": [],
   "source": [
    "def get_food_price(df, state, product):\n",
    "    price = df[df.State == state][product]\n",
    "    price = price.loc[price.index[-1]]\n",
    "    return price\n",
    "    \n",
    "    "
   ]
  },
  {
   "cell_type": "code",
   "execution_count": null,
   "id": "da037ce2",
   "metadata": {},
   "outputs": [],
   "source": [
    "get_food_price(food, \"ABUJA\", 'Agric eggs medium size')"
   ]
  },
  {
   "cell_type": "code",
   "execution_count": null,
   "id": "db21eb42",
   "metadata": {},
   "outputs": [],
   "source": [
    "a = 'AKWA IBOM'\n",
    "a = \n",
    "a = '_'.join(state.split(' '))\n",
    "a in food.State.unique()"
   ]
  },
  {
   "cell_type": "code",
   "execution_count": null,
   "id": "a91d9a63",
   "metadata": {},
   "outputs": [],
   "source": [
    "food.head()"
   ]
  },
  {
   "cell_type": "code",
   "execution_count": null,
   "id": "25e785d2",
   "metadata": {},
   "outputs": [],
   "source": [
    "# df = food\n",
    "# gp = food.groupby(['State', 'Date'])['Agric eggs medium size'].max()\n",
    "# gp\n",
    "max_month = food.Month.max()\n",
    "max_year = food.Year.max()\n",
    "df = food.query(\"Month == @max_month and Year == @max_year\")\n",
    "gp = df.groupby(['State', 'Date'])['Agric eggs medium size'].max().reset_index().sort_values(by = 'Agric eggs medium size')\n",
    "gp = gp.iloc[-1, :]\n",
    "gp"
   ]
  },
  {
   "cell_type": "code",
   "execution_count": null,
   "id": "c33691b1",
   "metadata": {},
   "outputs": [],
   "source": [
    "gp.State + str(gp['Agric eggs medium size'])"
   ]
  },
  {
   "cell_type": "code",
   "execution_count": null,
   "id": "ee59ef58",
   "metadata": {},
   "outputs": [],
   "source": [
    "# df = food\n",
    "# gp = food.groupby(['State', 'Date'])['Agric eggs medium size'].max()\n",
    "# gp\n",
    "max_month = food.Month.max()\n",
    "max_year = food.Year.max()\n",
    "df = food.query(\"Month == @max_month and Year == @max_year\")\n",
    "gp = df.groupby(['State', 'Date'])['Agric eggs medium size'].max().reset_index().sort_values(by = 'Agric eggs medium size')\n",
    "gp = gp.iloc[:6, :]\n",
    "gp"
   ]
  },
  {
   "cell_type": "code",
   "execution_count": null,
   "id": "b47ac8ec",
   "metadata": {},
   "outputs": [],
   "source": [
    "benue.isnull().sum()"
   ]
  },
  {
   "cell_type": "code",
   "execution_count": null,
   "id": "0d096d68",
   "metadata": {},
   "outputs": [],
   "source": [
    "benue.Date.sort_values()"
   ]
  },
  {
   "cell_type": "code",
   "execution_count": null,
   "id": "2f9284a1",
   "metadata": {},
   "outputs": [],
   "source": [
    "benue[\"Date\"] = pd.to_datetime(benue[\"Date\"], format=\"%Y/%m\")"
   ]
  },
  {
   "cell_type": "code",
   "execution_count": null,
   "id": "fe67d68a",
   "metadata": {},
   "outputs": [],
   "source": [
    "benue.info()"
   ]
  },
  {
   "cell_type": "code",
   "execution_count": null,
   "id": "390b9877",
   "metadata": {},
   "outputs": [],
   "source": [
    "benue = benue[benue.Year != 1900]\n",
    "benue.Date.sort_values()"
   ]
  },
  {
   "cell_type": "code",
   "execution_count": null,
   "id": "6976dd71",
   "metadata": {},
   "outputs": [],
   "source": []
  },
  {
   "cell_type": "code",
   "execution_count": null,
   "id": "1d6cc4d5",
   "metadata": {},
   "outputs": [],
   "source": [
    "states = ['BENUE', 'ABUJA', 'PLATEAU', 'NIGER']\n",
    "states_df = food.query(\"State in @states\")\n",
    "states_df.head()"
   ]
  },
  {
   "cell_type": "code",
   "execution_count": null,
   "id": "fcd9107b",
   "metadata": {},
   "outputs": [],
   "source": [
    "import plotly.express as px\n",
    "states_df = states_df[states_df.Year != 1900]\n",
    "px.line(states_df, x = 'Date', y = 'Rice local sold loose', color = 'State')"
   ]
  },
  {
   "cell_type": "code",
   "execution_count": null,
   "id": "79b66390",
   "metadata": {},
   "outputs": [],
   "source": [
    "import plotly.graph_objects as go"
   ]
  },
  {
   "cell_type": "code",
   "execution_count": null,
   "id": "09e5b87e",
   "metadata": {},
   "outputs": [],
   "source": [
    "food.columns"
   ]
  },
  {
   "cell_type": "code",
   "execution_count": null,
   "id": "e7da11cb",
   "metadata": {},
   "outputs": [],
   "source": [
    "max_month = food.Month.max()\n",
    "max_year = food.Year.max()\n",
    "product = 'Tomato'\n",
    "df = food.query(\"Month == @max_month and Year == @max_year\")\n",
    "df = df.groupby(['State', 'Date'])[product].max().reset_index().sort_values(by = product)\n",
    "df = df.iloc[-6:, :]\n",
    "# fig = px.bar(df, x =df['State'], y = df[product], title='Highest Five states', text = df[product])\n",
    "df.drop('Date', axis = 1, inplace = True)"
   ]
  },
  {
   "cell_type": "code",
   "execution_count": null,
   "id": "bf282f26",
   "metadata": {},
   "outputs": [],
   "source": [
    "df"
   ]
  },
  {
   "cell_type": "code",
   "execution_count": null,
   "id": "83835895",
   "metadata": {},
   "outputs": [],
   "source": [
    "fig = go.Figure(data=[go.Table(\n",
    "    header=dict(values=list(df.columns),\n",
    "#                 fill_color='paleturquoise',\n",
    "                fill_color = 'blue',\n",
    "                align='left',\n",
    "#                  text_color = 'white'\n",
    "               ),\n",
    "    cells=dict(values=[df.State, df[product]],\n",
    "               fill_color='lavender',\n",
    "               align='left',\n",
    "                 \n",
    "              ))\n",
    "])\n",
    "\n",
    "fig.show()"
   ]
  },
  {
   "cell_type": "code",
   "execution_count": 63,
   "id": "4179aced",
   "metadata": {},
   "outputs": [
    {
     "data": {
      "text/html": [
       "<div>\n",
       "<style scoped>\n",
       "    .dataframe tbody tr th:only-of-type {\n",
       "        vertical-align: middle;\n",
       "    }\n",
       "\n",
       "    .dataframe tbody tr th {\n",
       "        vertical-align: top;\n",
       "    }\n",
       "\n",
       "    .dataframe thead th {\n",
       "        text-align: right;\n",
       "    }\n",
       "</style>\n",
       "<table border=\"1\" class=\"dataframe\">\n",
       "  <thead>\n",
       "    <tr style=\"text-align: right;\">\n",
       "      <th></th>\n",
       "      <th>Date</th>\n",
       "      <th>Agric eggs medium size</th>\n",
       "      <th>Agric eggs(medium size price of one)</th>\n",
       "      <th>Beans brown,sold loose</th>\n",
       "      <th>Beans:white black eye. sold loose</th>\n",
       "      <th>Beef Bone in</th>\n",
       "      <th>Beef,boneless</th>\n",
       "      <th>Bread sliced 500g</th>\n",
       "      <th>Bread unsliced 500g</th>\n",
       "      <th>Broken Rice (Ofada)</th>\n",
       "      <th>...</th>\n",
       "      <th>Maize grain yellow sold loose</th>\n",
       "      <th>Palm oil: 1 bottle,specify bottle</th>\n",
       "      <th>Plantain(ripe)</th>\n",
       "      <th>Plantain(unripe)</th>\n",
       "      <th>Vegetable oil:1 bottle,specify bottle</th>\n",
       "      <th>Wheat flour: prepacked (golden penny 2kg)</th>\n",
       "      <th>State</th>\n",
       "      <th>Month</th>\n",
       "      <th>Year</th>\n",
       "      <th>Region</th>\n",
       "    </tr>\n",
       "  </thead>\n",
       "  <tbody>\n",
       "    <tr>\n",
       "      <th>0</th>\n",
       "      <td>2017-01-01</td>\n",
       "      <td>459.977222</td>\n",
       "      <td>45.107143</td>\n",
       "      <td>471.220000</td>\n",
       "      <td>420.764286</td>\n",
       "      <td>1107.670833</td>\n",
       "      <td>1378.395833</td>\n",
       "      <td>334.257857</td>\n",
       "      <td>291.791667</td>\n",
       "      <td>472.000</td>\n",
       "      <td>...</td>\n",
       "      <td>201.07</td>\n",
       "      <td>350.98</td>\n",
       "      <td>249.78</td>\n",
       "      <td>203.38</td>\n",
       "      <td>388.39</td>\n",
       "      <td>645.92</td>\n",
       "      <td>ABIA</td>\n",
       "      <td>1</td>\n",
       "      <td>2017</td>\n",
       "      <td>South_East</td>\n",
       "    </tr>\n",
       "    <tr>\n",
       "      <th>1</th>\n",
       "      <td>2017-02-01</td>\n",
       "      <td>485.809524</td>\n",
       "      <td>44.513575</td>\n",
       "      <td>436.720000</td>\n",
       "      <td>375.090498</td>\n",
       "      <td>955.094825</td>\n",
       "      <td>1304.717292</td>\n",
       "      <td>340.277778</td>\n",
       "      <td>289.166667</td>\n",
       "      <td>450.000</td>\n",
       "      <td>...</td>\n",
       "      <td>217.30</td>\n",
       "      <td>372.42</td>\n",
       "      <td>242.50</td>\n",
       "      <td>193.79</td>\n",
       "      <td>370.77</td>\n",
       "      <td>648.33</td>\n",
       "      <td>ABIA</td>\n",
       "      <td>2</td>\n",
       "      <td>2017</td>\n",
       "      <td>South_East</td>\n",
       "    </tr>\n",
       "    <tr>\n",
       "      <th>2</th>\n",
       "      <td>2017-03-01</td>\n",
       "      <td>519.565217</td>\n",
       "      <td>46.400000</td>\n",
       "      <td>415.625000</td>\n",
       "      <td>400.241546</td>\n",
       "      <td>981.257777</td>\n",
       "      <td>1129.160796</td>\n",
       "      <td>340.000000</td>\n",
       "      <td>286.363636</td>\n",
       "      <td>462.645</td>\n",
       "      <td>...</td>\n",
       "      <td>224.88</td>\n",
       "      <td>347.14</td>\n",
       "      <td>275.18</td>\n",
       "      <td>221.19</td>\n",
       "      <td>396.66</td>\n",
       "      <td>650.00</td>\n",
       "      <td>ABIA</td>\n",
       "      <td>3</td>\n",
       "      <td>2017</td>\n",
       "      <td>South_East</td>\n",
       "    </tr>\n",
       "    <tr>\n",
       "      <th>3</th>\n",
       "      <td>2017-04-01</td>\n",
       "      <td>520.608696</td>\n",
       "      <td>48.148148</td>\n",
       "      <td>394.144661</td>\n",
       "      <td>391.872428</td>\n",
       "      <td>969.967863</td>\n",
       "      <td>1362.469616</td>\n",
       "      <td>340.769231</td>\n",
       "      <td>304.166667</td>\n",
       "      <td>465.000</td>\n",
       "      <td>...</td>\n",
       "      <td>238.10</td>\n",
       "      <td>390.75</td>\n",
       "      <td>250.73</td>\n",
       "      <td>205.83</td>\n",
       "      <td>403.99</td>\n",
       "      <td>627.77</td>\n",
       "      <td>ABIA</td>\n",
       "      <td>4</td>\n",
       "      <td>2017</td>\n",
       "      <td>South_East</td>\n",
       "    </tr>\n",
       "    <tr>\n",
       "      <th>4</th>\n",
       "      <td>2017-05-01</td>\n",
       "      <td>559.655172</td>\n",
       "      <td>47.741935</td>\n",
       "      <td>474.193548</td>\n",
       "      <td>470.312500</td>\n",
       "      <td>996.492745</td>\n",
       "      <td>1499.913743</td>\n",
       "      <td>371.052632</td>\n",
       "      <td>275.000000</td>\n",
       "      <td>520.000</td>\n",
       "      <td>...</td>\n",
       "      <td>229.94</td>\n",
       "      <td>405.83</td>\n",
       "      <td>226.64</td>\n",
       "      <td>200.00</td>\n",
       "      <td>413.71</td>\n",
       "      <td>631.94</td>\n",
       "      <td>ABIA</td>\n",
       "      <td>5</td>\n",
       "      <td>2017</td>\n",
       "      <td>South_East</td>\n",
       "    </tr>\n",
       "  </tbody>\n",
       "</table>\n",
       "<p>5 rows × 48 columns</p>\n",
       "</div>"
      ],
      "text/plain": [
       "         Date  Agric eggs medium size  Agric eggs(medium size price of one)  \\\n",
       "0  2017-01-01              459.977222                             45.107143   \n",
       "1  2017-02-01              485.809524                             44.513575   \n",
       "2  2017-03-01              519.565217                             46.400000   \n",
       "3  2017-04-01              520.608696                             48.148148   \n",
       "4  2017-05-01              559.655172                             47.741935   \n",
       "\n",
       "   Beans brown,sold loose  Beans:white black eye. sold loose  Beef Bone in  \\\n",
       "0              471.220000                         420.764286   1107.670833   \n",
       "1              436.720000                         375.090498    955.094825   \n",
       "2              415.625000                         400.241546    981.257777   \n",
       "3              394.144661                         391.872428    969.967863   \n",
       "4              474.193548                         470.312500    996.492745   \n",
       "\n",
       "   Beef,boneless  Bread sliced 500g  Bread unsliced 500g  Broken Rice (Ofada)  \\\n",
       "0    1378.395833         334.257857           291.791667              472.000   \n",
       "1    1304.717292         340.277778           289.166667              450.000   \n",
       "2    1129.160796         340.000000           286.363636              462.645   \n",
       "3    1362.469616         340.769231           304.166667              465.000   \n",
       "4    1499.913743         371.052632           275.000000              520.000   \n",
       "\n",
       "   ...  Maize grain yellow sold loose  Palm oil: 1 bottle,specify bottle  \\\n",
       "0  ...                         201.07                             350.98   \n",
       "1  ...                         217.30                             372.42   \n",
       "2  ...                         224.88                             347.14   \n",
       "3  ...                         238.10                             390.75   \n",
       "4  ...                         229.94                             405.83   \n",
       "\n",
       "   Plantain(ripe)  Plantain(unripe)  Vegetable oil:1 bottle,specify bottle  \\\n",
       "0          249.78            203.38                                 388.39   \n",
       "1          242.50            193.79                                 370.77   \n",
       "2          275.18            221.19                                 396.66   \n",
       "3          250.73            205.83                                 403.99   \n",
       "4          226.64            200.00                                 413.71   \n",
       "\n",
       "   Wheat flour: prepacked (golden penny 2kg)  State  Month  Year      Region  \n",
       "0                                     645.92   ABIA      1  2017  South_East  \n",
       "1                                     648.33   ABIA      2  2017  South_East  \n",
       "2                                     650.00   ABIA      3  2017  South_East  \n",
       "3                                     627.77   ABIA      4  2017  South_East  \n",
       "4                                     631.94   ABIA      5  2017  South_East  \n",
       "\n",
       "[5 rows x 48 columns]"
      ]
     },
     "execution_count": 63,
     "metadata": {},
     "output_type": "execute_result"
    }
   ],
   "source": [
    "food.head()"
   ]
  },
  {
   "cell_type": "code",
   "execution_count": 72,
   "id": "9d2410a0",
   "metadata": {},
   "outputs": [
    {
     "data": {
      "text/html": [
       "<div>\n",
       "<style scoped>\n",
       "    .dataframe tbody tr th:only-of-type {\n",
       "        vertical-align: middle;\n",
       "    }\n",
       "\n",
       "    .dataframe tbody tr th {\n",
       "        vertical-align: top;\n",
       "    }\n",
       "\n",
       "    .dataframe thead th {\n",
       "        text-align: right;\n",
       "    }\n",
       "</style>\n",
       "<table border=\"1\" class=\"dataframe\">\n",
       "  <thead>\n",
       "    <tr style=\"text-align: right;\">\n",
       "      <th></th>\n",
       "      <th>Date</th>\n",
       "      <th>Agric eggs medium size</th>\n",
       "      <th>State</th>\n",
       "    </tr>\n",
       "  </thead>\n",
       "  <tbody>\n",
       "    <tr>\n",
       "      <th>862</th>\n",
       "      <td>2022-11-01</td>\n",
       "      <td>782.89</td>\n",
       "      <td>ABUJA</td>\n",
       "    </tr>\n",
       "    <tr>\n",
       "      <th>863</th>\n",
       "      <td>2022-12-01</td>\n",
       "      <td>789.00</td>\n",
       "      <td>ABUJA</td>\n",
       "    </tr>\n",
       "  </tbody>\n",
       "</table>\n",
       "</div>"
      ],
      "text/plain": [
       "           Date  Agric eggs medium size  State\n",
       "862  2022-11-01                  782.89  ABUJA\n",
       "863  2022-12-01                  789.00  ABUJA"
      ]
     },
     "execution_count": 72,
     "metadata": {},
     "output_type": "execute_result"
    }
   ],
   "source": [
    "product = 'Agric eggs medium size'\n",
    "state = 'ABUJA'\n",
    "df = food.query(\"State == @state\")[['Date', product, 'State']]\n",
    "df = df.tail(2)\n",
    "df"
   ]
  },
  {
   "cell_type": "code",
   "execution_count": 73,
   "id": "fb79f7f0",
   "metadata": {},
   "outputs": [
    {
     "data": {
      "text/plain": [
       "'0.78%'"
      ]
     },
     "execution_count": 73,
     "metadata": {},
     "output_type": "execute_result"
    }
   ],
   "source": [
    "prev_month = df.iloc[0,1] #4549.14\n",
    "current_month = df.iloc[1, 1] #4565.56\n",
    "MoM = (current_month - prev_month) / prev_month\n",
    "# MoM = (4565.56 - 4549.14) / 4549.14\n",
    "# str(round(MoM*100, 2)) +  '%'\n",
    "MoM = round(MoM * 100, 2)\n",
    "'{}%'.format(MoM)"
   ]
  },
  {
   "cell_type": "code",
   "execution_count": 74,
   "id": "782a1f5d",
   "metadata": {},
   "outputs": [
    {
     "data": {
      "text/plain": [
       "0.7804416967901"
      ]
     },
     "execution_count": 74,
     "metadata": {},
     "output_type": "execute_result"
    }
   ],
   "source": [
    "(789.00 -782.89) / 782.89 * 100"
   ]
  },
  {
   "cell_type": "code",
   "execution_count": 89,
   "id": "3fb8492f",
   "metadata": {},
   "outputs": [
    {
     "data": {
      "text/html": [
       "<div>\n",
       "<style scoped>\n",
       "    .dataframe tbody tr th:only-of-type {\n",
       "        vertical-align: middle;\n",
       "    }\n",
       "\n",
       "    .dataframe tbody tr th {\n",
       "        vertical-align: top;\n",
       "    }\n",
       "\n",
       "    .dataframe thead th {\n",
       "        text-align: right;\n",
       "    }\n",
       "</style>\n",
       "<table border=\"1\" class=\"dataframe\">\n",
       "  <thead>\n",
       "    <tr style=\"text-align: right;\">\n",
       "      <th></th>\n",
       "      <th>Date</th>\n",
       "      <th>Agric eggs medium size</th>\n",
       "      <th>Month</th>\n",
       "    </tr>\n",
       "  </thead>\n",
       "  <tbody>\n",
       "    <tr>\n",
       "      <th>859</th>\n",
       "      <td>2022-08-01</td>\n",
       "      <td>768.00</td>\n",
       "      <td>8</td>\n",
       "    </tr>\n",
       "    <tr>\n",
       "      <th>860</th>\n",
       "      <td>2022-09-01</td>\n",
       "      <td>770.50</td>\n",
       "      <td>9</td>\n",
       "    </tr>\n",
       "    <tr>\n",
       "      <th>861</th>\n",
       "      <td>2022-10-01</td>\n",
       "      <td>780.00</td>\n",
       "      <td>10</td>\n",
       "    </tr>\n",
       "    <tr>\n",
       "      <th>862</th>\n",
       "      <td>2022-11-01</td>\n",
       "      <td>782.89</td>\n",
       "      <td>11</td>\n",
       "    </tr>\n",
       "    <tr>\n",
       "      <th>863</th>\n",
       "      <td>2022-12-01</td>\n",
       "      <td>789.00</td>\n",
       "      <td>12</td>\n",
       "    </tr>\n",
       "  </tbody>\n",
       "</table>\n",
       "</div>"
      ],
      "text/plain": [
       "           Date  Agric eggs medium size  Month\n",
       "859  2022-08-01                  768.00      8\n",
       "860  2022-09-01                  770.50      9\n",
       "861  2022-10-01                  780.00     10\n",
       "862  2022-11-01                  782.89     11\n",
       "863  2022-12-01                  789.00     12"
      ]
     },
     "execution_count": 89,
     "metadata": {},
     "output_type": "execute_result"
    }
   ],
   "source": [
    "product = 'Agric eggs medium size'\n",
    "state = 'ABUJA'\n",
    "df = food.query(\"State == @state\")[['Date', product, 'Month']]\n",
    "df.tail()"
   ]
  },
  {
   "cell_type": "code",
   "execution_count": 90,
   "id": "884c6601",
   "metadata": {},
   "outputs": [
    {
     "data": {
      "text/html": [
       "<div>\n",
       "<style scoped>\n",
       "    .dataframe tbody tr th:only-of-type {\n",
       "        vertical-align: middle;\n",
       "    }\n",
       "\n",
       "    .dataframe tbody tr th {\n",
       "        vertical-align: top;\n",
       "    }\n",
       "\n",
       "    .dataframe thead th {\n",
       "        text-align: right;\n",
       "    }\n",
       "</style>\n",
       "<table border=\"1\" class=\"dataframe\">\n",
       "  <thead>\n",
       "    <tr style=\"text-align: right;\">\n",
       "      <th></th>\n",
       "      <th>Date</th>\n",
       "      <th>Agric eggs medium size</th>\n",
       "      <th>Month</th>\n",
       "    </tr>\n",
       "  </thead>\n",
       "  <tbody>\n",
       "    <tr>\n",
       "      <th>803</th>\n",
       "      <td>2017-12-01</td>\n",
       "      <td>408.571429</td>\n",
       "      <td>12</td>\n",
       "    </tr>\n",
       "    <tr>\n",
       "      <th>815</th>\n",
       "      <td>2018-12-01</td>\n",
       "      <td>498.000000</td>\n",
       "      <td>12</td>\n",
       "    </tr>\n",
       "    <tr>\n",
       "      <th>827</th>\n",
       "      <td>2019-12-01</td>\n",
       "      <td>459.730000</td>\n",
       "      <td>12</td>\n",
       "    </tr>\n",
       "    <tr>\n",
       "      <th>839</th>\n",
       "      <td>2020-12-01</td>\n",
       "      <td>564.444444</td>\n",
       "      <td>12</td>\n",
       "    </tr>\n",
       "    <tr>\n",
       "      <th>851</th>\n",
       "      <td>2021-12-01</td>\n",
       "      <td>700.681947</td>\n",
       "      <td>12</td>\n",
       "    </tr>\n",
       "    <tr>\n",
       "      <th>863</th>\n",
       "      <td>2022-12-01</td>\n",
       "      <td>789.000000</td>\n",
       "      <td>12</td>\n",
       "    </tr>\n",
       "  </tbody>\n",
       "</table>\n",
       "</div>"
      ],
      "text/plain": [
       "           Date  Agric eggs medium size  Month\n",
       "803  2017-12-01              408.571429     12\n",
       "815  2018-12-01              498.000000     12\n",
       "827  2019-12-01              459.730000     12\n",
       "839  2020-12-01              564.444444     12\n",
       "851  2021-12-01              700.681947     12\n",
       "863  2022-12-01              789.000000     12"
      ]
     },
     "execution_count": 90,
     "metadata": {},
     "output_type": "execute_result"
    }
   ],
   "source": [
    "latest = df.tail(1)\n",
    "current_month = latest.Month.values[0]\n",
    "df = df[df.Month == current_month]\n",
    "df"
   ]
  },
  {
   "cell_type": "code",
   "execution_count": 91,
   "id": "99d665ad",
   "metadata": {},
   "outputs": [
    {
     "data": {
      "text/plain": [
       "700.6819470739999"
      ]
     },
     "execution_count": 91,
     "metadata": {},
     "output_type": "execute_result"
    }
   ],
   "source": [
    "df = df[['Date', product]]\n",
    "df = df.tail(2)\n",
    "prev_year = df.iloc[0,1] #4549.14\n",
    "current_year = df.iloc[1, 1] #4565.56\n",
    "YoY = (current_year - prev_year) / prev_year\n",
    "YoY = round(YoY * 100, 2)\n",
    "prev_year"
   ]
  },
  {
   "cell_type": "code",
   "execution_count": 92,
   "id": "d2347932",
   "metadata": {},
   "outputs": [
    {
     "data": {
      "text/plain": [
       "12.6"
      ]
     },
     "execution_count": 92,
     "metadata": {},
     "output_type": "execute_result"
    }
   ],
   "source": [
    "YoY"
   ]
  },
  {
   "cell_type": "code",
   "execution_count": 93,
   "id": "20f6d024",
   "metadata": {},
   "outputs": [
    {
     "data": {
      "text/plain": [
       "12.604585201336715"
      ]
     },
     "execution_count": 93,
     "metadata": {},
     "output_type": "execute_result"
    }
   ],
   "source": [
    "(789.000000\t -700.681947) / 700.681947 * 100"
   ]
  },
  {
   "cell_type": "code",
   "execution_count": null,
   "id": "5a7d509a",
   "metadata": {},
   "outputs": [],
   "source": [
    "def month_average(state, product):\n",
    "    state = '_'.join(state.split(' '))\n",
    "    df = food.query(\"State == @state\")[['Date', product, 'State', 'Month']]\n",
    "    gp = df.groupby(['Month'])[product].mean().reset_index()\n",
    "    gp['Month'] = gp['Month'].apply(lambda x: calendar.month_abbr[x])\n",
    "    fig = px.bar(gp, x = gp['Month'], y = gp[product])\n",
    "    \n"
   ]
  },
  {
   "cell_type": "code",
   "execution_count": 105,
   "id": "3d7050d3",
   "metadata": {},
   "outputs": [
    {
     "data": {
      "text/html": [
       "<div>\n",
       "<style scoped>\n",
       "    .dataframe tbody tr th:only-of-type {\n",
       "        vertical-align: middle;\n",
       "    }\n",
       "\n",
       "    .dataframe tbody tr th {\n",
       "        vertical-align: top;\n",
       "    }\n",
       "\n",
       "    .dataframe thead th {\n",
       "        text-align: right;\n",
       "    }\n",
       "</style>\n",
       "<table border=\"1\" class=\"dataframe\">\n",
       "  <thead>\n",
       "    <tr style=\"text-align: right;\">\n",
       "      <th></th>\n",
       "      <th>Date</th>\n",
       "      <th>Tomato</th>\n",
       "      <th>State</th>\n",
       "      <th>Month</th>\n",
       "    </tr>\n",
       "  </thead>\n",
       "  <tbody>\n",
       "    <tr>\n",
       "      <th>792</th>\n",
       "      <td>2017-01-01</td>\n",
       "      <td>226.842000</td>\n",
       "      <td>ABUJA</td>\n",
       "      <td>1</td>\n",
       "    </tr>\n",
       "    <tr>\n",
       "      <th>793</th>\n",
       "      <td>2017-02-01</td>\n",
       "      <td>185.173333</td>\n",
       "      <td>ABUJA</td>\n",
       "      <td>2</td>\n",
       "    </tr>\n",
       "    <tr>\n",
       "      <th>794</th>\n",
       "      <td>2017-03-01</td>\n",
       "      <td>248.644343</td>\n",
       "      <td>ABUJA</td>\n",
       "      <td>3</td>\n",
       "    </tr>\n",
       "    <tr>\n",
       "      <th>795</th>\n",
       "      <td>2017-04-01</td>\n",
       "      <td>252.747112</td>\n",
       "      <td>ABUJA</td>\n",
       "      <td>4</td>\n",
       "    </tr>\n",
       "    <tr>\n",
       "      <th>796</th>\n",
       "      <td>2017-05-01</td>\n",
       "      <td>354.896059</td>\n",
       "      <td>ABUJA</td>\n",
       "      <td>5</td>\n",
       "    </tr>\n",
       "    <tr>\n",
       "      <th>...</th>\n",
       "      <td>...</td>\n",
       "      <td>...</td>\n",
       "      <td>...</td>\n",
       "      <td>...</td>\n",
       "    </tr>\n",
       "    <tr>\n",
       "      <th>859</th>\n",
       "      <td>2022-08-01</td>\n",
       "      <td>500.745599</td>\n",
       "      <td>ABUJA</td>\n",
       "      <td>8</td>\n",
       "    </tr>\n",
       "    <tr>\n",
       "      <th>860</th>\n",
       "      <td>2022-09-01</td>\n",
       "      <td>487.048666</td>\n",
       "      <td>ABUJA</td>\n",
       "      <td>9</td>\n",
       "    </tr>\n",
       "    <tr>\n",
       "      <th>861</th>\n",
       "      <td>2022-10-01</td>\n",
       "      <td>500.714986</td>\n",
       "      <td>ABUJA</td>\n",
       "      <td>10</td>\n",
       "    </tr>\n",
       "    <tr>\n",
       "      <th>862</th>\n",
       "      <td>2022-11-01</td>\n",
       "      <td>455.555556</td>\n",
       "      <td>ABUJA</td>\n",
       "      <td>11</td>\n",
       "    </tr>\n",
       "    <tr>\n",
       "      <th>863</th>\n",
       "      <td>2022-12-01</td>\n",
       "      <td>451.352146</td>\n",
       "      <td>ABUJA</td>\n",
       "      <td>12</td>\n",
       "    </tr>\n",
       "  </tbody>\n",
       "</table>\n",
       "<p>72 rows × 4 columns</p>\n",
       "</div>"
      ],
      "text/plain": [
       "           Date      Tomato  State  Month\n",
       "792  2017-01-01  226.842000  ABUJA      1\n",
       "793  2017-02-01  185.173333  ABUJA      2\n",
       "794  2017-03-01  248.644343  ABUJA      3\n",
       "795  2017-04-01  252.747112  ABUJA      4\n",
       "796  2017-05-01  354.896059  ABUJA      5\n",
       "..          ...         ...    ...    ...\n",
       "859  2022-08-01  500.745599  ABUJA      8\n",
       "860  2022-09-01  487.048666  ABUJA      9\n",
       "861  2022-10-01  500.714986  ABUJA     10\n",
       "862  2022-11-01  455.555556  ABUJA     11\n",
       "863  2022-12-01  451.352146  ABUJA     12\n",
       "\n",
       "[72 rows x 4 columns]"
      ]
     },
     "execution_count": 105,
     "metadata": {},
     "output_type": "execute_result"
    }
   ],
   "source": [
    "product = 'Tomato'\n",
    "state = 'ABUJA'\n",
    "df = food.query(\"State == @state\")[['Date', product, 'State', 'Month']]\n",
    "df"
   ]
  },
  {
   "cell_type": "code",
   "execution_count": null,
   "id": "0c947760",
   "metadata": {},
   "outputs": [],
   "source": [
    "gp = df.groupby(['Month'])[product].mean().reset_index()\n",
    "gp\n"
   ]
  },
  {
   "cell_type": "code",
   "execution_count": 116,
   "id": "da8b0d37",
   "metadata": {},
   "outputs": [
    {
     "data": {
      "text/html": [
       "<div>\n",
       "<style scoped>\n",
       "    .dataframe tbody tr th:only-of-type {\n",
       "        vertical-align: middle;\n",
       "    }\n",
       "\n",
       "    .dataframe tbody tr th {\n",
       "        vertical-align: top;\n",
       "    }\n",
       "\n",
       "    .dataframe thead th {\n",
       "        text-align: right;\n",
       "    }\n",
       "</style>\n",
       "<table border=\"1\" class=\"dataframe\">\n",
       "  <thead>\n",
       "    <tr style=\"text-align: right;\">\n",
       "      <th></th>\n",
       "      <th>Month</th>\n",
       "      <th>Tomato</th>\n",
       "    </tr>\n",
       "  </thead>\n",
       "  <tbody>\n",
       "    <tr>\n",
       "      <th>0</th>\n",
       "      <td>Jan</td>\n",
       "      <td>282.895388</td>\n",
       "    </tr>\n",
       "    <tr>\n",
       "      <th>1</th>\n",
       "      <td>Feb</td>\n",
       "      <td>293.148608</td>\n",
       "    </tr>\n",
       "    <tr>\n",
       "      <th>2</th>\n",
       "      <td>Mar</td>\n",
       "      <td>307.044931</td>\n",
       "    </tr>\n",
       "    <tr>\n",
       "      <th>3</th>\n",
       "      <td>Apr</td>\n",
       "      <td>322.868068</td>\n",
       "    </tr>\n",
       "    <tr>\n",
       "      <th>4</th>\n",
       "      <td>May</td>\n",
       "      <td>338.934752</td>\n",
       "    </tr>\n",
       "    <tr>\n",
       "      <th>5</th>\n",
       "      <td>Jun</td>\n",
       "      <td>421.179680</td>\n",
       "    </tr>\n",
       "    <tr>\n",
       "      <th>6</th>\n",
       "      <td>Jul</td>\n",
       "      <td>438.607832</td>\n",
       "    </tr>\n",
       "    <tr>\n",
       "      <th>7</th>\n",
       "      <td>Aug</td>\n",
       "      <td>388.008779</td>\n",
       "    </tr>\n",
       "    <tr>\n",
       "      <th>8</th>\n",
       "      <td>Sep</td>\n",
       "      <td>335.733640</td>\n",
       "    </tr>\n",
       "    <tr>\n",
       "      <th>9</th>\n",
       "      <td>Oct</td>\n",
       "      <td>359.571590</td>\n",
       "    </tr>\n",
       "    <tr>\n",
       "      <th>10</th>\n",
       "      <td>Nov</td>\n",
       "      <td>327.882797</td>\n",
       "    </tr>\n",
       "    <tr>\n",
       "      <th>11</th>\n",
       "      <td>Dec</td>\n",
       "      <td>342.854621</td>\n",
       "    </tr>\n",
       "  </tbody>\n",
       "</table>\n",
       "</div>"
      ],
      "text/plain": [
       "   Month      Tomato\n",
       "0    Jan  282.895388\n",
       "1    Feb  293.148608\n",
       "2    Mar  307.044931\n",
       "3    Apr  322.868068\n",
       "4    May  338.934752\n",
       "5    Jun  421.179680\n",
       "6    Jul  438.607832\n",
       "7    Aug  388.008779\n",
       "8    Sep  335.733640\n",
       "9    Oct  359.571590\n",
       "10   Nov  327.882797\n",
       "11   Dec  342.854621"
      ]
     },
     "execution_count": 116,
     "metadata": {},
     "output_type": "execute_result"
    }
   ],
   "source": [
    "import calendar\n",
    "gp['Month'] = gp['Month'].apply(lambda x: calendar.month_abbr[x])\n",
    "gp"
   ]
  },
  {
   "cell_type": "code",
   "execution_count": 118,
   "id": "d21338f6",
   "metadata": {},
   "outputs": [
    {
     "data": {
      "application/vnd.plotly.v1+json": {
       "config": {
        "plotlyServerURL": "https://plot.ly"
       },
       "data": [
        {
         "alignmentgroup": "True",
         "hovertemplate": "Month=%{x}<br>Tomato=%{y}<extra></extra>",
         "legendgroup": "",
         "marker": {
          "color": "#636efa",
          "pattern": {
           "shape": ""
          }
         },
         "name": "",
         "offsetgroup": "",
         "orientation": "v",
         "showlegend": false,
         "textposition": "auto",
         "type": "bar",
         "x": [
          "Jan",
          "Feb",
          "Mar",
          "Apr",
          "May",
          "Jun",
          "Jul",
          "Aug",
          "Sep",
          "Oct",
          "Nov",
          "Dec"
         ],
         "xaxis": "x",
         "y": [
          282.8953878612495,
          293.1486079744504,
          307.0449309540448,
          322.8680684500235,
          338.934751846212,
          421.17967951587934,
          438.6078320640382,
          388.00877917688746,
          335.7336402930628,
          359.57158979890215,
          327.88279727095517,
          342.8546207452564
         ],
         "yaxis": "y"
        }
       ],
       "layout": {
        "barmode": "relative",
        "legend": {
         "tracegroupgap": 0
        },
        "margin": {
         "t": 60
        },
        "template": {
         "data": {
          "bar": [
           {
            "error_x": {
             "color": "#2a3f5f"
            },
            "error_y": {
             "color": "#2a3f5f"
            },
            "marker": {
             "line": {
              "color": "#E5ECF6",
              "width": 0.5
             },
             "pattern": {
              "fillmode": "overlay",
              "size": 10,
              "solidity": 0.2
             }
            },
            "type": "bar"
           }
          ],
          "barpolar": [
           {
            "marker": {
             "line": {
              "color": "#E5ECF6",
              "width": 0.5
             },
             "pattern": {
              "fillmode": "overlay",
              "size": 10,
              "solidity": 0.2
             }
            },
            "type": "barpolar"
           }
          ],
          "carpet": [
           {
            "aaxis": {
             "endlinecolor": "#2a3f5f",
             "gridcolor": "white",
             "linecolor": "white",
             "minorgridcolor": "white",
             "startlinecolor": "#2a3f5f"
            },
            "baxis": {
             "endlinecolor": "#2a3f5f",
             "gridcolor": "white",
             "linecolor": "white",
             "minorgridcolor": "white",
             "startlinecolor": "#2a3f5f"
            },
            "type": "carpet"
           }
          ],
          "choropleth": [
           {
            "colorbar": {
             "outlinewidth": 0,
             "ticks": ""
            },
            "type": "choropleth"
           }
          ],
          "contour": [
           {
            "colorbar": {
             "outlinewidth": 0,
             "ticks": ""
            },
            "colorscale": [
             [
              0,
              "#0d0887"
             ],
             [
              0.1111111111111111,
              "#46039f"
             ],
             [
              0.2222222222222222,
              "#7201a8"
             ],
             [
              0.3333333333333333,
              "#9c179e"
             ],
             [
              0.4444444444444444,
              "#bd3786"
             ],
             [
              0.5555555555555556,
              "#d8576b"
             ],
             [
              0.6666666666666666,
              "#ed7953"
             ],
             [
              0.7777777777777778,
              "#fb9f3a"
             ],
             [
              0.8888888888888888,
              "#fdca26"
             ],
             [
              1,
              "#f0f921"
             ]
            ],
            "type": "contour"
           }
          ],
          "contourcarpet": [
           {
            "colorbar": {
             "outlinewidth": 0,
             "ticks": ""
            },
            "type": "contourcarpet"
           }
          ],
          "heatmap": [
           {
            "colorbar": {
             "outlinewidth": 0,
             "ticks": ""
            },
            "colorscale": [
             [
              0,
              "#0d0887"
             ],
             [
              0.1111111111111111,
              "#46039f"
             ],
             [
              0.2222222222222222,
              "#7201a8"
             ],
             [
              0.3333333333333333,
              "#9c179e"
             ],
             [
              0.4444444444444444,
              "#bd3786"
             ],
             [
              0.5555555555555556,
              "#d8576b"
             ],
             [
              0.6666666666666666,
              "#ed7953"
             ],
             [
              0.7777777777777778,
              "#fb9f3a"
             ],
             [
              0.8888888888888888,
              "#fdca26"
             ],
             [
              1,
              "#f0f921"
             ]
            ],
            "type": "heatmap"
           }
          ],
          "heatmapgl": [
           {
            "colorbar": {
             "outlinewidth": 0,
             "ticks": ""
            },
            "colorscale": [
             [
              0,
              "#0d0887"
             ],
             [
              0.1111111111111111,
              "#46039f"
             ],
             [
              0.2222222222222222,
              "#7201a8"
             ],
             [
              0.3333333333333333,
              "#9c179e"
             ],
             [
              0.4444444444444444,
              "#bd3786"
             ],
             [
              0.5555555555555556,
              "#d8576b"
             ],
             [
              0.6666666666666666,
              "#ed7953"
             ],
             [
              0.7777777777777778,
              "#fb9f3a"
             ],
             [
              0.8888888888888888,
              "#fdca26"
             ],
             [
              1,
              "#f0f921"
             ]
            ],
            "type": "heatmapgl"
           }
          ],
          "histogram": [
           {
            "marker": {
             "pattern": {
              "fillmode": "overlay",
              "size": 10,
              "solidity": 0.2
             }
            },
            "type": "histogram"
           }
          ],
          "histogram2d": [
           {
            "colorbar": {
             "outlinewidth": 0,
             "ticks": ""
            },
            "colorscale": [
             [
              0,
              "#0d0887"
             ],
             [
              0.1111111111111111,
              "#46039f"
             ],
             [
              0.2222222222222222,
              "#7201a8"
             ],
             [
              0.3333333333333333,
              "#9c179e"
             ],
             [
              0.4444444444444444,
              "#bd3786"
             ],
             [
              0.5555555555555556,
              "#d8576b"
             ],
             [
              0.6666666666666666,
              "#ed7953"
             ],
             [
              0.7777777777777778,
              "#fb9f3a"
             ],
             [
              0.8888888888888888,
              "#fdca26"
             ],
             [
              1,
              "#f0f921"
             ]
            ],
            "type": "histogram2d"
           }
          ],
          "histogram2dcontour": [
           {
            "colorbar": {
             "outlinewidth": 0,
             "ticks": ""
            },
            "colorscale": [
             [
              0,
              "#0d0887"
             ],
             [
              0.1111111111111111,
              "#46039f"
             ],
             [
              0.2222222222222222,
              "#7201a8"
             ],
             [
              0.3333333333333333,
              "#9c179e"
             ],
             [
              0.4444444444444444,
              "#bd3786"
             ],
             [
              0.5555555555555556,
              "#d8576b"
             ],
             [
              0.6666666666666666,
              "#ed7953"
             ],
             [
              0.7777777777777778,
              "#fb9f3a"
             ],
             [
              0.8888888888888888,
              "#fdca26"
             ],
             [
              1,
              "#f0f921"
             ]
            ],
            "type": "histogram2dcontour"
           }
          ],
          "mesh3d": [
           {
            "colorbar": {
             "outlinewidth": 0,
             "ticks": ""
            },
            "type": "mesh3d"
           }
          ],
          "parcoords": [
           {
            "line": {
             "colorbar": {
              "outlinewidth": 0,
              "ticks": ""
             }
            },
            "type": "parcoords"
           }
          ],
          "pie": [
           {
            "automargin": true,
            "type": "pie"
           }
          ],
          "scatter": [
           {
            "fillpattern": {
             "fillmode": "overlay",
             "size": 10,
             "solidity": 0.2
            },
            "type": "scatter"
           }
          ],
          "scatter3d": [
           {
            "line": {
             "colorbar": {
              "outlinewidth": 0,
              "ticks": ""
             }
            },
            "marker": {
             "colorbar": {
              "outlinewidth": 0,
              "ticks": ""
             }
            },
            "type": "scatter3d"
           }
          ],
          "scattercarpet": [
           {
            "marker": {
             "colorbar": {
              "outlinewidth": 0,
              "ticks": ""
             }
            },
            "type": "scattercarpet"
           }
          ],
          "scattergeo": [
           {
            "marker": {
             "colorbar": {
              "outlinewidth": 0,
              "ticks": ""
             }
            },
            "type": "scattergeo"
           }
          ],
          "scattergl": [
           {
            "marker": {
             "colorbar": {
              "outlinewidth": 0,
              "ticks": ""
             }
            },
            "type": "scattergl"
           }
          ],
          "scattermapbox": [
           {
            "marker": {
             "colorbar": {
              "outlinewidth": 0,
              "ticks": ""
             }
            },
            "type": "scattermapbox"
           }
          ],
          "scatterpolar": [
           {
            "marker": {
             "colorbar": {
              "outlinewidth": 0,
              "ticks": ""
             }
            },
            "type": "scatterpolar"
           }
          ],
          "scatterpolargl": [
           {
            "marker": {
             "colorbar": {
              "outlinewidth": 0,
              "ticks": ""
             }
            },
            "type": "scatterpolargl"
           }
          ],
          "scatterternary": [
           {
            "marker": {
             "colorbar": {
              "outlinewidth": 0,
              "ticks": ""
             }
            },
            "type": "scatterternary"
           }
          ],
          "surface": [
           {
            "colorbar": {
             "outlinewidth": 0,
             "ticks": ""
            },
            "colorscale": [
             [
              0,
              "#0d0887"
             ],
             [
              0.1111111111111111,
              "#46039f"
             ],
             [
              0.2222222222222222,
              "#7201a8"
             ],
             [
              0.3333333333333333,
              "#9c179e"
             ],
             [
              0.4444444444444444,
              "#bd3786"
             ],
             [
              0.5555555555555556,
              "#d8576b"
             ],
             [
              0.6666666666666666,
              "#ed7953"
             ],
             [
              0.7777777777777778,
              "#fb9f3a"
             ],
             [
              0.8888888888888888,
              "#fdca26"
             ],
             [
              1,
              "#f0f921"
             ]
            ],
            "type": "surface"
           }
          ],
          "table": [
           {
            "cells": {
             "fill": {
              "color": "#EBF0F8"
             },
             "line": {
              "color": "white"
             }
            },
            "header": {
             "fill": {
              "color": "#C8D4E3"
             },
             "line": {
              "color": "white"
             }
            },
            "type": "table"
           }
          ]
         },
         "layout": {
          "annotationdefaults": {
           "arrowcolor": "#2a3f5f",
           "arrowhead": 0,
           "arrowwidth": 1
          },
          "autotypenumbers": "strict",
          "coloraxis": {
           "colorbar": {
            "outlinewidth": 0,
            "ticks": ""
           }
          },
          "colorscale": {
           "diverging": [
            [
             0,
             "#8e0152"
            ],
            [
             0.1,
             "#c51b7d"
            ],
            [
             0.2,
             "#de77ae"
            ],
            [
             0.3,
             "#f1b6da"
            ],
            [
             0.4,
             "#fde0ef"
            ],
            [
             0.5,
             "#f7f7f7"
            ],
            [
             0.6,
             "#e6f5d0"
            ],
            [
             0.7,
             "#b8e186"
            ],
            [
             0.8,
             "#7fbc41"
            ],
            [
             0.9,
             "#4d9221"
            ],
            [
             1,
             "#276419"
            ]
           ],
           "sequential": [
            [
             0,
             "#0d0887"
            ],
            [
             0.1111111111111111,
             "#46039f"
            ],
            [
             0.2222222222222222,
             "#7201a8"
            ],
            [
             0.3333333333333333,
             "#9c179e"
            ],
            [
             0.4444444444444444,
             "#bd3786"
            ],
            [
             0.5555555555555556,
             "#d8576b"
            ],
            [
             0.6666666666666666,
             "#ed7953"
            ],
            [
             0.7777777777777778,
             "#fb9f3a"
            ],
            [
             0.8888888888888888,
             "#fdca26"
            ],
            [
             1,
             "#f0f921"
            ]
           ],
           "sequentialminus": [
            [
             0,
             "#0d0887"
            ],
            [
             0.1111111111111111,
             "#46039f"
            ],
            [
             0.2222222222222222,
             "#7201a8"
            ],
            [
             0.3333333333333333,
             "#9c179e"
            ],
            [
             0.4444444444444444,
             "#bd3786"
            ],
            [
             0.5555555555555556,
             "#d8576b"
            ],
            [
             0.6666666666666666,
             "#ed7953"
            ],
            [
             0.7777777777777778,
             "#fb9f3a"
            ],
            [
             0.8888888888888888,
             "#fdca26"
            ],
            [
             1,
             "#f0f921"
            ]
           ]
          },
          "colorway": [
           "#636efa",
           "#EF553B",
           "#00cc96",
           "#ab63fa",
           "#FFA15A",
           "#19d3f3",
           "#FF6692",
           "#B6E880",
           "#FF97FF",
           "#FECB52"
          ],
          "font": {
           "color": "#2a3f5f"
          },
          "geo": {
           "bgcolor": "white",
           "lakecolor": "white",
           "landcolor": "#E5ECF6",
           "showlakes": true,
           "showland": true,
           "subunitcolor": "white"
          },
          "hoverlabel": {
           "align": "left"
          },
          "hovermode": "closest",
          "mapbox": {
           "style": "light"
          },
          "paper_bgcolor": "white",
          "plot_bgcolor": "#E5ECF6",
          "polar": {
           "angularaxis": {
            "gridcolor": "white",
            "linecolor": "white",
            "ticks": ""
           },
           "bgcolor": "#E5ECF6",
           "radialaxis": {
            "gridcolor": "white",
            "linecolor": "white",
            "ticks": ""
           }
          },
          "scene": {
           "xaxis": {
            "backgroundcolor": "#E5ECF6",
            "gridcolor": "white",
            "gridwidth": 2,
            "linecolor": "white",
            "showbackground": true,
            "ticks": "",
            "zerolinecolor": "white"
           },
           "yaxis": {
            "backgroundcolor": "#E5ECF6",
            "gridcolor": "white",
            "gridwidth": 2,
            "linecolor": "white",
            "showbackground": true,
            "ticks": "",
            "zerolinecolor": "white"
           },
           "zaxis": {
            "backgroundcolor": "#E5ECF6",
            "gridcolor": "white",
            "gridwidth": 2,
            "linecolor": "white",
            "showbackground": true,
            "ticks": "",
            "zerolinecolor": "white"
           }
          },
          "shapedefaults": {
           "line": {
            "color": "#2a3f5f"
           }
          },
          "ternary": {
           "aaxis": {
            "gridcolor": "white",
            "linecolor": "white",
            "ticks": ""
           },
           "baxis": {
            "gridcolor": "white",
            "linecolor": "white",
            "ticks": ""
           },
           "bgcolor": "#E5ECF6",
           "caxis": {
            "gridcolor": "white",
            "linecolor": "white",
            "ticks": ""
           }
          },
          "title": {
           "x": 0.05
          },
          "xaxis": {
           "automargin": true,
           "gridcolor": "white",
           "linecolor": "white",
           "ticks": "",
           "title": {
            "standoff": 15
           },
           "zerolinecolor": "white",
           "zerolinewidth": 2
          },
          "yaxis": {
           "automargin": true,
           "gridcolor": "white",
           "linecolor": "white",
           "ticks": "",
           "title": {
            "standoff": 15
           },
           "zerolinecolor": "white",
           "zerolinewidth": 2
          }
         }
        },
        "xaxis": {
         "anchor": "y",
         "domain": [
          0,
          1
         ],
         "title": {
          "text": "Month"
         }
        },
        "yaxis": {
         "anchor": "x",
         "domain": [
          0,
          1
         ],
         "title": {
          "text": "Tomato"
         }
        }
       }
      },
      "text/html": [
       "<div>                            <div id=\"a456e8bd-e425-4f07-bc2c-71f98ea0fa9c\" class=\"plotly-graph-div\" style=\"height:525px; width:100%;\"></div>            <script type=\"text/javascript\">                require([\"plotly\"], function(Plotly) {                    window.PLOTLYENV=window.PLOTLYENV || {};                                    if (document.getElementById(\"a456e8bd-e425-4f07-bc2c-71f98ea0fa9c\")) {                    Plotly.newPlot(                        \"a456e8bd-e425-4f07-bc2c-71f98ea0fa9c\",                        [{\"alignmentgroup\":\"True\",\"hovertemplate\":\"Month=%{x}<br>Tomato=%{y}<extra></extra>\",\"legendgroup\":\"\",\"marker\":{\"color\":\"#636efa\",\"pattern\":{\"shape\":\"\"}},\"name\":\"\",\"offsetgroup\":\"\",\"orientation\":\"v\",\"showlegend\":false,\"textposition\":\"auto\",\"x\":[\"Jan\",\"Feb\",\"Mar\",\"Apr\",\"May\",\"Jun\",\"Jul\",\"Aug\",\"Sep\",\"Oct\",\"Nov\",\"Dec\"],\"xaxis\":\"x\",\"y\":[282.8953878612495,293.1486079744504,307.0449309540448,322.8680684500235,338.934751846212,421.17967951587934,438.6078320640382,388.00877917688746,335.7336402930628,359.57158979890215,327.88279727095517,342.8546207452564],\"yaxis\":\"y\",\"type\":\"bar\"}],                        {\"template\":{\"data\":{\"histogram2dcontour\":[{\"type\":\"histogram2dcontour\",\"colorbar\":{\"outlinewidth\":0,\"ticks\":\"\"},\"colorscale\":[[0.0,\"#0d0887\"],[0.1111111111111111,\"#46039f\"],[0.2222222222222222,\"#7201a8\"],[0.3333333333333333,\"#9c179e\"],[0.4444444444444444,\"#bd3786\"],[0.5555555555555556,\"#d8576b\"],[0.6666666666666666,\"#ed7953\"],[0.7777777777777778,\"#fb9f3a\"],[0.8888888888888888,\"#fdca26\"],[1.0,\"#f0f921\"]]}],\"choropleth\":[{\"type\":\"choropleth\",\"colorbar\":{\"outlinewidth\":0,\"ticks\":\"\"}}],\"histogram2d\":[{\"type\":\"histogram2d\",\"colorbar\":{\"outlinewidth\":0,\"ticks\":\"\"},\"colorscale\":[[0.0,\"#0d0887\"],[0.1111111111111111,\"#46039f\"],[0.2222222222222222,\"#7201a8\"],[0.3333333333333333,\"#9c179e\"],[0.4444444444444444,\"#bd3786\"],[0.5555555555555556,\"#d8576b\"],[0.6666666666666666,\"#ed7953\"],[0.7777777777777778,\"#fb9f3a\"],[0.8888888888888888,\"#fdca26\"],[1.0,\"#f0f921\"]]}],\"heatmap\":[{\"type\":\"heatmap\",\"colorbar\":{\"outlinewidth\":0,\"ticks\":\"\"},\"colorscale\":[[0.0,\"#0d0887\"],[0.1111111111111111,\"#46039f\"],[0.2222222222222222,\"#7201a8\"],[0.3333333333333333,\"#9c179e\"],[0.4444444444444444,\"#bd3786\"],[0.5555555555555556,\"#d8576b\"],[0.6666666666666666,\"#ed7953\"],[0.7777777777777778,\"#fb9f3a\"],[0.8888888888888888,\"#fdca26\"],[1.0,\"#f0f921\"]]}],\"heatmapgl\":[{\"type\":\"heatmapgl\",\"colorbar\":{\"outlinewidth\":0,\"ticks\":\"\"},\"colorscale\":[[0.0,\"#0d0887\"],[0.1111111111111111,\"#46039f\"],[0.2222222222222222,\"#7201a8\"],[0.3333333333333333,\"#9c179e\"],[0.4444444444444444,\"#bd3786\"],[0.5555555555555556,\"#d8576b\"],[0.6666666666666666,\"#ed7953\"],[0.7777777777777778,\"#fb9f3a\"],[0.8888888888888888,\"#fdca26\"],[1.0,\"#f0f921\"]]}],\"contourcarpet\":[{\"type\":\"contourcarpet\",\"colorbar\":{\"outlinewidth\":0,\"ticks\":\"\"}}],\"contour\":[{\"type\":\"contour\",\"colorbar\":{\"outlinewidth\":0,\"ticks\":\"\"},\"colorscale\":[[0.0,\"#0d0887\"],[0.1111111111111111,\"#46039f\"],[0.2222222222222222,\"#7201a8\"],[0.3333333333333333,\"#9c179e\"],[0.4444444444444444,\"#bd3786\"],[0.5555555555555556,\"#d8576b\"],[0.6666666666666666,\"#ed7953\"],[0.7777777777777778,\"#fb9f3a\"],[0.8888888888888888,\"#fdca26\"],[1.0,\"#f0f921\"]]}],\"surface\":[{\"type\":\"surface\",\"colorbar\":{\"outlinewidth\":0,\"ticks\":\"\"},\"colorscale\":[[0.0,\"#0d0887\"],[0.1111111111111111,\"#46039f\"],[0.2222222222222222,\"#7201a8\"],[0.3333333333333333,\"#9c179e\"],[0.4444444444444444,\"#bd3786\"],[0.5555555555555556,\"#d8576b\"],[0.6666666666666666,\"#ed7953\"],[0.7777777777777778,\"#fb9f3a\"],[0.8888888888888888,\"#fdca26\"],[1.0,\"#f0f921\"]]}],\"mesh3d\":[{\"type\":\"mesh3d\",\"colorbar\":{\"outlinewidth\":0,\"ticks\":\"\"}}],\"scatter\":[{\"fillpattern\":{\"fillmode\":\"overlay\",\"size\":10,\"solidity\":0.2},\"type\":\"scatter\"}],\"parcoords\":[{\"type\":\"parcoords\",\"line\":{\"colorbar\":{\"outlinewidth\":0,\"ticks\":\"\"}}}],\"scatterpolargl\":[{\"type\":\"scatterpolargl\",\"marker\":{\"colorbar\":{\"outlinewidth\":0,\"ticks\":\"\"}}}],\"bar\":[{\"error_x\":{\"color\":\"#2a3f5f\"},\"error_y\":{\"color\":\"#2a3f5f\"},\"marker\":{\"line\":{\"color\":\"#E5ECF6\",\"width\":0.5},\"pattern\":{\"fillmode\":\"overlay\",\"size\":10,\"solidity\":0.2}},\"type\":\"bar\"}],\"scattergeo\":[{\"type\":\"scattergeo\",\"marker\":{\"colorbar\":{\"outlinewidth\":0,\"ticks\":\"\"}}}],\"scatterpolar\":[{\"type\":\"scatterpolar\",\"marker\":{\"colorbar\":{\"outlinewidth\":0,\"ticks\":\"\"}}}],\"histogram\":[{\"marker\":{\"pattern\":{\"fillmode\":\"overlay\",\"size\":10,\"solidity\":0.2}},\"type\":\"histogram\"}],\"scattergl\":[{\"type\":\"scattergl\",\"marker\":{\"colorbar\":{\"outlinewidth\":0,\"ticks\":\"\"}}}],\"scatter3d\":[{\"type\":\"scatter3d\",\"line\":{\"colorbar\":{\"outlinewidth\":0,\"ticks\":\"\"}},\"marker\":{\"colorbar\":{\"outlinewidth\":0,\"ticks\":\"\"}}}],\"scattermapbox\":[{\"type\":\"scattermapbox\",\"marker\":{\"colorbar\":{\"outlinewidth\":0,\"ticks\":\"\"}}}],\"scatterternary\":[{\"type\":\"scatterternary\",\"marker\":{\"colorbar\":{\"outlinewidth\":0,\"ticks\":\"\"}}}],\"scattercarpet\":[{\"type\":\"scattercarpet\",\"marker\":{\"colorbar\":{\"outlinewidth\":0,\"ticks\":\"\"}}}],\"carpet\":[{\"aaxis\":{\"endlinecolor\":\"#2a3f5f\",\"gridcolor\":\"white\",\"linecolor\":\"white\",\"minorgridcolor\":\"white\",\"startlinecolor\":\"#2a3f5f\"},\"baxis\":{\"endlinecolor\":\"#2a3f5f\",\"gridcolor\":\"white\",\"linecolor\":\"white\",\"minorgridcolor\":\"white\",\"startlinecolor\":\"#2a3f5f\"},\"type\":\"carpet\"}],\"table\":[{\"cells\":{\"fill\":{\"color\":\"#EBF0F8\"},\"line\":{\"color\":\"white\"}},\"header\":{\"fill\":{\"color\":\"#C8D4E3\"},\"line\":{\"color\":\"white\"}},\"type\":\"table\"}],\"barpolar\":[{\"marker\":{\"line\":{\"color\":\"#E5ECF6\",\"width\":0.5},\"pattern\":{\"fillmode\":\"overlay\",\"size\":10,\"solidity\":0.2}},\"type\":\"barpolar\"}],\"pie\":[{\"automargin\":true,\"type\":\"pie\"}]},\"layout\":{\"autotypenumbers\":\"strict\",\"colorway\":[\"#636efa\",\"#EF553B\",\"#00cc96\",\"#ab63fa\",\"#FFA15A\",\"#19d3f3\",\"#FF6692\",\"#B6E880\",\"#FF97FF\",\"#FECB52\"],\"font\":{\"color\":\"#2a3f5f\"},\"hovermode\":\"closest\",\"hoverlabel\":{\"align\":\"left\"},\"paper_bgcolor\":\"white\",\"plot_bgcolor\":\"#E5ECF6\",\"polar\":{\"bgcolor\":\"#E5ECF6\",\"angularaxis\":{\"gridcolor\":\"white\",\"linecolor\":\"white\",\"ticks\":\"\"},\"radialaxis\":{\"gridcolor\":\"white\",\"linecolor\":\"white\",\"ticks\":\"\"}},\"ternary\":{\"bgcolor\":\"#E5ECF6\",\"aaxis\":{\"gridcolor\":\"white\",\"linecolor\":\"white\",\"ticks\":\"\"},\"baxis\":{\"gridcolor\":\"white\",\"linecolor\":\"white\",\"ticks\":\"\"},\"caxis\":{\"gridcolor\":\"white\",\"linecolor\":\"white\",\"ticks\":\"\"}},\"coloraxis\":{\"colorbar\":{\"outlinewidth\":0,\"ticks\":\"\"}},\"colorscale\":{\"sequential\":[[0.0,\"#0d0887\"],[0.1111111111111111,\"#46039f\"],[0.2222222222222222,\"#7201a8\"],[0.3333333333333333,\"#9c179e\"],[0.4444444444444444,\"#bd3786\"],[0.5555555555555556,\"#d8576b\"],[0.6666666666666666,\"#ed7953\"],[0.7777777777777778,\"#fb9f3a\"],[0.8888888888888888,\"#fdca26\"],[1.0,\"#f0f921\"]],\"sequentialminus\":[[0.0,\"#0d0887\"],[0.1111111111111111,\"#46039f\"],[0.2222222222222222,\"#7201a8\"],[0.3333333333333333,\"#9c179e\"],[0.4444444444444444,\"#bd3786\"],[0.5555555555555556,\"#d8576b\"],[0.6666666666666666,\"#ed7953\"],[0.7777777777777778,\"#fb9f3a\"],[0.8888888888888888,\"#fdca26\"],[1.0,\"#f0f921\"]],\"diverging\":[[0,\"#8e0152\"],[0.1,\"#c51b7d\"],[0.2,\"#de77ae\"],[0.3,\"#f1b6da\"],[0.4,\"#fde0ef\"],[0.5,\"#f7f7f7\"],[0.6,\"#e6f5d0\"],[0.7,\"#b8e186\"],[0.8,\"#7fbc41\"],[0.9,\"#4d9221\"],[1,\"#276419\"]]},\"xaxis\":{\"gridcolor\":\"white\",\"linecolor\":\"white\",\"ticks\":\"\",\"title\":{\"standoff\":15},\"zerolinecolor\":\"white\",\"automargin\":true,\"zerolinewidth\":2},\"yaxis\":{\"gridcolor\":\"white\",\"linecolor\":\"white\",\"ticks\":\"\",\"title\":{\"standoff\":15},\"zerolinecolor\":\"white\",\"automargin\":true,\"zerolinewidth\":2},\"scene\":{\"xaxis\":{\"backgroundcolor\":\"#E5ECF6\",\"gridcolor\":\"white\",\"linecolor\":\"white\",\"showbackground\":true,\"ticks\":\"\",\"zerolinecolor\":\"white\",\"gridwidth\":2},\"yaxis\":{\"backgroundcolor\":\"#E5ECF6\",\"gridcolor\":\"white\",\"linecolor\":\"white\",\"showbackground\":true,\"ticks\":\"\",\"zerolinecolor\":\"white\",\"gridwidth\":2},\"zaxis\":{\"backgroundcolor\":\"#E5ECF6\",\"gridcolor\":\"white\",\"linecolor\":\"white\",\"showbackground\":true,\"ticks\":\"\",\"zerolinecolor\":\"white\",\"gridwidth\":2}},\"shapedefaults\":{\"line\":{\"color\":\"#2a3f5f\"}},\"annotationdefaults\":{\"arrowcolor\":\"#2a3f5f\",\"arrowhead\":0,\"arrowwidth\":1},\"geo\":{\"bgcolor\":\"white\",\"landcolor\":\"#E5ECF6\",\"subunitcolor\":\"white\",\"showland\":true,\"showlakes\":true,\"lakecolor\":\"white\"},\"title\":{\"x\":0.05},\"mapbox\":{\"style\":\"light\"}}},\"xaxis\":{\"anchor\":\"y\",\"domain\":[0.0,1.0],\"title\":{\"text\":\"Month\"}},\"yaxis\":{\"anchor\":\"x\",\"domain\":[0.0,1.0],\"title\":{\"text\":\"Tomato\"}},\"legend\":{\"tracegroupgap\":0},\"margin\":{\"t\":60},\"barmode\":\"relative\"},                        {\"responsive\": true}                    ).then(function(){\n",
       "                            \n",
       "var gd = document.getElementById('a456e8bd-e425-4f07-bc2c-71f98ea0fa9c');\n",
       "var x = new MutationObserver(function (mutations, observer) {{\n",
       "        var display = window.getComputedStyle(gd).display;\n",
       "        if (!display || display === 'none') {{\n",
       "            console.log([gd, 'removed!']);\n",
       "            Plotly.purge(gd);\n",
       "            observer.disconnect();\n",
       "        }}\n",
       "}});\n",
       "\n",
       "// Listen for the removal of the full notebook cells\n",
       "var notebookContainer = gd.closest('#notebook-container');\n",
       "if (notebookContainer) {{\n",
       "    x.observe(notebookContainer, {childList: true});\n",
       "}}\n",
       "\n",
       "// Listen for the clearing of the current output cell\n",
       "var outputEl = gd.closest('.output');\n",
       "if (outputEl) {{\n",
       "    x.observe(outputEl, {childList: true});\n",
       "}}\n",
       "\n",
       "                        })                };                });            </script>        </div>"
      ]
     },
     "metadata": {},
     "output_type": "display_data"
    }
   ],
   "source": [
    "# px.bar(gp, y = gp['Month'], x = gp[product], orientation = 'h')\n",
    "px.bar(gp, x = gp['Month'], y = gp[product])"
   ]
  },
  {
   "cell_type": "code",
   "execution_count": null,
   "id": "2376a2f5",
   "metadata": {},
   "outputs": [],
   "source": []
  }
 ],
 "metadata": {
  "kernelspec": {
   "display_name": "Python 3 (ipykernel)",
   "language": "python",
   "name": "python3"
  },
  "language_info": {
   "codemirror_mode": {
    "name": "ipython",
    "version": 3
   },
   "file_extension": ".py",
   "mimetype": "text/x-python",
   "name": "python",
   "nbconvert_exporter": "python",
   "pygments_lexer": "ipython3",
   "version": "3.10.7"
  }
 },
 "nbformat": 4,
 "nbformat_minor": 5
}
