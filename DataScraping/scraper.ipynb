{
  "cells": [
    {
      "cell_type": "markdown",
      "metadata": {
        "colab_type": "text",
        "id": "view-in-github"
      },
      "source": [
        "<a href=\"https://colab.research.google.com/github/zalihat/Nigerian-Price-Watch/blob/data_scraping/scraper.ipynb\" target=\"_parent\"><img src=\"https://colab.research.google.com/assets/colab-badge.svg\" alt=\"Open In Colab\"/></a>"
      ]
    },
    {
      "cell_type": "markdown",
      "metadata": {
        "id": "LqlV3JFZWYwF"
      },
      "source": [
        "# Nigerian price watch \n",
        "Data from http://nigerianstat.gov.ng/ "
      ]
    },
    {
      "cell_type": "code",
      "execution_count": 5,
      "metadata": {
        "id": "G4Xiy-eFBjRr"
      },
      "outputs": [
        {
          "ename": "ModuleNotFoundError",
          "evalue": "No module named 'bs4'",
          "output_type": "error",
          "traceback": [
            "\u001b[0;31m---------------------------------------------------------------------------\u001b[0m",
            "\u001b[0;31mModuleNotFoundError\u001b[0m                       Traceback (most recent call last)",
            "Cell \u001b[0;32mIn[5], line 2\u001b[0m\n\u001b[1;32m      1\u001b[0m \u001b[38;5;66;03m#import libraries\u001b[39;00m\n\u001b[0;32m----> 2\u001b[0m \u001b[38;5;28;01mfrom\u001b[39;00m \u001b[38;5;21;01mbs4\u001b[39;00m \u001b[38;5;28;01mimport\u001b[39;00m BeautifulSoup\n\u001b[1;32m      3\u001b[0m \u001b[38;5;28;01mimport\u001b[39;00m \u001b[38;5;21;01mrequests\u001b[39;00m\n\u001b[1;32m      4\u001b[0m \u001b[38;5;28;01mimport\u001b[39;00m \u001b[38;5;21;01murllib\u001b[39;00m\u001b[38;5;21;01m.\u001b[39;00m\u001b[38;5;21;01mrequest\u001b[39;00m \n",
            "\u001b[0;31mModuleNotFoundError\u001b[0m: No module named 'bs4'"
          ]
        }
      ],
      "source": [
        "#import libraries\n",
        "from bs4 import BeautifulSoup\n",
        "import requests\n",
        "import urllib.request \n",
        "import logging\n",
        "import warnings\n",
        "warnings.filterwarnings(\"ignore\")\n",
        "logging.basicConfig(level=logging.INFO)"
      ]
    },
    {
      "cell_type": "code",
      "execution_count": 2,
      "metadata": {
        "id": "gQWWRlLzJcLm"
      },
      "outputs": [],
      "source": [
        "def get_page_link(month_year):\n",
        "  url = 'https://nigerianstat.gov.ng/elibrary'\n",
        "  # url = \"https://web.archive.org/web/20230801120000/https://nigerianstat.gov.ng/elibrary\"\n",
        "\n",
        "  request=urllib.request.Request(url,) #The assembled request\n",
        "  response = urllib.request.urlopen(request)\n",
        "  soup = BeautifulSoup(response, 'html.parser')\n",
        "  for tr in soup.find_all('tr'):\n",
        "    rw = tr.findAll('td')\n",
        "    if 'food prices' in tr.text.lower() and month_year in tr.text.lower() :\n",
        "      result = rw\n",
        "  links = []\n",
        "  for a in result[-1].find_all('a', href=True):\n",
        "    links.append(a['href'])\n",
        "  return links\n"
      ]
    },
    {
      "cell_type": "code",
      "execution_count": 3,
      "metadata": {
        "colab": {
          "base_uri": "https://localhost:8080/"
        },
        "id": "Je3TGTYEJ4Sc",
        "outputId": "6535236e-101a-470d-c6a8-9230bdda4a58"
      },
      "outputs": [
        {
          "ename": "NameError",
          "evalue": "name 'urllib' is not defined",
          "output_type": "error",
          "traceback": [
            "\u001b[0;31m---------------------------------------------------------------------------\u001b[0m",
            "\u001b[0;31mNameError\u001b[0m                                 Traceback (most recent call last)",
            "Cell \u001b[0;32mIn[3], line 1\u001b[0m\n\u001b[0;32m----> 1\u001b[0m \u001b[43mget_page_link\u001b[49m\u001b[43m(\u001b[49m\u001b[38;5;124;43m'\u001b[39;49m\u001b[38;5;124;43maugust 2022\u001b[39;49m\u001b[38;5;124;43m'\u001b[39;49m\u001b[43m)\u001b[49m\n",
            "Cell \u001b[0;32mIn[2], line 5\u001b[0m, in \u001b[0;36mget_page_link\u001b[0;34m(month_year)\u001b[0m\n\u001b[1;32m      2\u001b[0m url \u001b[38;5;241m=\u001b[39m \u001b[38;5;124m'\u001b[39m\u001b[38;5;124mhttps://nigerianstat.gov.ng/elibrary\u001b[39m\u001b[38;5;124m'\u001b[39m\n\u001b[1;32m      3\u001b[0m \u001b[38;5;66;03m# url = \"https://web.archive.org/web/20230801120000/https://nigerianstat.gov.ng/elibrary\"\u001b[39;00m\n\u001b[0;32m----> 5\u001b[0m request\u001b[38;5;241m=\u001b[39m\u001b[43murllib\u001b[49m\u001b[38;5;241m.\u001b[39mrequest\u001b[38;5;241m.\u001b[39mRequest(url,) \u001b[38;5;66;03m#The assembled request\u001b[39;00m\n\u001b[1;32m      6\u001b[0m response \u001b[38;5;241m=\u001b[39m urllib\u001b[38;5;241m.\u001b[39mrequest\u001b[38;5;241m.\u001b[39murlopen(request)\n\u001b[1;32m      7\u001b[0m soup \u001b[38;5;241m=\u001b[39m BeautifulSoup(response, \u001b[38;5;124m'\u001b[39m\u001b[38;5;124mhtml.parser\u001b[39m\u001b[38;5;124m'\u001b[39m)\n",
            "\u001b[0;31mNameError\u001b[0m: name 'urllib' is not defined"
          ]
        }
      ],
      "source": [
        "get_page_link('august 2022')"
      ]
    },
    {
      "cell_type": "code",
      "execution_count": null,
      "metadata": {
        "id": "fREFNXLKCD1r"
      },
      "outputs": [],
      "source": []
    },
    {
      "cell_type": "code",
      "execution_count": 57,
      "metadata": {
        "colab": {
          "base_uri": "https://localhost:8080/"
        },
        "id": "Y6UGb1y3WoAt",
        "outputId": "31eb37b3-8eda-46c8-9d6c-864f3878e6a8"
      },
      "outputs": [
        {
          "data": {
            "text/plain": [
              "['https://nigerianstat.gov.ng/resource/SELECTED%20FOOD%20AUGUST%202022.xlsx']"
            ]
          },
          "execution_count": 57,
          "metadata": {},
          "output_type": "execute_result"
        }
      ],
      "source": [
        "\n",
        "def get_data_link():\n",
        "  url = get_page_link('august 2022')[0]\n",
        "\n",
        "  request=urllib.request.Request(url,) #The assembled request\n",
        "\n",
        "  response = urllib.request.urlopen(request)\n",
        "  soup = BeautifulSoup(response, 'html.parser')\n",
        "  links = []\n",
        "  for a in soup.find_all('a', href=True):\n",
        "      links.append(a['href'])\n",
        "  links = links[2:]\n",
        "  links = [link.replace(' ', '%20') for link in links if '.xlsx'  in link.lower()]\n",
        "  return links[0]\n",
        "get_data_link()"
      ]
    },
    {
      "cell_type": "code",
      "execution_count": 83,
      "metadata": {
        "id": "SHzVs6T2hoNG"
      },
      "outputs": [],
      "source": [
        "from bs4 import BeautifulSoup\n",
        "import requests\n",
        "import urllib.request \n",
        "import logging\n",
        "import warnings\n",
        "warnings.filterwarnings(\"ignore\")\n",
        "logging.basicConfig(level=logging.INFO)\n",
        "\n",
        "class Crawler:\n",
        "  def __init__(self, url, commodity, month_year):\n",
        "    self.url = url \n",
        "    self.month_year = month_year\n",
        "    self.commodity = commodity\n",
        "  def get_page_link(self):\n",
        "    # \n",
        "    request=urllib.request.Request(self.url,) #The assembled request\n",
        "    response = urllib.request.urlopen(request)\n",
        "    soup = BeautifulSoup(response, 'html.parser')\n",
        "    for tr in soup.find_all('tr'):\n",
        "      rw = tr.findAll('td')\n",
        "      if self.commodity in tr.text.lower() and self.month_year in tr.text.lower():\n",
        "        result = rw\n",
        "    links = []\n",
        "    for a in result[-1].find_all('a', href=True):\n",
        "      links.append(a['href'])\n",
        "    return links[0]\n",
        "\n",
        "  def get_data_link(self, link_to_page):\n",
        "\n",
        "    request=urllib.request.Request(link_to_page,) #The assembled request\n",
        "    response = urllib.request.urlopen(request)\n",
        "    soup = BeautifulSoup(response, 'html.parser')\n",
        "    links = []\n",
        "    for a in soup.find_all('a', href=True):\n",
        "      links.append(a['href'])\n",
        "    links = links[2:]\n",
        "    links = [link.replace(' ', '%20') for link in links if '.xlsx'  in link.lower()]\n",
        "    return links[0]"
      ]
    },
    {
      "cell_type": "code",
      "execution_count": 84,
      "metadata": {
        "id": "5RI9BMBWkWRE"
      },
      "outputs": [],
      "source": [
        "url = 'https://nigerianstat.gov.ng/elibrary'\n",
        "food_crawler = Crawler(url, 'food price', 'august 2022')\n",
        "data_link = food_crawler.get_data_link(food_crawler.get_page_link())"
      ]
    },
    {
      "cell_type": "code",
      "execution_count": 85,
      "metadata": {
        "colab": {
          "base_uri": "https://localhost:8080/",
          "height": 36
        },
        "id": "sVboFx1lmgTe",
        "outputId": "c3d70865-d743-418e-d22a-f643b46275f0"
      },
      "outputs": [
        {
          "data": {
            "application/vnd.google.colaboratory.intrinsic+json": {
              "type": "string"
            },
            "text/plain": [
              "'https://nigerianstat.gov.ng/resource/SELECTED%20FOOD%20AUGUST%202022.xlsx'"
            ]
          },
          "execution_count": 85,
          "metadata": {},
          "output_type": "execute_result"
        }
      ],
      "source": [
        "data_link"
      ]
    },
    {
      "cell_type": "code",
      "execution_count": 88,
      "metadata": {
        "id": "k9fz8rA_p0TT"
      },
      "outputs": [],
      "source": []
    },
    {
      "cell_type": "code",
      "execution_count": null,
      "metadata": {
        "id": "qLRv0jUPrBaF"
      },
      "outputs": [],
      "source": []
    }
  ],
  "metadata": {
    "colab": {
      "authorship_tag": "ABX9TyOttWWJK1oww9IBe+cEDMFq",
      "include_colab_link": true,
      "provenance": []
    },
    "kernelspec": {
      "display_name": "Python 3",
      "language": "python",
      "name": "python3"
    },
    "language_info": {
      "codemirror_mode": {
        "name": "ipython",
        "version": 3
      },
      "file_extension": ".py",
      "mimetype": "text/x-python",
      "name": "python",
      "nbconvert_exporter": "python",
      "pygments_lexer": "ipython3",
      "version": "3.9.6"
    }
  },
  "nbformat": 4,
  "nbformat_minor": 0
}
